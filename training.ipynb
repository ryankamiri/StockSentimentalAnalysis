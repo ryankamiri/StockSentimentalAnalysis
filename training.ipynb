{
 "cells": [
  {
   "cell_type": "markdown",
   "metadata": {},
   "source": [
    "First, we load in the data."
   ]
  },
  {
   "cell_type": "code",
   "execution_count": 14,
   "metadata": {},
   "outputs": [],
   "source": [
    "import json\n",
    "\n",
    "with open(\"./data/training_data.json\", 'r') as f:\n",
    "    datastore = json.load(f)\n",
    "\n",
    "headlines = []\n",
    "labels = []\n",
    "\n",
    "for item in datastore:\n",
    "    headlines.append(item['title'])\n",
    "    labels.append(item['good_news'])"
   ]
  },
  {
   "cell_type": "markdown",
   "metadata": {},
   "source": [
    "Augment NLP with Translate\n"
   ]
  },
  {
   "cell_type": "code",
   "execution_count": 15,
   "metadata": {},
   "outputs": [],
   "source": [
    "from deep_translator import GoogleTranslator\n",
    "\n",
    "def back_translate(sequence, language=\"es\"):\n",
    "    translated = GoogleTranslator(source='auto', target=language).translate(sequence)\n",
    "\n",
    "    translated_back = GoogleTranslator(source=language, target=\"en\").translate(translated)\n",
    "\n",
    "    return translated_back"
   ]
  },
  {
   "cell_type": "code",
   "execution_count": 16,
   "metadata": {},
   "outputs": [
    {
     "data": {
      "application/vnd.jupyter.widget-view+json": {
       "model_id": "b457f012baf044fcaa4308ce75f67582",
       "version_major": 2,
       "version_minor": 0
      },
      "text/plain": [
       "  0%|          | 0/1208 [00:00<?, ?it/s]"
      ]
     },
     "metadata": {},
     "output_type": "display_data"
    },
    {
     "name": "stdout",
     "output_type": "stream",
     "text": [
      "Added 1120 augmented data to create a new training size of 2328 compared to the previous size of 1208\n"
     ]
    }
   ],
   "source": [
    "from tqdm.notebook import tqdm\n",
    "\n",
    "previous_size = len(headlines)\n",
    "\n",
    "pbar = tqdm(total=len(headlines))\n",
    "for i in range(len(headlines)):\n",
    "    headline = headlines[i]\n",
    "    label = labels[i]\n",
    "    new_headline = back_translate(headline)\n",
    "    if new_headline != headline:\n",
    "        headlines.append(new_headline)\n",
    "        labels.append(label)\n",
    "    pbar.update(1)\n",
    "\n",
    "print(f\"Added {len(headlines) - previous_size} augmented data to create a new training size of {len(headlines)} compared to the previous size of {previous_size}\")\n",
    "pbar.close()"
   ]
  },
  {
   "cell_type": "markdown",
   "metadata": {},
   "source": [
    "Download nltk resources"
   ]
  },
  {
   "cell_type": "code",
   "execution_count": null,
   "metadata": {},
   "outputs": [],
   "source": [
    "import nltk\n",
    "nltk.download ()"
   ]
  },
  {
   "cell_type": "markdown",
   "metadata": {},
   "source": [
    "Remove stop words and contractions."
   ]
  },
  {
   "cell_type": "code",
   "execution_count": 17,
   "metadata": {},
   "outputs": [],
   "source": [
    "from nltk.corpus import stopwords\n",
    "from nltk.stem import PorterStemmer\n",
    "\n",
    "stemmer=PorterStemmer()\n",
    "for i in range(len(headlines)):\n",
    "    words = []\n",
    "    for word in headlines[i].split():\n",
    "        if not word in stopwords.words('english'):\n",
    "            words.append(stemmer.stem(word).replace(\"'\", \"\"))\n",
    "\n",
    "    headlines[i]=' '.join(words)\n",
    "\n",
    "\n"
   ]
  },
  {
   "cell_type": "markdown",
   "metadata": {},
   "source": [
    "Split the data."
   ]
  },
  {
   "cell_type": "code",
   "execution_count": 18,
   "metadata": {},
   "outputs": [
    {
     "name": "stdout",
     "output_type": "stream",
     "text": [
      "Split into 1746 Training sets and 582 Testing sets.\n"
     ]
    }
   ],
   "source": [
    "from sklearn.model_selection import train_test_split\n",
    "training_headlines, testing_headlines, training_labels, testing_labels = train_test_split(headlines, labels, train_size=0.75)\n",
    "print(f\"Split into {len(training_headlines)} Training sets and {len(testing_headlines)} Testing sets.\")"
   ]
  },
  {
   "cell_type": "code",
   "execution_count": 19,
   "metadata": {},
   "outputs": [
    {
     "name": "stdout",
     "output_type": "stream",
     "text": [
      "Word Index Size: 3508\n"
     ]
    }
   ],
   "source": [
    "import numpy as np\n",
    "from tensorflow.keras.preprocessing.text import Tokenizer\n",
    "from tensorflow.keras.preprocessing.sequence import pad_sequences\n",
    "\n",
    "vocab_size = 10000\n",
    "max_length = 25\n",
    "trunc_type='post'\n",
    "padding_type='post'\n",
    "oov_tok = \"<OOV>\"\n",
    "\n",
    "tokenizer = Tokenizer(num_words=vocab_size, oov_token=oov_tok)\n",
    "\n",
    "# training tokenizer\n",
    "tokenizer.fit_on_texts(headlines)\n",
    "word_index = tokenizer.word_index\n",
    "print(f\"Word Index Size: {len(word_index)}\")\n",
    "\n",
    "# adding padding \n",
    "training_sequences = tokenizer.texts_to_sequences(training_headlines)\n",
    "training_padded = pad_sequences(training_sequences, maxlen=max_length, padding=padding_type, truncating=trunc_type)\n",
    "\n",
    "testing_sequences = tokenizer.texts_to_sequences(testing_headlines)\n",
    "testing_padded = pad_sequences(testing_sequences, maxlen=max_length, padding=padding_type, truncating=trunc_type)\n",
    "\n",
    "training_labels = np.array(training_labels)\n",
    "testing_labels = np.array(testing_labels)"
   ]
  },
  {
   "cell_type": "markdown",
   "metadata": {},
   "source": [
    "Tune Hyperparameters."
   ]
  },
  {
   "cell_type": "code",
   "execution_count": 20,
   "metadata": {},
   "outputs": [],
   "source": [
    "embedding_dim = 10\n",
    "batch_size = 32\n",
    "epochs = 100\n",
    "learning_rate = 2e-4"
   ]
  },
  {
   "cell_type": "code",
   "execution_count": 21,
   "metadata": {},
   "outputs": [],
   "source": [
    "import tensorflow as tf\n",
    "\n",
    "tf.keras.backend.clear_session()\n",
    "\n",
    "model = tf.keras.Sequential([\n",
    "    tf.keras.layers.Embedding(vocab_size, embedding_dim, input_length=max_length),\n",
    "    tf.keras.layers.Dropout(0.5),\n",
    "    tf.keras.layers.Bidirectional(tf.keras.layers.LSTM(16)),\n",
    "    tf.keras.layers.Dropout(0.5),\n",
    "    tf.keras.layers.Dense(10, activation=\"relu\"),\n",
    "    tf.keras.layers.Dense(1, activation=\"sigmoid\")\n",
    "])\n",
    "\n",
    "model.compile(loss=\"binary_crossentropy\", optimizer= tf.keras.optimizers.Adam(learning_rate=learning_rate), metrics=[\"accuracy\"])"
   ]
  },
  {
   "cell_type": "markdown",
   "metadata": {},
   "source": [
    "Train model."
   ]
  },
  {
   "cell_type": "code",
   "execution_count": 22,
   "metadata": {},
   "outputs": [
    {
     "name": "stdout",
     "output_type": "stream",
     "text": [
      "Epoch 1/100\n",
      "55/55 [==============================] - 11s 24ms/step - loss: 0.6931 - accuracy: 0.5006 - val_loss: 0.6932 - val_accuracy: 0.4931\n",
      "Epoch 2/100\n",
      "55/55 [==============================] - 1s 12ms/step - loss: 0.6928 - accuracy: 0.5206 - val_loss: 0.6930 - val_accuracy: 0.5223\n",
      "Epoch 3/100\n",
      "55/55 [==============================] - 1s 12ms/step - loss: 0.6934 - accuracy: 0.4885 - val_loss: 0.6928 - val_accuracy: 0.5017\n",
      "Epoch 4/100\n",
      "55/55 [==============================] - 1s 11ms/step - loss: 0.6927 - accuracy: 0.5183 - val_loss: 0.6925 - val_accuracy: 0.5773\n",
      "Epoch 5/100\n",
      "55/55 [==============================] - 1s 11ms/step - loss: 0.6922 - accuracy: 0.5298 - val_loss: 0.6920 - val_accuracy: 0.5773\n",
      "Epoch 6/100\n",
      "55/55 [==============================] - 1s 11ms/step - loss: 0.6915 - accuracy: 0.5367 - val_loss: 0.6912 - val_accuracy: 0.5859\n",
      "Epoch 7/100\n",
      "55/55 [==============================] - 1s 12ms/step - loss: 0.6896 - accuracy: 0.5979 - val_loss: 0.6891 - val_accuracy: 0.6564\n",
      "Epoch 8/100\n",
      "55/55 [==============================] - 1s 12ms/step - loss: 0.6845 - accuracy: 0.6667 - val_loss: 0.6828 - val_accuracy: 0.7216\n",
      "Epoch 9/100\n",
      "55/55 [==============================] - 1s 12ms/step - loss: 0.6721 - accuracy: 0.7199 - val_loss: 0.6661 - val_accuracy: 0.7474\n",
      "Epoch 10/100\n",
      "55/55 [==============================] - 1s 12ms/step - loss: 0.6397 - accuracy: 0.7405 - val_loss: 0.6244 - val_accuracy: 0.7698\n",
      "Epoch 11/100\n",
      "55/55 [==============================] - 1s 12ms/step - loss: 0.5866 - accuracy: 0.7761 - val_loss: 0.5684 - val_accuracy: 0.8093\n",
      "Epoch 12/100\n",
      "55/55 [==============================] - 1s 12ms/step - loss: 0.4982 - accuracy: 0.8265 - val_loss: 0.4877 - val_accuracy: 0.7973\n",
      "Epoch 13/100\n",
      "55/55 [==============================] - 1s 12ms/step - loss: 0.3712 - accuracy: 0.8677 - val_loss: 0.3780 - val_accuracy: 0.8557\n",
      "Epoch 14/100\n",
      "55/55 [==============================] - 1s 12ms/step - loss: 0.2661 - accuracy: 0.9095 - val_loss: 0.3195 - val_accuracy: 0.8763\n",
      "Epoch 15/100\n",
      "55/55 [==============================] - 1s 11ms/step - loss: 0.1988 - accuracy: 0.9341 - val_loss: 0.2879 - val_accuracy: 0.8780\n",
      "Epoch 16/100\n",
      "55/55 [==============================] - 1s 11ms/step - loss: 0.1795 - accuracy: 0.9496 - val_loss: 0.2885 - val_accuracy: 0.8918\n",
      "Epoch 17/100\n",
      "55/55 [==============================] - 1s 11ms/step - loss: 0.1287 - accuracy: 0.9674 - val_loss: 0.2625 - val_accuracy: 0.9072\n",
      "Epoch 18/100\n",
      "55/55 [==============================] - 1s 11ms/step - loss: 0.1290 - accuracy: 0.9622 - val_loss: 0.2481 - val_accuracy: 0.9158\n",
      "Epoch 19/100\n",
      "55/55 [==============================] - 1s 11ms/step - loss: 0.0996 - accuracy: 0.9759 - val_loss: 0.2422 - val_accuracy: 0.9227\n",
      "Epoch 20/100\n",
      "55/55 [==============================] - 1s 11ms/step - loss: 0.0909 - accuracy: 0.9742 - val_loss: 0.2444 - val_accuracy: 0.9244\n",
      "Epoch 21/100\n",
      "55/55 [==============================] - 1s 11ms/step - loss: 0.0825 - accuracy: 0.9754 - val_loss: 0.2398 - val_accuracy: 0.9278\n",
      "Epoch 22/100\n",
      "55/55 [==============================] - 1s 12ms/step - loss: 0.0732 - accuracy: 0.9782 - val_loss: 0.2485 - val_accuracy: 0.9278\n",
      "Epoch 23/100\n",
      "55/55 [==============================] - 1s 12ms/step - loss: 0.0817 - accuracy: 0.9731 - val_loss: 0.2358 - val_accuracy: 0.9347\n",
      "Epoch 24/100\n",
      "55/55 [==============================] - 1s 11ms/step - loss: 0.0686 - accuracy: 0.9800 - val_loss: 0.2564 - val_accuracy: 0.9244\n",
      "Epoch 25/100\n",
      "55/55 [==============================] - 1s 12ms/step - loss: 0.0689 - accuracy: 0.9811 - val_loss: 0.2353 - val_accuracy: 0.9330\n",
      "Epoch 26/100\n",
      "55/55 [==============================] - 1s 12ms/step - loss: 0.0566 - accuracy: 0.9834 - val_loss: 0.2331 - val_accuracy: 0.9347\n",
      "Epoch 27/100\n",
      "55/55 [==============================] - 1s 12ms/step - loss: 0.0535 - accuracy: 0.9845 - val_loss: 0.2364 - val_accuracy: 0.9399\n",
      "Epoch 28/100\n",
      "55/55 [==============================] - 1s 12ms/step - loss: 0.0456 - accuracy: 0.9874 - val_loss: 0.2327 - val_accuracy: 0.9364\n",
      "Epoch 29/100\n",
      "55/55 [==============================] - 1s 12ms/step - loss: 0.0473 - accuracy: 0.9822 - val_loss: 0.2380 - val_accuracy: 0.9381\n",
      "Epoch 30/100\n",
      "55/55 [==============================] - 1s 12ms/step - loss: 0.0431 - accuracy: 0.9880 - val_loss: 0.2440 - val_accuracy: 0.9381\n",
      "Epoch 31/100\n",
      "55/55 [==============================] - 1s 11ms/step - loss: 0.0450 - accuracy: 0.9868 - val_loss: 0.2471 - val_accuracy: 0.9399\n",
      "Epoch 32/100\n",
      "55/55 [==============================] - 1s 11ms/step - loss: 0.0371 - accuracy: 0.9908 - val_loss: 0.2470 - val_accuracy: 0.9364\n",
      "Epoch 33/100\n",
      "55/55 [==============================] - 1s 11ms/step - loss: 0.0283 - accuracy: 0.9891 - val_loss: 0.2584 - val_accuracy: 0.9399\n",
      "Epoch 34/100\n",
      "55/55 [==============================] - 1s 11ms/step - loss: 0.0383 - accuracy: 0.9880 - val_loss: 0.2513 - val_accuracy: 0.9381\n",
      "Epoch 35/100\n",
      "55/55 [==============================] - 1s 11ms/step - loss: 0.0344 - accuracy: 0.9908 - val_loss: 0.2468 - val_accuracy: 0.9364\n",
      "Epoch 36/100\n",
      "55/55 [==============================] - 1s 11ms/step - loss: 0.0314 - accuracy: 0.9897 - val_loss: 0.2535 - val_accuracy: 0.9364\n",
      "Epoch 37/100\n",
      "55/55 [==============================] - 1s 12ms/step - loss: 0.0435 - accuracy: 0.9874 - val_loss: 0.2382 - val_accuracy: 0.9416\n",
      "Epoch 38/100\n",
      "55/55 [==============================] - 1s 13ms/step - loss: 0.0251 - accuracy: 0.9931 - val_loss: 0.2448 - val_accuracy: 0.9347\n",
      "Epoch 39/100\n",
      "55/55 [==============================] - 1s 10ms/step - loss: 0.0469 - accuracy: 0.9874 - val_loss: 0.2353 - val_accuracy: 0.9416\n",
      "Epoch 40/100\n",
      "55/55 [==============================] - 1s 10ms/step - loss: 0.0245 - accuracy: 0.9937 - val_loss: 0.2437 - val_accuracy: 0.9433\n",
      "Epoch 41/100\n",
      "55/55 [==============================] - 1s 10ms/step - loss: 0.0247 - accuracy: 0.9931 - val_loss: 0.2536 - val_accuracy: 0.9399\n",
      "Epoch 42/100\n",
      "55/55 [==============================] - 1s 11ms/step - loss: 0.0138 - accuracy: 0.9977 - val_loss: 0.2559 - val_accuracy: 0.9433\n",
      "Epoch 43/100\n",
      "55/55 [==============================] - 1s 11ms/step - loss: 0.0344 - accuracy: 0.9897 - val_loss: 0.2624 - val_accuracy: 0.9364\n",
      "Epoch 44/100\n",
      "55/55 [==============================] - 1s 11ms/step - loss: 0.0337 - accuracy: 0.9885 - val_loss: 0.2548 - val_accuracy: 0.9399\n",
      "Epoch 45/100\n",
      "55/55 [==============================] - 1s 11ms/step - loss: 0.0228 - accuracy: 0.9943 - val_loss: 0.2558 - val_accuracy: 0.9399\n",
      "Epoch 46/100\n",
      "55/55 [==============================] - 1s 12ms/step - loss: 0.0175 - accuracy: 0.9960 - val_loss: 0.2677 - val_accuracy: 0.9381\n",
      "Epoch 47/100\n",
      "55/55 [==============================] - 1s 12ms/step - loss: 0.0173 - accuracy: 0.9960 - val_loss: 0.2721 - val_accuracy: 0.9399\n",
      "Epoch 48/100\n",
      "55/55 [==============================] - 1s 12ms/step - loss: 0.0261 - accuracy: 0.9914 - val_loss: 0.2737 - val_accuracy: 0.9381\n",
      "Epoch 49/100\n",
      "55/55 [==============================] - 1s 12ms/step - loss: 0.0124 - accuracy: 0.9971 - val_loss: 0.2794 - val_accuracy: 0.9399\n",
      "Epoch 50/100\n",
      "55/55 [==============================] - 1s 11ms/step - loss: 0.0217 - accuracy: 0.9948 - val_loss: 0.2826 - val_accuracy: 0.9399\n",
      "Epoch 51/100\n",
      "55/55 [==============================] - 1s 11ms/step - loss: 0.0154 - accuracy: 0.9954 - val_loss: 0.2852 - val_accuracy: 0.9433\n",
      "Epoch 52/100\n",
      "55/55 [==============================] - 1s 12ms/step - loss: 0.0196 - accuracy: 0.9948 - val_loss: 0.2771 - val_accuracy: 0.9399\n",
      "Epoch 53/100\n",
      "55/55 [==============================] - 1s 12ms/step - loss: 0.0148 - accuracy: 0.9948 - val_loss: 0.2765 - val_accuracy: 0.9416\n",
      "Epoch 54/100\n",
      "55/55 [==============================] - 1s 12ms/step - loss: 0.0183 - accuracy: 0.9960 - val_loss: 0.2926 - val_accuracy: 0.9416\n",
      "Epoch 55/100\n",
      "55/55 [==============================] - 1s 12ms/step - loss: 0.0199 - accuracy: 0.9931 - val_loss: 0.2929 - val_accuracy: 0.9399\n",
      "Epoch 56/100\n",
      "55/55 [==============================] - 1s 12ms/step - loss: 0.0136 - accuracy: 0.9960 - val_loss: 0.2790 - val_accuracy: 0.9467\n",
      "Epoch 57/100\n",
      "55/55 [==============================] - 1s 12ms/step - loss: 0.0150 - accuracy: 0.9948 - val_loss: 0.2869 - val_accuracy: 0.9433\n",
      "Epoch 58/100\n",
      "55/55 [==============================] - 1s 12ms/step - loss: 0.0149 - accuracy: 0.9971 - val_loss: 0.2859 - val_accuracy: 0.9450\n",
      "Epoch 59/100\n",
      "55/55 [==============================] - 1s 12ms/step - loss: 0.0187 - accuracy: 0.9954 - val_loss: 0.2870 - val_accuracy: 0.9433\n",
      "Epoch 60/100\n",
      "55/55 [==============================] - 1s 12ms/step - loss: 0.0077 - accuracy: 0.9989 - val_loss: 0.3181 - val_accuracy: 0.9364\n",
      "Epoch 61/100\n",
      "55/55 [==============================] - 1s 11ms/step - loss: 0.0187 - accuracy: 0.9948 - val_loss: 0.2879 - val_accuracy: 0.9416\n",
      "Epoch 62/100\n",
      "55/55 [==============================] - 1s 12ms/step - loss: 0.0149 - accuracy: 0.9971 - val_loss: 0.2825 - val_accuracy: 0.9467\n",
      "Epoch 63/100\n",
      "55/55 [==============================] - 1s 12ms/step - loss: 0.0185 - accuracy: 0.9948 - val_loss: 0.2818 - val_accuracy: 0.9467\n",
      "Epoch 64/100\n",
      "55/55 [==============================] - 1s 12ms/step - loss: 0.0086 - accuracy: 0.9977 - val_loss: 0.2943 - val_accuracy: 0.9416\n",
      "Epoch 65/100\n",
      "55/55 [==============================] - 1s 12ms/step - loss: 0.0161 - accuracy: 0.9960 - val_loss: 0.2900 - val_accuracy: 0.9433\n",
      "Epoch 66/100\n",
      "55/55 [==============================] - 1s 12ms/step - loss: 0.0089 - accuracy: 0.9960 - val_loss: 0.3027 - val_accuracy: 0.9399\n",
      "Epoch 67/100\n",
      "55/55 [==============================] - 1s 12ms/step - loss: 0.0129 - accuracy: 0.9971 - val_loss: 0.3023 - val_accuracy: 0.9416\n",
      "Epoch 68/100\n",
      "55/55 [==============================] - 1s 12ms/step - loss: 0.0180 - accuracy: 0.9948 - val_loss: 0.3038 - val_accuracy: 0.9416\n",
      "Epoch 69/100\n",
      "55/55 [==============================] - 1s 12ms/step - loss: 0.0072 - accuracy: 0.9983 - val_loss: 0.3119 - val_accuracy: 0.9433\n",
      "Epoch 70/100\n",
      "55/55 [==============================] - 1s 11ms/step - loss: 0.0169 - accuracy: 0.9943 - val_loss: 0.2950 - val_accuracy: 0.9399\n",
      "Epoch 71/100\n",
      "55/55 [==============================] - 1s 11ms/step - loss: 0.0158 - accuracy: 0.9948 - val_loss: 0.3008 - val_accuracy: 0.9433\n",
      "Epoch 72/100\n",
      "55/55 [==============================] - 1s 11ms/step - loss: 0.0091 - accuracy: 0.9971 - val_loss: 0.2906 - val_accuracy: 0.9416\n",
      "Epoch 73/100\n",
      "55/55 [==============================] - 1s 12ms/step - loss: 0.0091 - accuracy: 0.9977 - val_loss: 0.3045 - val_accuracy: 0.9433\n",
      "Epoch 74/100\n",
      "55/55 [==============================] - 1s 12ms/step - loss: 0.0087 - accuracy: 0.9977 - val_loss: 0.3151 - val_accuracy: 0.9416\n",
      "Epoch 75/100\n",
      "55/55 [==============================] - 1s 12ms/step - loss: 0.0075 - accuracy: 0.9977 - val_loss: 0.3094 - val_accuracy: 0.9433\n",
      "Epoch 76/100\n",
      "55/55 [==============================] - 1s 12ms/step - loss: 0.0107 - accuracy: 0.9977 - val_loss: 0.3092 - val_accuracy: 0.9433\n",
      "Epoch 77/100\n",
      "55/55 [==============================] - 1s 12ms/step - loss: 0.0122 - accuracy: 0.9966 - val_loss: 0.3283 - val_accuracy: 0.9450\n",
      "Epoch 78/100\n",
      "55/55 [==============================] - 1s 11ms/step - loss: 0.0174 - accuracy: 0.9954 - val_loss: 0.3127 - val_accuracy: 0.9416\n",
      "Epoch 79/100\n",
      "55/55 [==============================] - 1s 11ms/step - loss: 0.0057 - accuracy: 0.9989 - val_loss: 0.3077 - val_accuracy: 0.9433\n",
      "Epoch 80/100\n",
      "55/55 [==============================] - 1s 11ms/step - loss: 0.0040 - accuracy: 0.9994 - val_loss: 0.3240 - val_accuracy: 0.9433\n",
      "Epoch 81/100\n",
      "55/55 [==============================] - 1s 11ms/step - loss: 0.0111 - accuracy: 0.9960 - val_loss: 0.3168 - val_accuracy: 0.9450\n",
      "Epoch 82/100\n",
      "55/55 [==============================] - 1s 12ms/step - loss: 0.0110 - accuracy: 0.9977 - val_loss: 0.3009 - val_accuracy: 0.9433\n",
      "Epoch 83/100\n",
      "55/55 [==============================] - 1s 12ms/step - loss: 0.0089 - accuracy: 0.9960 - val_loss: 0.3383 - val_accuracy: 0.9381\n",
      "Epoch 84/100\n",
      "55/55 [==============================] - 1s 12ms/step - loss: 0.0107 - accuracy: 0.9960 - val_loss: 0.3385 - val_accuracy: 0.9433\n",
      "Epoch 85/100\n",
      "55/55 [==============================] - 1s 11ms/step - loss: 0.0153 - accuracy: 0.9966 - val_loss: 0.3109 - val_accuracy: 0.9399\n",
      "Epoch 86/100\n",
      "55/55 [==============================] - 1s 11ms/step - loss: 0.0179 - accuracy: 0.9948 - val_loss: 0.2987 - val_accuracy: 0.9450\n",
      "Epoch 87/100\n",
      "55/55 [==============================] - 1s 12ms/step - loss: 0.0132 - accuracy: 0.9937 - val_loss: 0.2936 - val_accuracy: 0.9467\n",
      "Epoch 88/100\n",
      "55/55 [==============================] - 1s 11ms/step - loss: 0.0049 - accuracy: 0.9989 - val_loss: 0.2964 - val_accuracy: 0.9485\n",
      "Epoch 89/100\n",
      "55/55 [==============================] - 1s 12ms/step - loss: 0.0048 - accuracy: 0.9983 - val_loss: 0.3107 - val_accuracy: 0.9467\n",
      "Epoch 90/100\n",
      "55/55 [==============================] - 1s 12ms/step - loss: 0.0050 - accuracy: 0.9989 - val_loss: 0.3341 - val_accuracy: 0.9416\n",
      "Epoch 91/100\n",
      "55/55 [==============================] - 1s 11ms/step - loss: 0.0089 - accuracy: 0.9977 - val_loss: 0.3260 - val_accuracy: 0.9450\n",
      "Epoch 92/100\n",
      "55/55 [==============================] - 1s 11ms/step - loss: 0.0056 - accuracy: 0.9989 - val_loss: 0.3169 - val_accuracy: 0.9485\n",
      "Epoch 93/100\n",
      "55/55 [==============================] - 1s 11ms/step - loss: 0.0060 - accuracy: 0.9983 - val_loss: 0.3219 - val_accuracy: 0.9485\n",
      "Epoch 94/100\n",
      "55/55 [==============================] - 1s 12ms/step - loss: 0.0051 - accuracy: 0.9994 - val_loss: 0.3301 - val_accuracy: 0.9485\n",
      "Epoch 95/100\n",
      "55/55 [==============================] - 1s 12ms/step - loss: 0.0034 - accuracy: 0.9994 - val_loss: 0.3350 - val_accuracy: 0.9485\n",
      "Epoch 96/100\n",
      "55/55 [==============================] - 1s 11ms/step - loss: 0.0095 - accuracy: 0.9971 - val_loss: 0.3267 - val_accuracy: 0.9485\n",
      "Epoch 97/100\n",
      "55/55 [==============================] - 1s 12ms/step - loss: 0.0102 - accuracy: 0.9983 - val_loss: 0.3085 - val_accuracy: 0.9485\n",
      "Epoch 98/100\n",
      "55/55 [==============================] - 1s 12ms/step - loss: 0.0065 - accuracy: 0.9977 - val_loss: 0.3196 - val_accuracy: 0.9467\n",
      "Epoch 99/100\n",
      "55/55 [==============================] - 1s 11ms/step - loss: 0.0052 - accuracy: 0.9983 - val_loss: 0.3241 - val_accuracy: 0.9467\n",
      "Epoch 100/100\n",
      "55/55 [==============================] - 1s 11ms/step - loss: 0.0052 - accuracy: 0.9983 - val_loss: 0.3246 - val_accuracy: 0.9485\n"
     ]
    }
   ],
   "source": [
    "lr_schedule = tf.keras.callbacks.LearningRateScheduler(\n",
    "    lambda epoch: 1e-8 * 10**(epoch / 20))\n",
    "\n",
    "history = model.fit(training_padded, training_labels, batch_size=batch_size, epochs=epochs, validation_data=(testing_padded, testing_labels), callbacks=[])"
   ]
  },
  {
   "cell_type": "markdown",
   "metadata": {},
   "source": [
    "Plot findings."
   ]
  },
  {
   "cell_type": "code",
   "execution_count": 24,
   "metadata": {},
   "outputs": [],
   "source": [
    "import matplotlib.pyplot as plt\n",
    "\n",
    "def plot_graphs(history, string):\n",
    "    plt.plot(history.history[string])\n",
    "    plt.plot(history.history['val_'+string])\n",
    "    plt.xlabel(\"Epochs\")\n",
    "    plt.ylabel(string)\n",
    "    plt.legend([string, 'val_'+string])\n",
    "    plt.show()\n",
    "\n",
    "def plot_lr(history):\n",
    "    lrs = 1e-8 * (10 ** (np.arange(epochs) / 20))\n",
    "\n",
    "    # Set the figure size\n",
    "    plt.figure(figsize=(10, 6))\n",
    "\n",
    "    # Set the grid\n",
    "    plt.grid(True)\n",
    "\n",
    "    # Plot the loss in log scale\n",
    "    plt.semilogx(lrs, history.history[\"val_loss\"])\n",
    "\n",
    "    # Increase the tickmarks size\n",
    "    plt.tick_params('both', length=10, width=1, which='both')\n",
    "\n",
    "    # Set the plot boundaries\n",
    "    plt.axis([1e-8, 1e-3, 0, 2])\n",
    "    plt.show()"
   ]
  },
  {
   "cell_type": "code",
   "execution_count": 25,
   "metadata": {},
   "outputs": [
    {
     "data": {
      "image/png": "[encoded data removed]",
      "text/plain": [
       "<Figure size 432x288 with 1 Axes>"
      ]
     },
     "metadata": {
      "needs_background": "light"
     },
     "output_type": "display_data"
    },
    {
     "data": {
      "image/png": "[encoded data removed]",
      "text/plain": [
       "<Figure size 432x288 with 1 Axes>"
      ]
     },
     "metadata": {
      "needs_background": "light"
     },
     "output_type": "display_data"
    }
   ],
   "source": [
    "#plot_lr(history)\n",
    "plot_graphs(history, \"accuracy\")\n",
    "plot_graphs(history, \"loss\")"
   ]
  }
 ],
 "metadata": {
  "kernelspec": {
   "display_name": "Python 3.9.9 64-bit",
   "language": "python",
   "name": "python3"
  },
  "language_info": {
   "codemirror_mode": {
    "name": "ipython",
    "version": 3
   },
   "file_extension": ".py",
   "mimetype": "text/x-python",
   "name": "python",
   "nbconvert_exporter": "python",
   "pygments_lexer": "ipython3",
   "version": "3.9.9"
  },
  "orig_nbformat": 4,
  "vscode": {
   "interpreter": {
    "hash": "79188e7b3db958bc33c0eddae362b792fd2a35c877eabc176cb34dd7f9cc4927"
   }
  }
 },
 "nbformat": 4,
 "nbformat_minor": 2
}
