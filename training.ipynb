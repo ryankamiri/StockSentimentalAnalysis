{
 "cells": [
  {
   "cell_type": "markdown",
   "metadata": {},
   "source": [
    "First, we load in the data."
   ]
  },
  {
   "cell_type": "code",
   "execution_count": 178,
   "metadata": {},
   "outputs": [],
   "source": [
    "import json\n",
    "\n",
    "with open(\"./data/training_data.json\", 'r') as f:\n",
    "    datastore = json.load(f)\n",
    "\n",
    "headlines = []\n",
    "labels = []\n",
    "\n",
    "for item in datastore:\n",
    "    headlines.append(item['title'])\n",
    "    labels.append(item['good_news'])"
   ]
  },
  {
   "cell_type": "markdown",
   "metadata": {},
   "source": [
    "Split the data."
   ]
  },
  {
   "cell_type": "code",
   "execution_count": 179,
   "metadata": {},
   "outputs": [
    {
     "name": "stdout",
     "output_type": "stream",
     "text": [
      "Split into 2254 Training sets and 564 Testing sets.\n"
     ]
    }
   ],
   "source": [
    "from sklearn.model_selection import train_test_split\n",
    "training_headlines, testing_headlines, training_labels, testing_labels = train_test_split(headlines, labels, train_size=0.80)\n",
    "print(f\"Split into {len(training_headlines)} Training sets and {len(testing_headlines)} Testing sets.\")"
   ]
  },
  {
   "cell_type": "markdown",
   "metadata": {},
   "source": [
    "Augment NLP with Translate\n"
   ]
  },
  {
   "cell_type": "code",
   "execution_count": 103,
   "metadata": {},
   "outputs": [],
   "source": [
    "from deep_translator import GoogleTranslator\n",
    "\n",
    "def back_translate(sequence, language=\"es\"):\n",
    "    translated = GoogleTranslator(source='auto', target=language).translate(sequence)\n",
    "\n",
    "    translated_back = GoogleTranslator(source=language, target=\"en\").translate(translated)\n",
    "\n",
    "    return translated_back"
   ]
  },
  {
   "cell_type": "code",
   "execution_count": 104,
   "metadata": {},
   "outputs": [
    {
     "data": {
      "application/vnd.jupyter.widget-view+json": {
       "model_id": "1955dd4bbb844a4fb2005c11daa0091f",
       "version_major": 2,
       "version_minor": 0
      },
      "text/plain": [
       "  0%|          | 0/1494 [00:00<?, ?it/s]"
      ]
     },
     "metadata": {},
     "output_type": "display_data"
    },
    {
     "name": "stdout",
     "output_type": "stream",
     "text": [
      "Added 498 augmented data to create a new training size of 2166 compared to the previous size of 1494\n"
     ]
    }
   ],
   "source": [
    "from tqdm.notebook import tqdm\n",
    "import random\n",
    "\n",
    "previous_size = len(training_headlines)\n",
    "\n",
    "pbar = tqdm(total=len(training_headlines))\n",
    "for i in range(len(training_headlines)):\n",
    "    if random.randint(0, 1) == 0:\n",
    "        pbar.update(1)\n",
    "        continue\n",
    "    headline = training_headlines[i]\n",
    "    label = training_labels[i]\n",
    "    new_headline = back_translate(headline)\n",
    "    if new_headline != headline:\n",
    "        training_headlines.append(new_headline)\n",
    "        training_labels.append(label)\n",
    "    pbar.update(1)\n",
    "\n",
    "print(f\"Added {len(headlines) - previous_size} augmented data to create a new training size of {len(training_headlines)} compared to the previous size of {previous_size}\")\n",
    "pbar.close()"
   ]
  },
  {
   "cell_type": "markdown",
   "metadata": {},
   "source": [
    "Download nltk resources"
   ]
  },
  {
   "cell_type": "code",
   "execution_count": null,
   "metadata": {},
   "outputs": [],
   "source": [
    "import nltk\n",
    "nltk.download ()"
   ]
  },
  {
   "cell_type": "markdown",
   "metadata": {},
   "source": [
    "Remove stop words and contractions."
   ]
  },
  {
   "cell_type": "code",
   "execution_count": 180,
   "metadata": {},
   "outputs": [],
   "source": [
    "from nltk.corpus import stopwords\n",
    "from nltk.stem import PorterStemmer\n",
    "\n",
    "stemmer=PorterStemmer()\n",
    "\n",
    "def preProcess(sentence):\n",
    "    words = []\n",
    "    for word in sentence.split():\n",
    "        if not word in stopwords.words('english'):\n",
    "            words.append(stemmer.stem(word).replace(\"'\", \"\"))\n",
    "\n",
    "    return ' '.join(words)\n"
   ]
  },
  {
   "cell_type": "code",
   "execution_count": 181,
   "metadata": {},
   "outputs": [],
   "source": [
    "iters = [training_headlines, testing_headlines]\n",
    "\n",
    "for h in iters:\n",
    "    for i in range(len(h)):\n",
    "        h[i] = preProcess(h[i])\n",
    "\n",
    "\n"
   ]
  },
  {
   "cell_type": "code",
   "execution_count": 182,
   "metadata": {},
   "outputs": [
    {
     "name": "stdout",
     "output_type": "stream",
     "text": [
      "Word Index Size: 5000\n"
     ]
    }
   ],
   "source": [
    "import numpy as np\n",
    "from tensorflow.keras.preprocessing.text import Tokenizer\n",
    "from tensorflow.keras.preprocessing.sequence import pad_sequences\n",
    "\n",
    "vocab_size = 10000\n",
    "max_length = 35\n",
    "trunc_type = \"post\"\n",
    "padding_type = \"post\"\n",
    "oov_tok = \"<OOV>\"\n",
    "\n",
    "tokenizer = Tokenizer(num_words=vocab_size, oov_token=oov_tok)\n",
    "\n",
    "# training tokenizer\n",
    "tokenizer.fit_on_texts(training_headlines)\n",
    "word_index = tokenizer.word_index\n",
    "print(f\"Word Index Size: {len(word_index)}\")\n",
    "\n",
    "# adding padding \n",
    "training_sequences = tokenizer.texts_to_sequences(training_headlines)\n",
    "training_padded = pad_sequences(training_sequences, maxlen=max_length, padding=padding_type, truncating=trunc_type)\n",
    "\n",
    "testing_sequences = tokenizer.texts_to_sequences(testing_headlines)\n",
    "testing_padded = pad_sequences(testing_sequences, maxlen=max_length, padding=padding_type, truncating=trunc_type)\n",
    "\n",
    "training_labels = np.array(training_labels)\n",
    "testing_labels = np.array(testing_labels)"
   ]
  },
  {
   "cell_type": "markdown",
   "metadata": {},
   "source": [
    "Tune Hyperparameters."
   ]
  },
  {
   "cell_type": "code",
   "execution_count": 375,
   "metadata": {},
   "outputs": [],
   "source": [
    "embedding_dim = 16\n",
    "batch_size = 64\n",
    "epochs = 20\n",
    "learning_rate = 1e-4"
   ]
  },
  {
   "cell_type": "code",
   "execution_count": 380,
   "metadata": {},
   "outputs": [],
   "source": [
    "import tensorflow as tf\n",
    "\n",
    "tf.keras.backend.clear_session()\n",
    "\n",
    "model = tf.keras.Sequential([\n",
    "    tf.keras.layers.Embedding(vocab_size, embedding_dim, input_length=max_length),\n",
    "    # tf.keras.layers.Bidirectional(tf.keras.layers.LSTM(64, return_sequences=True)),\n",
    "    tf.keras.layers.Bidirectional(tf.keras.layers.LSTM(128, return_sequences=True)),\n",
    "    tf.keras.layers.Bidirectional(tf.keras.layers.LSTM(512)),\n",
    "    # tf.keras.layers.Dense(400, activation=\"relu\"),\n",
    "    # tf.keras.layers.Dense(128, activation=\"relu\"),\n",
    "    tf.keras.layers.Dense(512, activation=\"relu\"),\n",
    "    tf.keras.layers.Dense(128, activation=\"relu\"),\n",
    "    tf.keras.layers.Dropout(0.2),\n",
    "    tf.keras.layers.Dense(64, activation=\"relu\"),\n",
    "    tf.keras.layers.Dropout(0.2),\n",
    "    tf.keras.layers.Dense(1, activation=\"sigmoid\")\n",
    "])\n",
    "\n",
    "model.compile(loss=\"binary_crossentropy\", optimizer= tf.keras.optimizers.Adam(learning_rate=learning_rate), metrics=[\"accuracy\"])"
   ]
  },
  {
   "cell_type": "markdown",
   "metadata": {},
   "source": [
    "Train model."
   ]
  },
  {
   "cell_type": "code",
   "execution_count": 381,
   "metadata": {},
   "outputs": [
    {
     "name": "stdout",
     "output_type": "stream",
     "text": [
      "Epoch 1/20\n",
      "36/36 [==============================] - 6s 53ms/step - loss: 0.6730 - accuracy: 0.6486 - val_loss: 0.6370 - val_accuracy: 0.6667\n",
      "Epoch 2/20\n",
      "36/36 [==============================] - 1s 27ms/step - loss: 0.6503 - accuracy: 0.6593 - val_loss: 0.6408 - val_accuracy: 0.6667\n",
      "Epoch 3/20\n",
      "36/36 [==============================] - 1s 27ms/step - loss: 0.6496 - accuracy: 0.6584 - val_loss: 0.6361 - val_accuracy: 0.6667\n",
      "Epoch 4/20\n",
      "36/36 [==============================] - 1s 28ms/step - loss: 0.6513 - accuracy: 0.6566 - val_loss: 0.6353 - val_accuracy: 0.6667\n",
      "Epoch 5/20\n",
      "36/36 [==============================] - 1s 27ms/step - loss: 0.6515 - accuracy: 0.6579 - val_loss: 0.6363 - val_accuracy: 0.6667\n",
      "Epoch 6/20\n",
      "36/36 [==============================] - 1s 27ms/step - loss: 0.6466 - accuracy: 0.6584 - val_loss: 0.6272 - val_accuracy: 0.6667\n",
      "Epoch 7/20\n",
      "36/36 [==============================] - 1s 27ms/step - loss: 0.5657 - accuracy: 0.7081 - val_loss: 0.5530 - val_accuracy: 0.7128\n",
      "Epoch 8/20\n",
      "36/36 [==============================] - 1s 27ms/step - loss: 0.4298 - accuracy: 0.8252 - val_loss: 0.5325 - val_accuracy: 0.7571\n",
      "Epoch 9/20\n",
      "36/36 [==============================] - 1s 27ms/step - loss: 0.3242 - accuracy: 0.8722 - val_loss: 0.6491 - val_accuracy: 0.7589\n",
      "Epoch 10/20\n",
      "36/36 [==============================] - 1s 27ms/step - loss: 0.2642 - accuracy: 0.8980 - val_loss: 0.6706 - val_accuracy: 0.7713\n",
      "Epoch 11/20\n",
      "36/36 [==============================] - 1s 27ms/step - loss: 0.2071 - accuracy: 0.9241 - val_loss: 0.7919 - val_accuracy: 0.7677\n",
      "Epoch 12/20\n",
      "36/36 [==============================] - 1s 27ms/step - loss: 0.1715 - accuracy: 0.9485 - val_loss: 0.7371 - val_accuracy: 0.7589\n",
      "Epoch 13/20\n",
      "36/36 [==============================] - 1s 27ms/step - loss: 0.1280 - accuracy: 0.9614 - val_loss: 0.8716 - val_accuracy: 0.7660\n",
      "Epoch 14/20\n",
      "36/36 [==============================] - 1s 27ms/step - loss: 0.1034 - accuracy: 0.9694 - val_loss: 0.8116 - val_accuracy: 0.7730\n",
      "Epoch 15/20\n",
      "36/36 [==============================] - 1s 27ms/step - loss: 0.0944 - accuracy: 0.9698 - val_loss: 1.2072 - val_accuracy: 0.7677\n",
      "Epoch 16/20\n",
      "36/36 [==============================] - 1s 27ms/step - loss: 0.0718 - accuracy: 0.9823 - val_loss: 1.9046 - val_accuracy: 0.7660\n",
      "Epoch 17/20\n",
      "36/36 [==============================] - 1s 28ms/step - loss: 0.0697 - accuracy: 0.9831 - val_loss: 1.4378 - val_accuracy: 0.7642\n",
      "Epoch 18/20\n",
      "36/36 [==============================] - 1s 27ms/step - loss: 0.0470 - accuracy: 0.9885 - val_loss: 1.4770 - val_accuracy: 0.7660\n",
      "Epoch 19/20\n",
      "36/36 [==============================] - 1s 27ms/step - loss: 0.0339 - accuracy: 0.9902 - val_loss: 1.7713 - val_accuracy: 0.7535\n",
      "Epoch 20/20\n",
      "36/36 [==============================] - 1s 28ms/step - loss: 0.0244 - accuracy: 0.9907 - val_loss: 2.1716 - val_accuracy: 0.7642\n"
     ]
    }
   ],
   "source": [
    "stop = tf.keras.callbacks.EarlyStopping(monitor='val_loss', patience=4)\n",
    "\n",
    "history = model.fit(training_padded, training_labels, batch_size=batch_size, epochs=epochs, validation_data=(testing_padded, testing_labels), callbacks=[stop])"
   ]
  },
  {
   "cell_type": "markdown",
   "metadata": {},
   "source": [
    "Plot findings."
   ]
  },
  {
   "cell_type": "code",
   "execution_count": 304,
   "metadata": {},
   "outputs": [],
   "source": [
    "import matplotlib.pyplot as plt\n",
    "\n",
    "def plot_graphs(history, string):\n",
    "    plt.plot(history.history[string])\n",
    "    plt.plot(history.history['val_'+string])\n",
    "    plt.xlabel(\"Epochs\")\n",
    "    plt.ylabel(string)\n",
    "    plt.legend([string, 'val_'+string])\n",
    "    plt.show()\n",
    "\n",
    "def plot_lr(history):\n",
    "    lrs = 1e-8 * (10 ** (np.arange(epochs) / 20))\n",
    "\n",
    "    # Set the figure size\n",
    "    plt.figure(figsize=(10, 6))\n",
    "\n",
    "    # Set the grid\n",
    "    plt.grid(True)\n",
    "\n",
    "    # Plot the loss in log scale\n",
    "    plt.semilogx(lrs, history.history[\"val_loss\"])\n",
    "\n",
    "    # Increase the tickmarks size\n",
    "    plt.tick_params('both', length=10, width=1, which='both')\n",
    "\n",
    "    # Set the plot boundaries\n",
    "    plt.axis([1e-8, 1e-3, 0, 2])\n",
    "    plt.show()"
   ]
  },
  {
   "cell_type": "code",
   "execution_count": 382,
   "metadata": {},
   "outputs": [
    {
     "data": {
      "image/png": "[encoded data removed]",
      "text/plain": [
       "<Figure size 432x288 with 1 Axes>"
      ]
     },
     "metadata": {
      "needs_background": "light"
     },
     "output_type": "display_data"
    },
    {
     "data": {
      "image/png": "[encoded data removed]",
      "text/plain": [
       "<Figure size 432x288 with 1 Axes>"
      ]
     },
     "metadata": {
      "needs_background": "light"
     },
     "output_type": "display_data"
    },
    {
     "ename": "",
     "evalue": "",
     "output_type": "error",
     "traceback": [
      "\u001b[1;31mThe Kernel crashed while executing code in the the current cell or a previous cell. Please review the code in the cell(s) to identify a possible cause of the failure. Click <a href='https://aka.ms/vscodeJupyterKernelCrash'>here</a> for more info. View Jupyter <a href='command:jupyter.viewOutput'>log</a> for further details."
     ]
    }
   ],
   "source": [
    "#plot_lr(history)\n",
    "plot_graphs(history, \"accuracy\")\n",
    "plot_graphs(history, \"loss\")"
   ]
  }
 ],
 "metadata": {
  "kernelspec": {
   "display_name": "Python 3.9.9 64-bit",
   "language": "python",
   "name": "python3"
  },
  "language_info": {
   "codemirror_mode": {
    "name": "ipython",
    "version": 3
   },
   "file_extension": ".py",
   "mimetype": "text/x-python",
   "name": "python",
   "nbconvert_exporter": "python",
   "pygments_lexer": "ipython3",
   "version": "3.9.9"
  },
  "orig_nbformat": 4,
  "vscode": {
   "interpreter": {
    "hash": "79188e7b3db958bc33c0eddae362b792fd2a35c877eabc176cb34dd7f9cc4927"
   }
  }
 },
 "nbformat": 4,
 "nbformat_minor": 2
}
