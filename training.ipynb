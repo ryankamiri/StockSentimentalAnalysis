{
 "cells": [
  {
   "cell_type": "markdown",
   "metadata": {},
   "source": [
    "First, we load in the data."
   ]
  },
  {
   "cell_type": "code",
   "execution_count": 26,
   "metadata": {},
   "outputs": [],
   "source": [
    "import json\n",
    "\n",
    "with open(\"./data/training_data.json\", 'r') as f:\n",
    "    datastore = json.load(f)\n",
    "\n",
    "headlines = []\n",
    "labels = []\n",
    "\n",
    "for item in datastore:\n",
    "    headlines.append(item['title'])\n",
    "    labels.append(item['good_news'])"
   ]
  },
  {
   "cell_type": "markdown",
   "metadata": {},
   "source": [
    "Augment NLP with Translate\n"
   ]
  },
  {
   "cell_type": "code",
   "execution_count": 27,
   "metadata": {},
   "outputs": [],
   "source": [
    "from deep_translator import GoogleTranslator\n",
    "\n",
    "def back_translate(sequence, language=\"es\"):\n",
    "    translated = GoogleTranslator(source='auto', target=language).translate(sequence)\n",
    "\n",
    "    translated_back = GoogleTranslator(source=language, target=\"en\").translate(translated)\n",
    "\n",
    "    return translated_back"
   ]
  },
  {
   "cell_type": "code",
   "execution_count": 36,
   "metadata": {},
   "outputs": [
    {
     "data": {
      "application/vnd.jupyter.widget-view+json": {
       "model_id": "92b8e0d6a4014ea2b32b0907ed1443a8",
       "version_major": 2,
       "version_minor": 0
      },
      "text/plain": [
       "  0%|          | 0/1890 [00:00<?, ?it/s]"
      ]
     },
     "metadata": {},
     "output_type": "display_data"
    },
    {
     "name": "stdout",
     "output_type": "stream",
     "text": [
      "Added 859 augmented data to create a new training size of 2749 compared to the previous size of 1890\n"
     ]
    }
   ],
   "source": [
    "from tqdm.notebook import tqdm\n",
    "import random\n",
    "\n",
    "previous_size = len(headlines)\n",
    "\n",
    "pbar = tqdm(total=len(headlines))\n",
    "for i in range(len(headlines)):\n",
    "    if random.randint(0, 1) == 0:\n",
    "        pbar.update(1)\n",
    "        continue\n",
    "    headline = headlines[i]\n",
    "    label = labels[i]\n",
    "    new_headline = back_translate(headline)\n",
    "    if new_headline != headline:\n",
    "        headlines.append(new_headline)\n",
    "        labels.append(label)\n",
    "    pbar.update(1)\n",
    "\n",
    "print(f\"Added {len(headlines) - previous_size} augmented data to create a new training size of {len(headlines)} compared to the previous size of {previous_size}\")\n",
    "pbar.close()"
   ]
  },
  {
   "cell_type": "markdown",
   "metadata": {},
   "source": [
    "Download nltk resources"
   ]
  },
  {
   "cell_type": "code",
   "execution_count": null,
   "metadata": {},
   "outputs": [],
   "source": [
    "import nltk\n",
    "nltk.download ()"
   ]
  },
  {
   "cell_type": "markdown",
   "metadata": {},
   "source": [
    "Remove stop words and contractions."
   ]
  },
  {
   "cell_type": "code",
   "execution_count": 64,
   "metadata": {},
   "outputs": [],
   "source": [
    "def preProcess(sentence):\n",
    "    words = []\n",
    "    for word in sentence.split():\n",
    "        if not word in stopwords.words('english'):\n",
    "            words.append(stemmer.stem(word).replace(\"'\", \"\"))\n",
    "\n",
    "    return ' '.join(words)\n"
   ]
  },
  {
   "cell_type": "code",
   "execution_count": 65,
   "metadata": {},
   "outputs": [],
   "source": [
    "from nltk.corpus import stopwords\n",
    "from nltk.stem import PorterStemmer\n",
    "\n",
    "stemmer=PorterStemmer()\n",
    "for i in range(len(headlines)):\n",
    "    headlines[i] = preProcess(headlines[i])\n",
    "\n",
    "\n"
   ]
  },
  {
   "cell_type": "markdown",
   "metadata": {},
   "source": [
    "Split the data."
   ]
  },
  {
   "cell_type": "code",
   "execution_count": 66,
   "metadata": {},
   "outputs": [
    {
     "name": "stdout",
     "output_type": "stream",
     "text": [
      "Split into 2061 Training sets and 688 Testing sets.\n"
     ]
    }
   ],
   "source": [
    "from sklearn.model_selection import train_test_split\n",
    "training_headlines, testing_headlines, training_labels, testing_labels = train_test_split(headlines, labels, train_size=0.75)\n",
    "print(f\"Split into {len(training_headlines)} Training sets and {len(testing_headlines)} Testing sets.\")"
   ]
  },
  {
   "cell_type": "code",
   "execution_count": 71,
   "metadata": {},
   "outputs": [
    {
     "name": "stdout",
     "output_type": "stream",
     "text": [
      "Word Index Size: 4260\n"
     ]
    }
   ],
   "source": [
    "import numpy as np\n",
    "from tensorflow.keras.preprocessing.text import Tokenizer\n",
    "from tensorflow.keras.preprocessing.sequence import pad_sequences\n",
    "\n",
    "vocab_size = 10000\n",
    "max_length = 25\n",
    "trunc_type='post'\n",
    "padding_type='post'\n",
    "oov_tok = \"<OOV>\"\n",
    "\n",
    "tokenizer = Tokenizer(num_words=vocab_size, oov_token=oov_tok)\n",
    "\n",
    "# training tokenizer\n",
    "tokenizer.fit_on_texts(headlines)\n",
    "word_index = tokenizer.word_index\n",
    "print(f\"Word Index Size: {len(word_index)}\")\n",
    "\n",
    "# adding padding \n",
    "training_sequences = tokenizer.texts_to_sequences(training_headlines)\n",
    "training_padded = pad_sequences(training_sequences, maxlen=max_length, padding=padding_type, truncating=trunc_type)\n",
    "\n",
    "testing_sequences = tokenizer.texts_to_sequences(testing_headlines)\n",
    "testing_padded = pad_sequences(testing_sequences, maxlen=max_length, padding=padding_type, truncating=trunc_type)\n",
    "\n",
    "training_labels = np.array(training_labels)\n",
    "testing_labels = np.array(testing_labels)"
   ]
  },
  {
   "cell_type": "markdown",
   "metadata": {},
   "source": [
    "Tune Hyperparameters."
   ]
  },
  {
   "cell_type": "code",
   "execution_count": 82,
   "metadata": {},
   "outputs": [],
   "source": [
    "embedding_dim = 10\n",
    "batch_size = 128\n",
    "epochs = 50\n",
    "learning_rate = 2e-4"
   ]
  },
  {
   "cell_type": "code",
   "execution_count": 83,
   "metadata": {},
   "outputs": [],
   "source": [
    "import tensorflow as tf\n",
    "\n",
    "tf.keras.backend.clear_session()\n",
    "\n",
    "model = tf.keras.Sequential([\n",
    "    tf.keras.layers.Embedding(vocab_size, embedding_dim, input_length=max_length),\n",
    "    tf.keras.layers.Dropout(0.5),\n",
    "    tf.keras.layers.Bidirectional(tf.keras.layers.LSTM(16)),\n",
    "    tf.keras.layers.Dropout(0.5),\n",
    "    tf.keras.layers.Dense(10, activation=\"relu\"),\n",
    "    tf.keras.layers.Dense(1, activation=\"sigmoid\")\n",
    "])\n",
    "\n",
    "model.compile(loss=\"binary_crossentropy\", optimizer= tf.keras.optimizers.Adam(learning_rate=learning_rate), metrics=[\"accuracy\"])"
   ]
  },
  {
   "cell_type": "markdown",
   "metadata": {},
   "source": [
    "Train model."
   ]
  },
  {
   "cell_type": "code",
   "execution_count": 84,
   "metadata": {},
   "outputs": [
    {
     "name": "stdout",
     "output_type": "stream",
     "text": [
      "Epoch 1/50\n",
      "17/17 [==============================] - 3s 50ms/step - loss: 0.6935 - accuracy: 0.4702 - val_loss: 0.6931 - val_accuracy: 0.5102\n",
      "Epoch 2/50\n",
      "17/17 [==============================] - 0s 14ms/step - loss: 0.6933 - accuracy: 0.4702 - val_loss: 0.6927 - val_accuracy: 0.5625\n",
      "Epoch 3/50\n",
      "17/17 [==============================] - 0s 14ms/step - loss: 0.6928 - accuracy: 0.5361 - val_loss: 0.6924 - val_accuracy: 0.5640\n",
      "Epoch 4/50\n",
      "17/17 [==============================] - 0s 14ms/step - loss: 0.6925 - accuracy: 0.5497 - val_loss: 0.6920 - val_accuracy: 0.5640\n",
      "Epoch 5/50\n",
      "17/17 [==============================] - 0s 14ms/step - loss: 0.6922 - accuracy: 0.5434 - val_loss: 0.6914 - val_accuracy: 0.5640\n",
      "Epoch 6/50\n",
      "17/17 [==============================] - 0s 14ms/step - loss: 0.6918 - accuracy: 0.5459 - val_loss: 0.6909 - val_accuracy: 0.5640\n",
      "Epoch 7/50\n",
      "17/17 [==============================] - 0s 15ms/step - loss: 0.6915 - accuracy: 0.5400 - val_loss: 0.6903 - val_accuracy: 0.5640\n",
      "Epoch 8/50\n",
      "17/17 [==============================] - 0s 14ms/step - loss: 0.6916 - accuracy: 0.5425 - val_loss: 0.6901 - val_accuracy: 0.5640\n",
      "Epoch 9/50\n",
      "17/17 [==============================] - 0s 14ms/step - loss: 0.6910 - accuracy: 0.5415 - val_loss: 0.6895 - val_accuracy: 0.5640\n",
      "Epoch 10/50\n",
      "17/17 [==============================] - 0s 13ms/step - loss: 0.6905 - accuracy: 0.5410 - val_loss: 0.6890 - val_accuracy: 0.5640\n",
      "Epoch 11/50\n",
      "17/17 [==============================] - 0s 14ms/step - loss: 0.6902 - accuracy: 0.5405 - val_loss: 0.6885 - val_accuracy: 0.5640\n",
      "Epoch 12/50\n",
      "17/17 [==============================] - 0s 14ms/step - loss: 0.6896 - accuracy: 0.5420 - val_loss: 0.6879 - val_accuracy: 0.5640\n",
      "Epoch 13/50\n",
      "17/17 [==============================] - 0s 13ms/step - loss: 0.6885 - accuracy: 0.5434 - val_loss: 0.6873 - val_accuracy: 0.5640\n",
      "Epoch 14/50\n",
      "17/17 [==============================] - 0s 14ms/step - loss: 0.6876 - accuracy: 0.5531 - val_loss: 0.6865 - val_accuracy: 0.5640\n",
      "Epoch 15/50\n",
      "17/17 [==============================] - 0s 14ms/step - loss: 0.6865 - accuracy: 0.5682 - val_loss: 0.6857 - val_accuracy: 0.5640\n",
      "Epoch 16/50\n",
      "17/17 [==============================] - 0s 15ms/step - loss: 0.6851 - accuracy: 0.5871 - val_loss: 0.6844 - val_accuracy: 0.5640\n",
      "Epoch 17/50\n",
      "17/17 [==============================] - 0s 15ms/step - loss: 0.6828 - accuracy: 0.6245 - val_loss: 0.6830 - val_accuracy: 0.5756\n",
      "Epoch 18/50\n",
      "17/17 [==============================] - 0s 14ms/step - loss: 0.6794 - accuracy: 0.6739 - val_loss: 0.6804 - val_accuracy: 0.6090\n",
      "Epoch 19/50\n",
      "17/17 [==============================] - 0s 14ms/step - loss: 0.6749 - accuracy: 0.7098 - val_loss: 0.6772 - val_accuracy: 0.7282\n",
      "Epoch 20/50\n",
      "17/17 [==============================] - 0s 14ms/step - loss: 0.6703 - accuracy: 0.7297 - val_loss: 0.6729 - val_accuracy: 0.7645\n",
      "Epoch 21/50\n",
      "17/17 [==============================] - 0s 14ms/step - loss: 0.6627 - accuracy: 0.7404 - val_loss: 0.6667 - val_accuracy: 0.7485\n",
      "Epoch 22/50\n",
      "17/17 [==============================] - 0s 14ms/step - loss: 0.6506 - accuracy: 0.7889 - val_loss: 0.6583 - val_accuracy: 0.7282\n",
      "Epoch 23/50\n",
      "17/17 [==============================] - 0s 14ms/step - loss: 0.6344 - accuracy: 0.7506 - val_loss: 0.6441 - val_accuracy: 0.7587\n",
      "Epoch 24/50\n",
      "17/17 [==============================] - 0s 13ms/step - loss: 0.6189 - accuracy: 0.7986 - val_loss: 0.6314 - val_accuracy: 0.7151\n",
      "Epoch 25/50\n",
      "17/17 [==============================] - 0s 13ms/step - loss: 0.5919 - accuracy: 0.7880 - val_loss: 0.6021 - val_accuracy: 0.7602\n",
      "Epoch 26/50\n",
      "17/17 [==============================] - 0s 14ms/step - loss: 0.5578 - accuracy: 0.7885 - val_loss: 0.5704 - val_accuracy: 0.7660\n",
      "Epoch 27/50\n",
      "17/17 [==============================] - 0s 14ms/step - loss: 0.5151 - accuracy: 0.7923 - val_loss: 0.5342 - val_accuracy: 0.7805\n",
      "Epoch 28/50\n",
      "17/17 [==============================] - 0s 14ms/step - loss: 0.4873 - accuracy: 0.8054 - val_loss: 0.5015 - val_accuracy: 0.7820\n",
      "Epoch 29/50\n",
      "17/17 [==============================] - 0s 15ms/step - loss: 0.4325 - accuracy: 0.8486 - val_loss: 0.4617 - val_accuracy: 0.7936\n",
      "Epoch 30/50\n",
      "17/17 [==============================] - 0s 14ms/step - loss: 0.3763 - accuracy: 0.8583 - val_loss: 0.4212 - val_accuracy: 0.8183\n",
      "Epoch 31/50\n",
      "17/17 [==============================] - 0s 14ms/step - loss: 0.3183 - accuracy: 0.9093 - val_loss: 0.3950 - val_accuracy: 0.8227\n",
      "Epoch 32/50\n",
      "17/17 [==============================] - 0s 14ms/step - loss: 0.2820 - accuracy: 0.9146 - val_loss: 0.3836 - val_accuracy: 0.8343\n",
      "Epoch 33/50\n",
      "17/17 [==============================] - 0s 14ms/step - loss: 0.2458 - accuracy: 0.9321 - val_loss: 0.3640 - val_accuracy: 0.8474\n",
      "Epoch 34/50\n",
      "17/17 [==============================] - 0s 14ms/step - loss: 0.2097 - accuracy: 0.9413 - val_loss: 0.3796 - val_accuracy: 0.8358\n",
      "Epoch 35/50\n",
      "17/17 [==============================] - 0s 13ms/step - loss: 0.1895 - accuracy: 0.9471 - val_loss: 0.3561 - val_accuracy: 0.8590\n",
      "Epoch 36/50\n",
      "17/17 [==============================] - 0s 14ms/step - loss: 0.1839 - accuracy: 0.9481 - val_loss: 0.3885 - val_accuracy: 0.8314\n",
      "Epoch 37/50\n",
      "17/17 [==============================] - 0s 14ms/step - loss: 0.1668 - accuracy: 0.9544 - val_loss: 0.3695 - val_accuracy: 0.8517\n",
      "Epoch 38/50\n",
      "17/17 [==============================] - 0s 13ms/step - loss: 0.1646 - accuracy: 0.9544 - val_loss: 0.3697 - val_accuracy: 0.8474\n",
      "Epoch 39/50\n",
      "17/17 [==============================] - 0s 14ms/step - loss: 0.1572 - accuracy: 0.9529 - val_loss: 0.3577 - val_accuracy: 0.8547\n",
      "Epoch 40/50\n",
      "17/17 [==============================] - 0s 13ms/step - loss: 0.1380 - accuracy: 0.9622 - val_loss: 0.4034 - val_accuracy: 0.8343\n",
      "Epoch 41/50\n",
      "17/17 [==============================] - 0s 13ms/step - loss: 0.1533 - accuracy: 0.9568 - val_loss: 0.3621 - val_accuracy: 0.8605\n",
      "Epoch 42/50\n",
      "17/17 [==============================] - 0s 14ms/step - loss: 0.1325 - accuracy: 0.9660 - val_loss: 0.3755 - val_accuracy: 0.8576\n",
      "Epoch 43/50\n",
      "17/17 [==============================] - 0s 14ms/step - loss: 0.1266 - accuracy: 0.9685 - val_loss: 0.3610 - val_accuracy: 0.8648\n",
      "Epoch 44/50\n",
      "17/17 [==============================] - 0s 14ms/step - loss: 0.1249 - accuracy: 0.9665 - val_loss: 0.3805 - val_accuracy: 0.8576\n",
      "Epoch 45/50\n",
      "17/17 [==============================] - 0s 13ms/step - loss: 0.1101 - accuracy: 0.9680 - val_loss: 0.3669 - val_accuracy: 0.8634\n",
      "Epoch 46/50\n",
      "17/17 [==============================] - 0s 13ms/step - loss: 0.1093 - accuracy: 0.9699 - val_loss: 0.3905 - val_accuracy: 0.8561\n",
      "Epoch 47/50\n",
      "17/17 [==============================] - 0s 16ms/step - loss: 0.1146 - accuracy: 0.9685 - val_loss: 0.3726 - val_accuracy: 0.8590\n",
      "Epoch 48/50\n",
      "17/17 [==============================] - 0s 14ms/step - loss: 0.1022 - accuracy: 0.9743 - val_loss: 0.3818 - val_accuracy: 0.8634\n",
      "Epoch 49/50\n",
      "17/17 [==============================] - 0s 14ms/step - loss: 0.0922 - accuracy: 0.9753 - val_loss: 0.3842 - val_accuracy: 0.8634\n",
      "Epoch 50/50\n",
      "17/17 [==============================] - 0s 15ms/step - loss: 0.0898 - accuracy: 0.9772 - val_loss: 0.4009 - val_accuracy: 0.8561\n"
     ]
    }
   ],
   "source": [
    "history = model.fit(training_padded, training_labels, batch_size=batch_size, epochs=epochs, validation_data=(testing_padded, testing_labels), callbacks=[])"
   ]
  },
  {
   "cell_type": "markdown",
   "metadata": {},
   "source": [
    "Plot findings."
   ]
  },
  {
   "cell_type": "code",
   "execution_count": 24,
   "metadata": {},
   "outputs": [],
   "source": [
    "import matplotlib.pyplot as plt\n",
    "\n",
    "def plot_graphs(history, string):\n",
    "    plt.plot(history.history[string])\n",
    "    plt.plot(history.history['val_'+string])\n",
    "    plt.xlabel(\"Epochs\")\n",
    "    plt.ylabel(string)\n",
    "    plt.legend([string, 'val_'+string])\n",
    "    plt.show()\n",
    "\n",
    "def plot_lr(history):\n",
    "    lrs = 1e-8 * (10 ** (np.arange(epochs) / 20))\n",
    "\n",
    "    # Set the figure size\n",
    "    plt.figure(figsize=(10, 6))\n",
    "\n",
    "    # Set the grid\n",
    "    plt.grid(True)\n",
    "\n",
    "    # Plot the loss in log scale\n",
    "    plt.semilogx(lrs, history.history[\"val_loss\"])\n",
    "\n",
    "    # Increase the tickmarks size\n",
    "    plt.tick_params('both', length=10, width=1, which='both')\n",
    "\n",
    "    # Set the plot boundaries\n",
    "    plt.axis([1e-8, 1e-3, 0, 2])\n",
    "    plt.show()"
   ]
  },
  {
   "cell_type": "code",
   "execution_count": 85,
   "metadata": {},
   "outputs": [
    {
     "data": {
      "image/png": "[encoded data removed]",
      "text/plain": [
       "<Figure size 432x288 with 1 Axes>"
      ]
     },
     "metadata": {
      "needs_background": "light"
     },
     "output_type": "display_data"
    },
    {
     "data": {
      "image/png": "[encoded data removed]",
      "text/plain": [
       "<Figure size 432x288 with 1 Axes>"
      ]
     },
     "metadata": {
      "needs_background": "light"
     },
     "output_type": "display_data"
    }
   ],
   "source": [
    "#plot_lr(history)\n",
    "plot_graphs(history, \"accuracy\")\n",
    "plot_graphs(history, \"loss\")"
   ]
  }
 ],
 "metadata": {
  "kernelspec": {
   "display_name": "Python 3.9.9 64-bit",
   "language": "python",
   "name": "python3"
  },
  "language_info": {
   "codemirror_mode": {
    "name": "ipython",
    "version": 3
   },
   "file_extension": ".py",
   "mimetype": "text/x-python",
   "name": "python",
   "nbconvert_exporter": "python",
   "pygments_lexer": "ipython3",
   "version": "3.9.9"
  },
  "orig_nbformat": 4,
  "vscode": {
   "interpreter": {
    "hash": "79188e7b3db958bc33c0eddae362b792fd2a35c877eabc176cb34dd7f9cc4927"
   }
  }
 },
 "nbformat": 4,
 "nbformat_minor": 2
}
