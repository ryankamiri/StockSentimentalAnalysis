{
 "cells": [
  {
   "cell_type": "markdown",
   "metadata": {},
   "source": [
    "First, we load in the data."
   ]
  },
  {
   "cell_type": "code",
   "execution_count": 1,
   "metadata": {},
   "outputs": [],
   "source": [
    "First, we load in the data.import json\n",
    "\n",
    "with open(\"./data/training_data.json\", 'r') as f:\n",
    "    datastore = json.load(f)\n",
    "\n",
    "headlines = []\n",
    "labels = []\n",
    "\n",
    "for item in datastore:\n",
    "    headlines.append(item['title'])\n",
    "    labels.append(item['good_news'])"
   ]
  },
  {
   "cell_type": "markdown",
   "metadata": {},
   "source": [
    "Split the data."
   ]
  },
  {
   "cell_type": "code",
   "execution_count": 2,
   "metadata": {},
   "outputs": [],
   "source": [
    "from sklearn.model_selection import train_test_split\n",
    "training_headlines, testing_headlines, training_labels, testing_labels = train_test_split(headlines, labels, train_size=0.8)"
   ]
  },
  {
   "cell_type": "markdown",
   "metadata": {},
   "source": [
    "Pre Process data."
   ]
  },
  {
   "cell_type": "code",
   "execution_count": 3,
   "metadata": {},
   "outputs": [],
   "source": [
    "import numpy as np\n",
    "from tensorflow.keras.preprocessing.text import Tokenizer\n",
    "from tensorflow.keras.preprocessing.sequence import pad_sequences\n",
    "\n",
    "vocab_size = 10000\n",
    "max_length = 25\n",
    "trunc_type='post'\n",
    "padding_type='post'\n",
    "oov_tok = \"<OOV>\"\n",
    "\n",
    "tokenizer = Tokenizer(num_words=vocab_size, oov_token=oov_tok)\n",
    "\n",
    "# training tokenizer\n",
    "tokenizer.fit_on_texts(headlines)\n",
    "word_index = tokenizer.word_index\n",
    "\n",
    "# adding padding \n",
    "training_sequences = tokenizer.texts_to_sequences(training_headlines)\n",
    "training_padded = pad_sequences(training_sequences, maxlen=max_length, padding=padding_type, truncating=trunc_type)\n",
    "\n",
    "testing_sequences = tokenizer.texts_to_sequences(testing_headlines)\n",
    "testing_padded = pad_sequences(testing_sequences, maxlen=max_length, padding=padding_type, truncating=trunc_type)\n",
    "\n",
    "training_labels = np.array(training_labels)\n",
    "testing_labels = np.array(testing_labels)"
   ]
  },
  {
   "cell_type": "markdown",
   "metadata": {},
   "source": [
    "Tune Hyperparameters."
   ]
  },
  {
   "cell_type": "code",
   "execution_count": 57,
   "metadata": {},
   "outputs": [],
   "source": [
    "embedding_dim = 16\n",
    "learning_rate = 4e-05"
   ]
  },
  {
   "cell_type": "code",
   "execution_count": 58,
   "metadata": {},
   "outputs": [],
   "source": [
    "import tensorflow as tf\n",
    "\n",
    "tf.keras.backend.clear_session()\n",
    "\n",
    "model = tf.keras.Sequential([\n",
    "    tf.keras.layers.Embedding(vocab_size, embedding_dim, input_length=max_length),\n",
    "    # tf.keras.layers.Bidirectional(tf.keras.layers.LSTM(32, return_sequences=True)),\n",
    "    # tf.keras.layers.Dropout(0.5),\n",
    "    tf.keras.layers.Bidirectional(tf.keras.layers.LSTM(32)),\n",
    "    tf.keras.layers.Dropout(0.5),\n",
    "    tf.keras.layers.Dense(16, activation=\"relu\"),\n",
    "    tf.keras.layers.Dense(1, activation=\"sigmoid\")\n",
    "])\n",
    "\n",
    "model.compile(loss=\"binary_crossentropy\", optimizer= tf.keras.optimizers.Adam(learning_rate=learning_rate), metrics=[\"accuracy\"])"
   ]
  },
  {
   "cell_type": "markdown",
   "metadata": {},
   "source": [
    "Train model."
   ]
  },
  {
   "cell_type": "code",
   "execution_count": 59,
   "metadata": {},
   "outputs": [
    {
     "name": "stdout",
     "output_type": "stream",
     "text": [
      "Epoch 1/50\n",
      "64/64 [==============================] - 4s 21ms/step - loss: 0.6941 - accuracy: 0.4269 - val_loss: 0.6935 - val_accuracy: 0.4531\n",
      "Epoch 2/50\n",
      "64/64 [==============================] - 1s 11ms/step - loss: 0.6934 - accuracy: 0.4941 - val_loss: 0.6928 - val_accuracy: 0.5781\n",
      "Epoch 3/50\n",
      "64/64 [==============================] - 1s 10ms/step - loss: 0.6917 - accuracy: 0.6126 - val_loss: 0.6920 - val_accuracy: 0.5781\n",
      "Epoch 4/50\n",
      "64/64 [==============================] - 1s 10ms/step - loss: 0.6903 - accuracy: 0.6522 - val_loss: 0.6912 - val_accuracy: 0.5781\n",
      "Epoch 5/50\n",
      "64/64 [==============================] - 1s 10ms/step - loss: 0.6885 - accuracy: 0.6364 - val_loss: 0.6904 - val_accuracy: 0.5781\n",
      "Epoch 6/50\n",
      "64/64 [==============================] - 1s 10ms/step - loss: 0.6880 - accuracy: 0.6403 - val_loss: 0.6895 - val_accuracy: 0.5781\n",
      "Epoch 7/50\n",
      "64/64 [==============================] - 1s 11ms/step - loss: 0.6851 - accuracy: 0.6403 - val_loss: 0.6885 - val_accuracy: 0.5781\n",
      "Epoch 8/50\n",
      "64/64 [==============================] - 1s 11ms/step - loss: 0.6831 - accuracy: 0.6403 - val_loss: 0.6877 - val_accuracy: 0.5781\n",
      "Epoch 9/50\n",
      "64/64 [==============================] - 1s 11ms/step - loss: 0.6821 - accuracy: 0.6403 - val_loss: 0.6867 - val_accuracy: 0.5781\n",
      "Epoch 10/50\n",
      "64/64 [==============================] - 1s 10ms/step - loss: 0.6780 - accuracy: 0.6403 - val_loss: 0.6853 - val_accuracy: 0.5781\n",
      "Epoch 11/50\n",
      "64/64 [==============================] - 1s 11ms/step - loss: 0.6759 - accuracy: 0.6403 - val_loss: 0.6839 - val_accuracy: 0.5781\n",
      "Epoch 12/50\n",
      "64/64 [==============================] - 1s 12ms/step - loss: 0.6754 - accuracy: 0.6403 - val_loss: 0.6831 - val_accuracy: 0.5781\n",
      "Epoch 13/50\n",
      "64/64 [==============================] - 3s 50ms/step - loss: 0.6685 - accuracy: 0.6403 - val_loss: 0.6822 - val_accuracy: 0.5781\n",
      "Epoch 14/50\n",
      "64/64 [==============================] - 4s 71ms/step - loss: 0.6663 - accuracy: 0.6403 - val_loss: 0.6815 - val_accuracy: 0.5781\n",
      "Epoch 15/50\n",
      "64/64 [==============================] - 1s 9ms/step - loss: 0.6643 - accuracy: 0.6403 - val_loss: 0.6812 - val_accuracy: 0.5781\n",
      "Epoch 16/50\n",
      "64/64 [==============================] - 5s 72ms/step - loss: 0.6627 - accuracy: 0.6403 - val_loss: 0.6813 - val_accuracy: 0.5781\n",
      "Epoch 17/50\n",
      "64/64 [==============================] - 1s 9ms/step - loss: 0.6579 - accuracy: 0.6403 - val_loss: 0.6815 - val_accuracy: 0.5781\n",
      "Epoch 18/50\n",
      "64/64 [==============================] - 5s 72ms/step - loss: 0.6585 - accuracy: 0.6403 - val_loss: 0.6821 - val_accuracy: 0.5781\n",
      "Epoch 19/50\n",
      "64/64 [==============================] - 1s 9ms/step - loss: 0.6511 - accuracy: 0.6403 - val_loss: 0.6831 - val_accuracy: 0.5781\n",
      "Epoch 20/50\n",
      "64/64 [==============================] - 5s 73ms/step - loss: 0.6535 - accuracy: 0.6403 - val_loss: 0.6841 - val_accuracy: 0.5781\n",
      "Epoch 21/50\n",
      "64/64 [==============================] - 1s 8ms/step - loss: 0.6535 - accuracy: 0.6403 - val_loss: 0.6841 - val_accuracy: 0.5781\n",
      "Epoch 22/50\n",
      "64/64 [==============================] - 5s 9ms/step - loss: 0.6395 - accuracy: 0.6403 - val_loss: 0.6862 - val_accuracy: 0.5781\n",
      "Epoch 23/50\n",
      "64/64 [==============================] - 5s 74ms/step - loss: 0.6443 - accuracy: 0.6403 - val_loss: 0.6875 - val_accuracy: 0.5781\n",
      "Epoch 24/50\n",
      "64/64 [==============================] - 1s 9ms/step - loss: 0.6443 - accuracy: 0.6403 - val_loss: 0.6868 - val_accuracy: 0.5781\n",
      "Epoch 25/50\n",
      "64/64 [==============================] - 5s 84ms/step - loss: 0.6378 - accuracy: 0.6403 - val_loss: 0.6875 - val_accuracy: 0.5781\n",
      "Epoch 26/50\n",
      "64/64 [==============================] - 0s 8ms/step - loss: 0.6377 - accuracy: 0.6403 - val_loss: 0.6872 - val_accuracy: 0.5781\n",
      "Epoch 27/50\n",
      "64/64 [==============================] - 4s 71ms/step - loss: 0.6261 - accuracy: 0.6403 - val_loss: 0.6886 - val_accuracy: 0.5781\n",
      "Epoch 28/50\n",
      "64/64 [==============================] - 1s 8ms/step - loss: 0.6211 - accuracy: 0.6403 - val_loss: 0.6905 - val_accuracy: 0.5781\n",
      "Epoch 29/50\n",
      "64/64 [==============================] - 5s 72ms/step - loss: 0.6206 - accuracy: 0.6403 - val_loss: 0.6899 - val_accuracy: 0.5781\n",
      "Epoch 30/50\n",
      "64/64 [==============================] - 1s 9ms/step - loss: 0.6162 - accuracy: 0.6403 - val_loss: 0.6914 - val_accuracy: 0.5781\n",
      "Epoch 31/50\n",
      "64/64 [==============================] - 4s 71ms/step - loss: 0.6035 - accuracy: 0.6403 - val_loss: 0.6929 - val_accuracy: 0.5781\n",
      "Epoch 32/50\n",
      "64/64 [==============================] - 1s 8ms/step - loss: 0.5978 - accuracy: 0.6403 - val_loss: 0.6925 - val_accuracy: 0.5781\n",
      "Epoch 33/50\n",
      "64/64 [==============================] - 5s 72ms/step - loss: 0.5819 - accuracy: 0.6403 - val_loss: 0.6943 - val_accuracy: 0.5781\n",
      "Epoch 34/50\n",
      "64/64 [==============================] - 4s 71ms/step - loss: 0.5627 - accuracy: 0.6403 - val_loss: 0.6903 - val_accuracy: 0.5781\n",
      "Epoch 35/50\n",
      "64/64 [==============================] - 1s 8ms/step - loss: 0.5317 - accuracy: 0.6403 - val_loss: 0.6817 - val_accuracy: 0.5781\n",
      "Epoch 36/50\n",
      "64/64 [==============================] - 4s 71ms/step - loss: 0.4799 - accuracy: 0.6482 - val_loss: 0.6681 - val_accuracy: 0.5781\n",
      "Epoch 37/50\n",
      "64/64 [==============================] - 0s 8ms/step - loss: 0.4057 - accuracy: 0.6719 - val_loss: 0.6407 - val_accuracy: 0.5781\n",
      "Epoch 38/50\n",
      "64/64 [==============================] - 4s 70ms/step - loss: 0.3294 - accuracy: 0.8419 - val_loss: 0.6301 - val_accuracy: 0.6719\n",
      "Epoch 39/50\n",
      "64/64 [==============================] - 1s 8ms/step - loss: 0.2823 - accuracy: 0.9486 - val_loss: 0.6309 - val_accuracy: 0.7031\n",
      "Epoch 40/50\n",
      "64/64 [==============================] - 4s 71ms/step - loss: 0.2482 - accuracy: 0.9684 - val_loss: 0.6321 - val_accuracy: 0.7188\n",
      "Epoch 41/50\n",
      "64/64 [==============================] - 1s 8ms/step - loss: 0.2237 - accuracy: 0.9881 - val_loss: 0.6263 - val_accuracy: 0.7344\n",
      "Epoch 42/50\n",
      "64/64 [==============================] - 4s 71ms/step - loss: 0.1987 - accuracy: 0.9960 - val_loss: 0.6371 - val_accuracy: 0.7188\n",
      "Epoch 43/50\n",
      "64/64 [==============================] - 1s 8ms/step - loss: 0.1673 - accuracy: 0.9960 - val_loss: 0.6517 - val_accuracy: 0.7344\n",
      "Epoch 44/50\n",
      "64/64 [==============================] - 4s 70ms/step - loss: 0.1374 - accuracy: 0.9960 - val_loss: 0.6515 - val_accuracy: 0.7656\n",
      "Epoch 45/50\n",
      "64/64 [==============================] - 1s 8ms/step - loss: 0.1006 - accuracy: 0.9960 - val_loss: 0.6737 - val_accuracy: 0.7656\n",
      "Epoch 46/50\n",
      "64/64 [==============================] - 4s 71ms/step - loss: 0.0800 - accuracy: 0.9960 - val_loss: 0.7333 - val_accuracy: 0.7344\n",
      "Epoch 47/50\n",
      "64/64 [==============================] - 1s 8ms/step - loss: 0.0558 - accuracy: 1.0000 - val_loss: 0.7798 - val_accuracy: 0.7344\n",
      "Epoch 48/50\n",
      "64/64 [==============================] - 4s 71ms/step - loss: 0.0537 - accuracy: 1.0000 - val_loss: 0.8101 - val_accuracy: 0.7344\n",
      "Epoch 49/50\n",
      "64/64 [==============================] - 4s 71ms/step - loss: 0.0467 - accuracy: 1.0000 - val_loss: 0.8244 - val_accuracy: 0.7500\n",
      "Epoch 50/50\n",
      "64/64 [==============================] - 1s 8ms/step - loss: 0.0383 - accuracy: 1.0000 - val_loss: 0.8562 - val_accuracy: 0.7500\n"
     ]
    }
   ],
   "source": [
    "lr_schedule = tf.keras.callbacks.LearningRateScheduler(\n",
    "    lambda epoch: 1e-8 * 10**(epoch / 20))\n",
    "\n",
    "history = model.fit(training_padded, training_labels, batch_size=4,epochs=50, validation_data=(testing_padded, testing_labels), callbacks=[])"
   ]
  },
  {
   "cell_type": "markdown",
   "metadata": {},
   "source": [
    "Plot findings."
   ]
  },
  {
   "cell_type": "code",
   "execution_count": 21,
   "metadata": {},
   "outputs": [],
   "source": [
    "import matplotlib.pyplot as plt\n",
    "\n",
    "def plot_graphs(history, string):\n",
    "    plt.plot(history.history[string])\n",
    "    plt.plot(history.history['val_'+string])\n",
    "    plt.xlabel(\"Epochs\")\n",
    "    plt.ylabel(string)\n",
    "    plt.legend([string, 'val_'+string])\n",
    "    plt.show()\n",
    "\n",
    "def plot_lr(history):\n",
    "    lrs = 1e-8 * (10 ** (np.arange(100) / 20))\n",
    "\n",
    "    # Set the figure size\n",
    "    plt.figure(figsize=(10, 6))\n",
    "\n",
    "    # Set the grid\n",
    "    plt.grid(True)\n",
    "\n",
    "    # Plot the loss in log scale\n",
    "    plt.semilogx(lrs, history.history[\"val_loss\"])\n",
    "\n",
    "    # Increase the tickmarks size\n",
    "    plt.tick_params('both', length=10, width=1, which='both')\n",
    "\n",
    "    # Set the plot boundaries\n",
    "    plt.axis([1e-8, 1e-3, 0, 10])\n",
    "    plt.show()"
   ]
  },
  {
   "cell_type": "code",
   "execution_count": 60,
   "metadata": {},
   "outputs": [
    {
     "data": {
      "image/png": "[encoded data removed]",
      "text/plain": [
       "<Figure size 432x288 with 1 Axes>"
      ]
     },
     "metadata": {
      "needs_background": "light"
     },
     "output_type": "display_data"
    },
    {
     "data": {
      "image/png": "[encoded data removed]",
      "text/plain": [
       "<Figure size 432x288 with 1 Axes>"
      ]
     },
     "metadata": {
      "needs_background": "light"
     },
     "output_type": "display_data"
    }
   ],
   "source": [
    "#plot_lr(history)\n",
    "plot_graphs(history, \"accuracy\")\n",
    "plot_graphs(history, \"loss\")"
   ]
  }
 ],
 "metadata": {
  "kernelspec": {
   "display_name": "Python 3.9.9 64-bit",
   "language": "python",
   "name": "python3"
  },
  "language_info": {
   "codemirror_mode": {
    "name": "ipython",
    "version": 3
   },
   "file_extension": ".py",
   "mimetype": "text/x-python",
   "name": "python",
   "nbconvert_exporter": "python",
   "pygments_lexer": "ipython3",
   "version": "3.9.9"
  },
  "orig_nbformat": 4,
  "vscode": {
   "interpreter": {
    "hash": "79188e7b3db958bc33c0eddae362b792fd2a35c877eabc176cb34dd7f9cc4927"
   }
  }
 },
 "nbformat": 4,
 "nbformat_minor": 2
}
