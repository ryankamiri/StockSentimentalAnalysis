{
 "cells": [
  {
   "cell_type": "markdown",
   "metadata": {},
   "source": [
    "First, we load in the data."
   ]
  },
  {
   "cell_type": "code",
   "execution_count": 109,
   "metadata": {},
   "outputs": [],
   "source": [
    "import json\n",
    "\n",
    "with open(\"./data/training_data.json\", 'r') as f:\n",
    "    datastore = json.load(f)\n",
    "\n",
    "headlines = []\n",
    "labels = []\n",
    "\n",
    "for item in datastore:\n",
    "    headlines.append(item['title'])\n",
    "    labels.append(item['good_news'])"
   ]
  },
  {
   "cell_type": "markdown",
   "metadata": {},
   "source": [
    "Augment NLP with Translate\n"
   ]
  },
  {
   "cell_type": "code",
   "execution_count": 103,
   "metadata": {},
   "outputs": [],
   "source": [
    "from deep_translator import GoogleTranslator\n",
    "\n",
    "def back_translate(sequence, language=\"es\"):\n",
    "    translated = GoogleTranslator(source='auto', target=language).translate(sequence)\n",
    "\n",
    "    translated_back = GoogleTranslator(source=language, target=\"en\").translate(translated)\n",
    "\n",
    "    return translated_back"
   ]
  },
  {
   "cell_type": "code",
   "execution_count": 58,
   "metadata": {},
   "outputs": [
    {
     "data": {
      "application/vnd.jupyter.widget-view+json": {
       "model_id": "ba6e0ed94c374402a0ab347498bafbfd",
       "version_major": 2,
       "version_minor": 0
      },
      "text/plain": [
       "  0%|          | 0/2308 [00:00<?, ?it/s]"
      ]
     },
     "metadata": {},
     "output_type": "display_data"
    },
    {
     "ename": "NameError",
     "evalue": "name 'back_translate' is not defined",
     "output_type": "error",
     "traceback": [
      "\u001b[1;31m---------------------------------------------------------------------------\u001b[0m",
      "\u001b[1;31mNameError\u001b[0m                                 Traceback (most recent call last)",
      "\u001b[1;32md:\\dev\\Coding\\Projects\\StockSentimentalAnalysis\\training.ipynb Cell 5'\u001b[0m in \u001b[0;36m<cell line: 7>\u001b[1;34m()\u001b[0m\n\u001b[0;32m     <a href='vscode-notebook-cell:/d%3A/dev/Coding/Projects/StockSentimentalAnalysis/training.ipynb#ch0000005?line=10'>11</a>\u001b[0m headline \u001b[39m=\u001b[39m training_headlines[i]\n\u001b[0;32m     <a href='vscode-notebook-cell:/d%3A/dev/Coding/Projects/StockSentimentalAnalysis/training.ipynb#ch0000005?line=11'>12</a>\u001b[0m label \u001b[39m=\u001b[39m training_labels[i]\n\u001b[1;32m---> <a href='vscode-notebook-cell:/d%3A/dev/Coding/Projects/StockSentimentalAnalysis/training.ipynb#ch0000005?line=12'>13</a>\u001b[0m new_headline \u001b[39m=\u001b[39m back_translate(headline)\n\u001b[0;32m     <a href='vscode-notebook-cell:/d%3A/dev/Coding/Projects/StockSentimentalAnalysis/training.ipynb#ch0000005?line=13'>14</a>\u001b[0m \u001b[39mif\u001b[39;00m new_headline \u001b[39m!=\u001b[39m headline:\n\u001b[0;32m     <a href='vscode-notebook-cell:/d%3A/dev/Coding/Projects/StockSentimentalAnalysis/training.ipynb#ch0000005?line=14'>15</a>\u001b[0m     training_headlines\u001b[39m.\u001b[39mappend(new_headline)\n",
      "\u001b[1;31mNameError\u001b[0m: name 'back_translate' is not defined"
     ]
    }
   ],
   "source": [
    "from tqdm.notebook import tqdm\n",
    "import random\n",
    "\n",
    "previous_size = len(training_headlines)\n",
    "\n",
    "pbar = tqdm(total=len(training_headlines))\n",
    "for i in range(len(training_headlines)):\n",
    "    if random.randint(0, 1) == 0:\n",
    "        pbar.update(1)\n",
    "        continue\n",
    "    headline = training_headlines[i]\n",
    "    label = training_labels[i]\n",
    "    new_headline = back_translate(headline)\n",
    "    if new_headline != headline:\n",
    "        training_headlines.append(new_headline)\n",
    "        training_labels.append(label)\n",
    "    pbar.update(1)\n",
    "\n",
    "print(f\"Added {len(headlines) - previous_size} augmented data to create a new training size of {len(training_headlines)} compared to the previous size of {previous_size}\")\n",
    "pbar.close()"
   ]
  },
  {
   "cell_type": "markdown",
   "metadata": {},
   "source": [
    "Download nltk resources"
   ]
  },
  {
   "cell_type": "code",
   "execution_count": null,
   "metadata": {},
   "outputs": [],
   "source": [
    "import nltk\n",
    "nltk.download ()"
   ]
  },
  {
   "cell_type": "markdown",
   "metadata": {},
   "source": [
    "Remove stop words and contractions."
   ]
  },
  {
   "cell_type": "code",
   "execution_count": 110,
   "metadata": {},
   "outputs": [],
   "source": [
    "from nltk.corpus import stopwords\n",
    "from nltk.stem import PorterStemmer, WordNetLemmatizer, SnowballStemmer\n",
    "import re\n",
    "\n",
    "lem = False\n",
    "v2 = True\n",
    "\n",
    "if v2:\n",
    "    stemmer = SnowballStemmer(language='english')\n",
    "else:\n",
    "    stemmer = PorterStemmer()\n",
    "lemmmatizer = WordNetLemmatizer()\n",
    "\n",
    "def preProcess(sentence):\n",
    "    words = []\n",
    "    for word in sentence.split():\n",
    "        #Take out all non letter characters\n",
    "        word = re.sub(\"[^a-zA-Z]+\", \"\", word.lower())\n",
    "        if word not in stopwords.words('english') and word != \"\":\n",
    "            if lem:\n",
    "                newWord = lemmmatizer.lemmatize(word)\n",
    "            else:\n",
    "                newWord = stemmer.stem(word)\n",
    "            words.append(newWord.replace(\"'\", \"\"))\n",
    "\n",
    "    return ' '.join(words)\n"
   ]
  },
  {
   "cell_type": "code",
   "execution_count": 111,
   "metadata": {},
   "outputs": [],
   "source": [
    "# iters = [training_headlines, testing_headlines]\n",
    "\n",
    "# for h in iters:\n",
    "#     for i in range(len(h)):\n",
    "#         h[i] = preProcess(h[i])\n",
    "\n",
    "for i in range(len(headlines)):\n",
    "    headlines[i] = preProcess(headlines[i])\n",
    "\n",
    "\n"
   ]
  },
  {
   "cell_type": "markdown",
   "metadata": {},
   "source": [
    "Split the data."
   ]
  },
  {
   "cell_type": "code",
   "execution_count": 112,
   "metadata": {},
   "outputs": [
    {
     "name": "stdout",
     "output_type": "stream",
     "text": [
      "Split into 2308 Training sets and 577 Testing sets.\n"
     ]
    }
   ],
   "source": [
    "from sklearn.model_selection import train_test_split\n",
    "training_headlines, testing_headlines, training_labels, testing_labels = train_test_split(headlines, labels, train_size=0.80)\n",
    "print(f\"Split into {len(training_headlines)} Training sets and {len(testing_headlines)} Testing sets.\")"
   ]
  },
  {
   "cell_type": "code",
   "execution_count": 113,
   "metadata": {},
   "outputs": [
    {
     "name": "stdout",
     "output_type": "stream",
     "text": [
      "Word Index Size: 4549\n"
     ]
    }
   ],
   "source": [
    "import numpy as np\n",
    "from tensorflow.keras.preprocessing.text import Tokenizer\n",
    "from tensorflow.keras.preprocessing.sequence import pad_sequences\n",
    "\n",
    "vocab_size = 10000\n",
    "max_length = 35\n",
    "trunc_type = \"post\"\n",
    "padding_type = \"post\"\n",
    "oov_tok = \"<OOV>\"\n",
    "\n",
    "tokenizer = Tokenizer(num_words=vocab_size, oov_token=oov_tok)\n",
    "\n",
    "# training tokenizer\n",
    "tokenizer.fit_on_texts(training_headlines)\n",
    "word_index = tokenizer.word_index\n",
    "print(f\"Word Index Size: {len(word_index)}\")\n",
    "#print(word_index)\n",
    "\n",
    "# adding padding \n",
    "training_sequences = tokenizer.texts_to_sequences(training_headlines)\n",
    "training_padded = pad_sequences(training_sequences, maxlen=max_length, padding=padding_type, truncating=trunc_type)\n",
    "\n",
    "testing_sequences = tokenizer.texts_to_sequences(testing_headlines)\n",
    "testing_padded = pad_sequences(testing_sequences, maxlen=max_length, padding=padding_type, truncating=trunc_type)\n",
    "\n",
    "training_labels = np.array(training_labels)\n",
    "testing_labels = np.array(testing_labels)"
   ]
  },
  {
   "cell_type": "markdown",
   "metadata": {},
   "source": [
    "Tune Hyperparameters."
   ]
  },
  {
   "cell_type": "code",
   "execution_count": 114,
   "metadata": {},
   "outputs": [],
   "source": [
    "embedding_dim = 16\n",
    "batch_size = 64\n",
    "epochs = 20\n",
    "learning_rate = 1e-4"
   ]
  },
  {
   "cell_type": "code",
   "execution_count": 115,
   "metadata": {},
   "outputs": [],
   "source": [
    "import tensorflow as tf\n",
    "\n",
    "tf.keras.backend.clear_session()\n",
    "\n",
    "model = tf.keras.Sequential([\n",
    "    tf.keras.layers.Embedding(vocab_size, embedding_dim, input_length=max_length),\n",
    "    tf.keras.layers.Bidirectional(tf.keras.layers.LSTM(200, return_sequences=False)),\n",
    "    tf.keras.layers.Dense(128, activation=\"relu\"),\n",
    "    tf.keras.layers.Dense(1, activation=\"sigmoid\")\n",
    "])\n",
    "\n",
    "model.compile(loss=\"binary_crossentropy\", optimizer= tf.keras.optimizers.Adam(learning_rate=learning_rate), metrics=[\"accuracy\"])"
   ]
  },
  {
   "cell_type": "markdown",
   "metadata": {},
   "source": [
    "Train model."
   ]
  },
  {
   "cell_type": "code",
   "execution_count": 116,
   "metadata": {},
   "outputs": [
    {
     "name": "stdout",
     "output_type": "stream",
     "text": [
      "Epoch 1/20\n",
      "37/37 [==============================] - 3s 31ms/step - loss: 0.6777 - accuracy: 0.6512 - val_loss: 0.6506 - val_accuracy: 0.6586\n",
      "Epoch 2/20\n",
      "37/37 [==============================] - 1s 16ms/step - loss: 0.6434 - accuracy: 0.6616 - val_loss: 0.6432 - val_accuracy: 0.6586\n",
      "Epoch 3/20\n",
      "37/37 [==============================] - 1s 16ms/step - loss: 0.6411 - accuracy: 0.6616 - val_loss: 0.6425 - val_accuracy: 0.6586\n",
      "Epoch 4/20\n",
      "37/37 [==============================] - 1s 16ms/step - loss: 0.6405 - accuracy: 0.6616 - val_loss: 0.6417 - val_accuracy: 0.6586\n",
      "Epoch 5/20\n",
      "37/37 [==============================] - 1s 17ms/step - loss: 0.6388 - accuracy: 0.6616 - val_loss: 0.6413 - val_accuracy: 0.6586\n",
      "Epoch 6/20\n",
      "37/37 [==============================] - 1s 16ms/step - loss: 0.6373 - accuracy: 0.6616 - val_loss: 0.6402 - val_accuracy: 0.6586\n",
      "Epoch 7/20\n",
      "37/37 [==============================] - 1s 16ms/step - loss: 0.6365 - accuracy: 0.6616 - val_loss: 0.6396 - val_accuracy: 0.6586\n",
      "Epoch 8/20\n",
      "37/37 [==============================] - 1s 16ms/step - loss: 0.6325 - accuracy: 0.6616 - val_loss: 0.6376 - val_accuracy: 0.6586\n",
      "Epoch 9/20\n",
      "37/37 [==============================] - 1s 16ms/step - loss: 0.6274 - accuracy: 0.6616 - val_loss: 0.6332 - val_accuracy: 0.6586\n",
      "Epoch 10/20\n",
      "37/37 [==============================] - 1s 17ms/step - loss: 0.6194 - accuracy: 0.6616 - val_loss: 0.6247 - val_accuracy: 0.6586\n",
      "Epoch 11/20\n",
      "37/37 [==============================] - 1s 16ms/step - loss: 0.5329 - accuracy: 0.7197 - val_loss: 0.7237 - val_accuracy: 0.7504\n",
      "Epoch 12/20\n",
      "37/37 [==============================] - 1s 16ms/step - loss: 0.3082 - accuracy: 0.8804 - val_loss: 0.5947 - val_accuracy: 0.7816\n",
      "Epoch 13/20\n",
      "37/37 [==============================] - 1s 16ms/step - loss: 0.2490 - accuracy: 0.9060 - val_loss: 0.5943 - val_accuracy: 0.7799\n",
      "Epoch 14/20\n",
      "37/37 [==============================] - 1s 16ms/step - loss: 0.2047 - accuracy: 0.9311 - val_loss: 0.6877 - val_accuracy: 0.7799\n",
      "Epoch 15/20\n",
      "37/37 [==============================] - 1s 17ms/step - loss: 0.1831 - accuracy: 0.9385 - val_loss: 0.6829 - val_accuracy: 0.7660\n",
      "Epoch 16/20\n",
      "37/37 [==============================] - 1s 16ms/step - loss: 0.1517 - accuracy: 0.9502 - val_loss: 0.7084 - val_accuracy: 0.7764\n",
      "Epoch 17/20\n",
      "37/37 [==============================] - 1s 16ms/step - loss: 0.1283 - accuracy: 0.9554 - val_loss: 0.8322 - val_accuracy: 0.7834\n"
     ]
    }
   ],
   "source": [
    "stop = tf.keras.callbacks.EarlyStopping(monitor='val_loss', patience=4)\n",
    "\n",
    "history = model.fit(training_padded, training_labels, batch_size=batch_size, epochs=epochs, validation_data=(testing_padded, testing_labels), callbacks=[stop])"
   ]
  },
  {
   "cell_type": "markdown",
   "metadata": {},
   "source": [
    "Plot findings."
   ]
  },
  {
   "cell_type": "code",
   "execution_count": 69,
   "metadata": {},
   "outputs": [],
   "source": [
    "import matplotlib.pyplot as plt\n",
    "\n",
    "def plot_graphs(history, string):\n",
    "    plt.plot(history.history[string])\n",
    "    plt.plot(history.history['val_'+string])\n",
    "    plt.xlabel(\"Epochs\")\n",
    "    plt.ylabel(string)\n",
    "    plt.legend([string, 'val_'+string])\n",
    "    plt.show()\n",
    "\n",
    "def plot_lr(history):\n",
    "    lrs = 1e-8 * (10 ** (np.arange(epochs) / 20))\n",
    "\n",
    "    # Set the figure size\n",
    "    plt.figure(figsize=(10, 6))\n",
    "\n",
    "    # Set the grid\n",
    "    plt.grid(True)\n",
    "\n",
    "    # Plot the loss in log scale\n",
    "    plt.semilogx(lrs, history.history[\"val_loss\"])\n",
    "\n",
    "    # Increase the tickmarks size\n",
    "    plt.tick_params('both', length=10, width=1, which='both')\n",
    "\n",
    "    # Set the plot boundaries\n",
    "    plt.axis([1e-8, 1e-3, 0, 2])\n",
    "    plt.show()"
   ]
  },
  {
   "cell_type": "code",
   "execution_count": 117,
   "metadata": {},
   "outputs": [
    {
     "data": {
      "image/png": "[encoded data removed]",
      "text/plain": [
       "<Figure size 432x288 with 1 Axes>"
      ]
     },
     "metadata": {
      "needs_background": "light"
     },
     "output_type": "display_data"
    },
    {
     "data": {
      "image/png": "[encoded data removed]",
      "text/plain": [
       "<Figure size 432x288 with 1 Axes>"
      ]
     },
     "metadata": {
      "needs_background": "light"
     },
     "output_type": "display_data"
    }
   ],
   "source": [
    "#plot_lr(history)\n",
    "plot_graphs(history, \"accuracy\")\n",
    "plot_graphs(history, \"loss\")"
   ]
  }
 ],
 "metadata": {
  "kernelspec": {
   "display_name": "Python 3.9.9 64-bit",
   "language": "python",
   "name": "python3"
  },
  "language_info": {
   "codemirror_mode": {
    "name": "ipython",
    "version": 3
   },
   "file_extension": ".py",
   "mimetype": "text/x-python",
   "name": "python",
   "nbconvert_exporter": "python",
   "pygments_lexer": "ipython3",
   "version": "3.9.9"
  },
  "orig_nbformat": 4,
  "vscode": {
   "interpreter": {
    "hash": "79188e7b3db958bc33c0eddae362b792fd2a35c877eabc176cb34dd7f9cc4927"
   }
  }
 },
 "nbformat": 4,
 "nbformat_minor": 2
}
