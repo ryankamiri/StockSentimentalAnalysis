{
 "cells": [
  {
   "cell_type": "markdown",
   "metadata": {},
   "source": [
    "First, we load in the data."
   ]
  },
  {
   "cell_type": "code",
   "execution_count": 7,
   "metadata": {},
   "outputs": [],
   "source": [
    "import json\n",
    "\n",
    "with open(\"./data/training_data.json\", 'r') as f:\n",
    "    datastore = json.load(f)\n",
    "\n",
    "headlines = []\n",
    "labels = []\n",
    "\n",
    "for item in datastore:\n",
    "    headlines.append(item['title'])\n",
    "    labels.append(item['good_news'])"
   ]
  },
  {
   "cell_type": "markdown",
   "metadata": {},
   "source": [
    "Download nltk resources"
   ]
  },
  {
   "cell_type": "code",
   "execution_count": null,
   "metadata": {},
   "outputs": [],
   "source": [
    "import nltk\n",
    "nltk.download ()"
   ]
  },
  {
   "cell_type": "markdown",
   "metadata": {},
   "source": [
    "Remove stop words and contractions."
   ]
  },
  {
   "cell_type": "code",
   "execution_count": 8,
   "metadata": {},
   "outputs": [],
   "source": [
    "from nltk.corpus import stopwords\n",
    "from nltk.stem import PorterStemmer\n",
    "\n",
    "stemmer=PorterStemmer()\n",
    "for i in range(len(headlines)):\n",
    "    words = []\n",
    "    for word in headlines[i].split():\n",
    "        if not word in stopwords.words('english'):\n",
    "            words.append(stemmer.stem(word).replace(\"'\", \"\"))\n",
    "\n",
    "    headlines[i]=' '.join(words)\n",
    "\n",
    "\n"
   ]
  },
  {
   "cell_type": "markdown",
   "metadata": {},
   "source": [
    "Split the data."
   ]
  },
  {
   "cell_type": "code",
   "execution_count": 9,
   "metadata": {},
   "outputs": [],
   "source": [
    "from sklearn.model_selection import train_test_split\n",
    "training_headlines, testing_headlines, training_labels, testing_labels = train_test_split(headlines, labels, train_size=0.8)"
   ]
  },
  {
   "cell_type": "code",
   "execution_count": 12,
   "metadata": {},
   "outputs": [],
   "source": [
    "import numpy as np\n",
    "from tensorflow.keras.preprocessing.text import Tokenizer\n",
    "from tensorflow.keras.preprocessing.sequence import pad_sequences\n",
    "\n",
    "vocab_size = 10000\n",
    "max_length = 25\n",
    "trunc_type='post'\n",
    "padding_type='post'\n",
    "oov_tok = \"<OOV>\"\n",
    "\n",
    "tokenizer = Tokenizer(num_words=vocab_size, oov_token=oov_tok)\n",
    "\n",
    "# training tokenizer\n",
    "tokenizer.fit_on_texts(headlines)\n",
    "word_index = tokenizer.word_index\n",
    "\n",
    "# adding padding \n",
    "training_sequences = tokenizer.texts_to_sequences(training_headlines)\n",
    "training_padded = pad_sequences(training_sequences, maxlen=max_length, padding=padding_type, truncating=trunc_type)\n",
    "\n",
    "testing_sequences = tokenizer.texts_to_sequences(testing_headlines)\n",
    "testing_padded = pad_sequences(testing_sequences, maxlen=max_length, padding=padding_type, truncating=trunc_type)\n",
    "\n",
    "training_labels = np.array(training_labels)\n",
    "testing_labels = np.array(testing_labels)"
   ]
  },
  {
   "cell_type": "markdown",
   "metadata": {},
   "source": [
    "Tune Hyperparameters."
   ]
  },
  {
   "cell_type": "code",
   "execution_count": 39,
   "metadata": {},
   "outputs": [],
   "source": [
    "embedding_dim = 10\n",
    "batch_size = 8\n",
    "epochs = 100\n",
    "learning_rate = 9e-5"
   ]
  },
  {
   "cell_type": "code",
   "execution_count": 40,
   "metadata": {},
   "outputs": [],
   "source": [
    "import tensorflow as tf\n",
    "\n",
    "tf.keras.backend.clear_session()\n",
    "\n",
    "model = tf.keras.Sequential([\n",
    "    tf.keras.layers.Embedding(vocab_size, embedding_dim, input_length=max_length),\n",
    "    tf.keras.layers.Dropout(0.5),\n",
    "    tf.keras.layers.Bidirectional(tf.keras.layers.LSTM(32)),\n",
    "    tf.keras.layers.Dropout(0.5),\n",
    "    tf.keras.layers.Dense(10, activation=\"relu\"),\n",
    "    tf.keras.layers.Dense(1, activation=\"sigmoid\")\n",
    "])\n",
    "\n",
    "model.compile(loss=\"binary_crossentropy\", optimizer= tf.keras.optimizers.Adam(learning_rate=learning_rate), metrics=[\"accuracy\"])"
   ]
  },
  {
   "cell_type": "markdown",
   "metadata": {},
   "source": [
    "Train model."
   ]
  },
  {
   "cell_type": "code",
   "execution_count": 41,
   "metadata": {},
   "outputs": [
    {
     "name": "stdout",
     "output_type": "stream",
     "text": [
      "Epoch 1/100\n",
      "74/74 [==============================] - 3s 21ms/step - loss: 0.6933 - accuracy: 0.4797 - val_loss: 0.6931 - val_accuracy: 0.5270\n",
      "Epoch 2/100\n",
      "74/74 [==============================] - 1s 12ms/step - loss: 0.6932 - accuracy: 0.4831 - val_loss: 0.6931 - val_accuracy: 0.5000\n",
      "Epoch 3/100\n",
      "74/74 [==============================] - 1s 13ms/step - loss: 0.6924 - accuracy: 0.5695 - val_loss: 0.6930 - val_accuracy: 0.5068\n",
      "Epoch 4/100\n",
      "74/74 [==============================] - 1s 13ms/step - loss: 0.6929 - accuracy: 0.5390 - val_loss: 0.6929 - val_accuracy: 0.5068\n",
      "Epoch 5/100\n",
      "74/74 [==============================] - 1s 13ms/step - loss: 0.6924 - accuracy: 0.5085 - val_loss: 0.6927 - val_accuracy: 0.5068\n",
      "Epoch 6/100\n",
      "74/74 [==============================] - 1s 13ms/step - loss: 0.6917 - accuracy: 0.5119 - val_loss: 0.6925 - val_accuracy: 0.5068\n",
      "Epoch 7/100\n",
      "74/74 [==============================] - 1s 12ms/step - loss: 0.6914 - accuracy: 0.5322 - val_loss: 0.6920 - val_accuracy: 0.5068\n",
      "Epoch 8/100\n",
      "74/74 [==============================] - 1s 12ms/step - loss: 0.6898 - accuracy: 0.5712 - val_loss: 0.6913 - val_accuracy: 0.5068\n",
      "Epoch 9/100\n",
      "74/74 [==============================] - 1s 12ms/step - loss: 0.6868 - accuracy: 0.5763 - val_loss: 0.6893 - val_accuracy: 0.6351\n",
      "Epoch 10/100\n",
      "74/74 [==============================] - 1s 13ms/step - loss: 0.6842 - accuracy: 0.6271 - val_loss: 0.6870 - val_accuracy: 0.5608\n",
      "Epoch 11/100\n",
      "74/74 [==============================] - 1s 13ms/step - loss: 0.6782 - accuracy: 0.6661 - val_loss: 0.6837 - val_accuracy: 0.5068\n",
      "Epoch 12/100\n",
      "74/74 [==============================] - 1s 13ms/step - loss: 0.6648 - accuracy: 0.6288 - val_loss: 0.6743 - val_accuracy: 0.5743\n",
      "Epoch 13/100\n",
      "74/74 [==============================] - 1s 13ms/step - loss: 0.6492 - accuracy: 0.6542 - val_loss: 0.6633 - val_accuracy: 0.6284\n",
      "Epoch 14/100\n",
      "74/74 [==============================] - 1s 13ms/step - loss: 0.6243 - accuracy: 0.6695 - val_loss: 0.6528 - val_accuracy: 0.6351\n",
      "Epoch 15/100\n",
      "74/74 [==============================] - 1s 13ms/step - loss: 0.5753 - accuracy: 0.7237 - val_loss: 0.6577 - val_accuracy: 0.5878\n",
      "Epoch 16/100\n",
      "74/74 [==============================] - 1s 13ms/step - loss: 0.5150 - accuracy: 0.7610 - val_loss: 0.6468 - val_accuracy: 0.6554\n",
      "Epoch 17/100\n",
      "74/74 [==============================] - 1s 13ms/step - loss: 0.4547 - accuracy: 0.8068 - val_loss: 0.6241 - val_accuracy: 0.6892\n",
      "Epoch 18/100\n",
      "74/74 [==============================] - 1s 13ms/step - loss: 0.4077 - accuracy: 0.8271 - val_loss: 0.5983 - val_accuracy: 0.6622\n",
      "Epoch 19/100\n",
      "74/74 [==============================] - 1s 13ms/step - loss: 0.2983 - accuracy: 0.8831 - val_loss: 0.5571 - val_accuracy: 0.7365\n",
      "Epoch 20/100\n",
      "74/74 [==============================] - 1s 13ms/step - loss: 0.2207 - accuracy: 0.9220 - val_loss: 0.5087 - val_accuracy: 0.7703\n",
      "Epoch 21/100\n",
      "74/74 [==============================] - 1s 13ms/step - loss: 0.1606 - accuracy: 0.9492 - val_loss: 0.5172 - val_accuracy: 0.7905\n",
      "Epoch 22/100\n",
      "74/74 [==============================] - 1s 13ms/step - loss: 0.1213 - accuracy: 0.9627 - val_loss: 0.5643 - val_accuracy: 0.8041\n",
      "Epoch 23/100\n",
      "74/74 [==============================] - 1s 13ms/step - loss: 0.1685 - accuracy: 0.9475 - val_loss: 0.5474 - val_accuracy: 0.7905\n",
      "Epoch 24/100\n",
      "74/74 [==============================] - 1s 13ms/step - loss: 0.1086 - accuracy: 0.9627 - val_loss: 0.5268 - val_accuracy: 0.8108\n",
      "Epoch 25/100\n",
      "74/74 [==============================] - 1s 13ms/step - loss: 0.0989 - accuracy: 0.9746 - val_loss: 0.5342 - val_accuracy: 0.8176\n",
      "Epoch 26/100\n",
      "74/74 [==============================] - 1s 13ms/step - loss: 0.0905 - accuracy: 0.9746 - val_loss: 0.5854 - val_accuracy: 0.8041\n",
      "Epoch 27/100\n",
      "74/74 [==============================] - 1s 13ms/step - loss: 0.0878 - accuracy: 0.9763 - val_loss: 0.5433 - val_accuracy: 0.8108\n",
      "Epoch 28/100\n",
      "74/74 [==============================] - 1s 12ms/step - loss: 0.0965 - accuracy: 0.9712 - val_loss: 0.5698 - val_accuracy: 0.8108\n",
      "Epoch 29/100\n",
      "74/74 [==============================] - 1s 13ms/step - loss: 0.1007 - accuracy: 0.9695 - val_loss: 0.6051 - val_accuracy: 0.8108\n",
      "Epoch 30/100\n",
      "74/74 [==============================] - 1s 13ms/step - loss: 0.0975 - accuracy: 0.9678 - val_loss: 0.5508 - val_accuracy: 0.8108\n",
      "Epoch 31/100\n",
      "74/74 [==============================] - 1s 13ms/step - loss: 0.0783 - accuracy: 0.9746 - val_loss: 0.5641 - val_accuracy: 0.7905\n",
      "Epoch 32/100\n",
      "74/74 [==============================] - 1s 13ms/step - loss: 0.0548 - accuracy: 0.9864 - val_loss: 0.6231 - val_accuracy: 0.7973\n",
      "Epoch 33/100\n",
      "74/74 [==============================] - 1s 13ms/step - loss: 0.0614 - accuracy: 0.9831 - val_loss: 0.5964 - val_accuracy: 0.7973\n",
      "Epoch 34/100\n",
      "74/74 [==============================] - 1s 13ms/step - loss: 0.0736 - accuracy: 0.9729 - val_loss: 0.5931 - val_accuracy: 0.8108\n",
      "Epoch 35/100\n",
      "74/74 [==============================] - 1s 12ms/step - loss: 0.0808 - accuracy: 0.9763 - val_loss: 0.6197 - val_accuracy: 0.8041\n",
      "Epoch 36/100\n",
      "74/74 [==============================] - 1s 13ms/step - loss: 0.0511 - accuracy: 0.9847 - val_loss: 0.6410 - val_accuracy: 0.8041\n",
      "Epoch 37/100\n",
      "74/74 [==============================] - 1s 13ms/step - loss: 0.0474 - accuracy: 0.9881 - val_loss: 0.6141 - val_accuracy: 0.8108\n",
      "Epoch 38/100\n",
      "74/74 [==============================] - 1s 13ms/step - loss: 0.0444 - accuracy: 0.9780 - val_loss: 0.6558 - val_accuracy: 0.7973\n",
      "Epoch 39/100\n",
      "74/74 [==============================] - 1s 13ms/step - loss: 0.0234 - accuracy: 0.9966 - val_loss: 0.6337 - val_accuracy: 0.8108\n",
      "Epoch 40/100\n",
      "74/74 [==============================] - 1s 13ms/step - loss: 0.0323 - accuracy: 0.9915 - val_loss: 0.7762 - val_accuracy: 0.7838\n",
      "Epoch 41/100\n",
      "74/74 [==============================] - 1s 13ms/step - loss: 0.0562 - accuracy: 0.9797 - val_loss: 0.6068 - val_accuracy: 0.8243\n",
      "Epoch 42/100\n",
      "74/74 [==============================] - 1s 13ms/step - loss: 0.0548 - accuracy: 0.9797 - val_loss: 0.6847 - val_accuracy: 0.7905\n",
      "Epoch 43/100\n",
      "74/74 [==============================] - 1s 13ms/step - loss: 0.0326 - accuracy: 0.9898 - val_loss: 0.6849 - val_accuracy: 0.7973\n",
      "Epoch 44/100\n",
      "74/74 [==============================] - 1s 13ms/step - loss: 0.0489 - accuracy: 0.9881 - val_loss: 0.6739 - val_accuracy: 0.7905\n",
      "Epoch 45/100\n",
      "74/74 [==============================] - 1s 13ms/step - loss: 0.0194 - accuracy: 0.9932 - val_loss: 0.7015 - val_accuracy: 0.8176\n",
      "Epoch 46/100\n",
      "74/74 [==============================] - 1s 13ms/step - loss: 0.0747 - accuracy: 0.9746 - val_loss: 0.6868 - val_accuracy: 0.7973\n",
      "Epoch 47/100\n",
      "74/74 [==============================] - 1s 13ms/step - loss: 0.0355 - accuracy: 0.9898 - val_loss: 0.6703 - val_accuracy: 0.8108\n",
      "Epoch 48/100\n",
      "74/74 [==============================] - 1s 13ms/step - loss: 0.0350 - accuracy: 0.9881 - val_loss: 0.7207 - val_accuracy: 0.8108\n",
      "Epoch 49/100\n",
      "74/74 [==============================] - 1s 13ms/step - loss: 0.0182 - accuracy: 0.9949 - val_loss: 0.6831 - val_accuracy: 0.8108\n",
      "Epoch 50/100\n",
      "74/74 [==============================] - 1s 13ms/step - loss: 0.0333 - accuracy: 0.9864 - val_loss: 0.7194 - val_accuracy: 0.8108\n",
      "Epoch 51/100\n",
      "74/74 [==============================] - 1s 13ms/step - loss: 0.0413 - accuracy: 0.9881 - val_loss: 0.6920 - val_accuracy: 0.8108\n",
      "Epoch 52/100\n",
      "74/74 [==============================] - 1s 13ms/step - loss: 0.0255 - accuracy: 0.9932 - val_loss: 0.7216 - val_accuracy: 0.8176\n",
      "Epoch 53/100\n",
      "74/74 [==============================] - 1s 13ms/step - loss: 0.0274 - accuracy: 0.9898 - val_loss: 0.7184 - val_accuracy: 0.8176\n",
      "Epoch 54/100\n",
      "74/74 [==============================] - 1s 13ms/step - loss: 0.0342 - accuracy: 0.9915 - val_loss: 0.7724 - val_accuracy: 0.8108\n",
      "Epoch 55/100\n",
      "74/74 [==============================] - 1s 13ms/step - loss: 0.0337 - accuracy: 0.9932 - val_loss: 0.7434 - val_accuracy: 0.8176\n",
      "Epoch 56/100\n",
      "74/74 [==============================] - 1s 13ms/step - loss: 0.0349 - accuracy: 0.9864 - val_loss: 0.7082 - val_accuracy: 0.8108\n",
      "Epoch 57/100\n",
      "74/74 [==============================] - 1s 13ms/step - loss: 0.0223 - accuracy: 0.9915 - val_loss: 0.7560 - val_accuracy: 0.8243\n",
      "Epoch 58/100\n",
      "74/74 [==============================] - 1s 13ms/step - loss: 0.0437 - accuracy: 0.9864 - val_loss: 0.7353 - val_accuracy: 0.8243\n",
      "Epoch 59/100\n",
      "74/74 [==============================] - 1s 14ms/step - loss: 0.0241 - accuracy: 0.9898 - val_loss: 0.7178 - val_accuracy: 0.8243\n",
      "Epoch 60/100\n",
      "74/74 [==============================] - 1s 12ms/step - loss: 0.0214 - accuracy: 0.9949 - val_loss: 0.7710 - val_accuracy: 0.8108\n",
      "Epoch 61/100\n",
      "74/74 [==============================] - 1s 12ms/step - loss: 0.0427 - accuracy: 0.9881 - val_loss: 0.7277 - val_accuracy: 0.8041\n",
      "Epoch 62/100\n",
      "74/74 [==============================] - 1s 13ms/step - loss: 0.0196 - accuracy: 0.9932 - val_loss: 0.7300 - val_accuracy: 0.8108\n",
      "Epoch 63/100\n",
      "74/74 [==============================] - 1s 13ms/step - loss: 0.0103 - accuracy: 0.9966 - val_loss: 0.7306 - val_accuracy: 0.8176\n",
      "Epoch 64/100\n",
      "74/74 [==============================] - 1s 12ms/step - loss: 0.0151 - accuracy: 0.9966 - val_loss: 0.7575 - val_accuracy: 0.8108\n",
      "Epoch 65/100\n",
      "74/74 [==============================] - 1s 12ms/step - loss: 0.0237 - accuracy: 0.9915 - val_loss: 0.7427 - val_accuracy: 0.8176\n",
      "Epoch 66/100\n",
      "74/74 [==============================] - 1s 12ms/step - loss: 0.0287 - accuracy: 0.9881 - val_loss: 0.7476 - val_accuracy: 0.8243\n",
      "Epoch 67/100\n",
      "74/74 [==============================] - 1s 12ms/step - loss: 0.0431 - accuracy: 0.9864 - val_loss: 0.6423 - val_accuracy: 0.8176\n",
      "Epoch 68/100\n",
      "74/74 [==============================] - 1s 12ms/step - loss: 0.0317 - accuracy: 0.9898 - val_loss: 0.7595 - val_accuracy: 0.8108\n",
      "Epoch 69/100\n",
      "74/74 [==============================] - 1s 12ms/step - loss: 0.0187 - accuracy: 0.9966 - val_loss: 0.7380 - val_accuracy: 0.8243\n",
      "Epoch 70/100\n",
      "74/74 [==============================] - 1s 12ms/step - loss: 0.0111 - accuracy: 0.9966 - val_loss: 0.7553 - val_accuracy: 0.8108\n",
      "Epoch 71/100\n",
      "74/74 [==============================] - 1s 12ms/step - loss: 0.0310 - accuracy: 0.9949 - val_loss: 0.7762 - val_accuracy: 0.8176\n",
      "Epoch 72/100\n",
      "74/74 [==============================] - 1s 13ms/step - loss: 0.0262 - accuracy: 0.9932 - val_loss: 0.8228 - val_accuracy: 0.8041\n",
      "Epoch 73/100\n",
      "74/74 [==============================] - 1s 12ms/step - loss: 0.0215 - accuracy: 0.9932 - val_loss: 0.7673 - val_accuracy: 0.8243\n",
      "Epoch 74/100\n",
      "74/74 [==============================] - 1s 12ms/step - loss: 0.0219 - accuracy: 0.9932 - val_loss: 0.7689 - val_accuracy: 0.8108\n",
      "Epoch 75/100\n",
      "74/74 [==============================] - 1s 12ms/step - loss: 0.0218 - accuracy: 0.9949 - val_loss: 0.7675 - val_accuracy: 0.8176\n",
      "Epoch 76/100\n",
      "74/74 [==============================] - 1s 12ms/step - loss: 0.0040 - accuracy: 1.0000 - val_loss: 0.8106 - val_accuracy: 0.8108\n",
      "Epoch 77/100\n",
      "74/74 [==============================] - 1s 12ms/step - loss: 0.0095 - accuracy: 0.9983 - val_loss: 0.8176 - val_accuracy: 0.8108\n",
      "Epoch 78/100\n",
      "74/74 [==============================] - 1s 12ms/step - loss: 0.0187 - accuracy: 0.9932 - val_loss: 0.8504 - val_accuracy: 0.8108\n",
      "Epoch 79/100\n",
      "74/74 [==============================] - 1s 12ms/step - loss: 0.0107 - accuracy: 0.9949 - val_loss: 0.8160 - val_accuracy: 0.8108\n",
      "Epoch 80/100\n",
      "74/74 [==============================] - 1s 12ms/step - loss: 0.0062 - accuracy: 1.0000 - val_loss: 0.8402 - val_accuracy: 0.8041\n",
      "Epoch 81/100\n",
      "74/74 [==============================] - 1s 13ms/step - loss: 0.0156 - accuracy: 0.9949 - val_loss: 0.8395 - val_accuracy: 0.8108\n",
      "Epoch 82/100\n",
      "74/74 [==============================] - 1s 12ms/step - loss: 0.0161 - accuracy: 0.9949 - val_loss: 0.8665 - val_accuracy: 0.8108\n",
      "Epoch 83/100\n",
      "74/74 [==============================] - 1s 13ms/step - loss: 0.0191 - accuracy: 0.9949 - val_loss: 0.8234 - val_accuracy: 0.8108\n",
      "Epoch 84/100\n",
      "74/74 [==============================] - 1s 12ms/step - loss: 0.0107 - accuracy: 0.9949 - val_loss: 0.8392 - val_accuracy: 0.8243\n",
      "Epoch 85/100\n",
      "74/74 [==============================] - 1s 12ms/step - loss: 0.0192 - accuracy: 0.9966 - val_loss: 0.8586 - val_accuracy: 0.8108\n",
      "Epoch 86/100\n",
      "74/74 [==============================] - 1s 12ms/step - loss: 0.0167 - accuracy: 0.9949 - val_loss: 0.7955 - val_accuracy: 0.8176\n",
      "Epoch 87/100\n",
      "74/74 [==============================] - 1s 12ms/step - loss: 0.0079 - accuracy: 1.0000 - val_loss: 0.8450 - val_accuracy: 0.8176\n",
      "Epoch 88/100\n",
      "74/74 [==============================] - 1s 12ms/step - loss: 0.0032 - accuracy: 1.0000 - val_loss: 0.8789 - val_accuracy: 0.8176\n",
      "Epoch 89/100\n",
      "74/74 [==============================] - 1s 13ms/step - loss: 0.0268 - accuracy: 0.9915 - val_loss: 0.9780 - val_accuracy: 0.8041\n",
      "Epoch 90/100\n",
      "74/74 [==============================] - 1s 13ms/step - loss: 0.0109 - accuracy: 0.9966 - val_loss: 0.8093 - val_accuracy: 0.8108\n",
      "Epoch 91/100\n",
      "74/74 [==============================] - 1s 13ms/step - loss: 0.0054 - accuracy: 1.0000 - val_loss: 0.8561 - val_accuracy: 0.8108\n",
      "Epoch 92/100\n",
      "74/74 [==============================] - 1s 13ms/step - loss: 0.0034 - accuracy: 1.0000 - val_loss: 0.8617 - val_accuracy: 0.8243\n",
      "Epoch 93/100\n",
      "74/74 [==============================] - 1s 13ms/step - loss: 0.0169 - accuracy: 0.9966 - val_loss: 0.8668 - val_accuracy: 0.8108\n",
      "Epoch 94/100\n",
      "74/74 [==============================] - 1s 13ms/step - loss: 0.0073 - accuracy: 0.9983 - val_loss: 0.8949 - val_accuracy: 0.8243\n",
      "Epoch 95/100\n",
      "74/74 [==============================] - 1s 13ms/step - loss: 0.0208 - accuracy: 0.9949 - val_loss: 0.9567 - val_accuracy: 0.7973\n",
      "Epoch 96/100\n",
      "74/74 [==============================] - 1s 13ms/step - loss: 0.0083 - accuracy: 0.9983 - val_loss: 0.8818 - val_accuracy: 0.8041\n",
      "Epoch 97/100\n",
      "74/74 [==============================] - 1s 13ms/step - loss: 0.0036 - accuracy: 0.9983 - val_loss: 0.9873 - val_accuracy: 0.8108\n",
      "Epoch 98/100\n",
      "74/74 [==============================] - 1s 13ms/step - loss: 0.0195 - accuracy: 0.9949 - val_loss: 0.8828 - val_accuracy: 0.8108\n",
      "Epoch 99/100\n",
      "74/74 [==============================] - 1s 13ms/step - loss: 0.0260 - accuracy: 0.9966 - val_loss: 0.9019 - val_accuracy: 0.8108\n",
      "Epoch 100/100\n",
      "74/74 [==============================] - 1s 13ms/step - loss: 0.0173 - accuracy: 0.9915 - val_loss: 0.8416 - val_accuracy: 0.8176\n"
     ]
    }
   ],
   "source": [
    "lr_schedule = tf.keras.callbacks.LearningRateScheduler(\n",
    "    lambda epoch: 1e-8 * 10**(epoch / 20))\n",
    "\n",
    "history = model.fit(training_padded, training_labels, batch_size=batch_size, epochs=epochs, validation_data=(testing_padded, testing_labels), callbacks=[])"
   ]
  },
  {
   "cell_type": "markdown",
   "metadata": {},
   "source": [
    "Plot findings."
   ]
  },
  {
   "cell_type": "code",
   "execution_count": 26,
   "metadata": {},
   "outputs": [],
   "source": [
    "import matplotlib.pyplot as plt\n",
    "\n",
    "def plot_graphs(history, string):\n",
    "    plt.plot(history.history[string])\n",
    "    plt.plot(history.history['val_'+string])\n",
    "    plt.xlabel(\"Epochs\")\n",
    "    plt.ylabel(string)\n",
    "    plt.legend([string, 'val_'+string])\n",
    "    plt.show()\n",
    "\n",
    "def plot_lr(history):\n",
    "    lrs = 1e-8 * (10 ** (np.arange(epochs) / 20))\n",
    "\n",
    "    # Set the figure size\n",
    "    plt.figure(figsize=(10, 6))\n",
    "\n",
    "    # Set the grid\n",
    "    plt.grid(True)\n",
    "\n",
    "    # Plot the loss in log scale\n",
    "    plt.semilogx(lrs, history.history[\"val_loss\"])\n",
    "\n",
    "    # Increase the tickmarks size\n",
    "    plt.tick_params('both', length=10, width=1, which='both')\n",
    "\n",
    "    # Set the plot boundaries\n",
    "    plt.axis([1e-8, 1e-3, 0, 2])\n",
    "    plt.show()"
   ]
  },
  {
   "cell_type": "code",
   "execution_count": 42,
   "metadata": {},
   "outputs": [
    {
     "data": {
      "image/png": "[encoded data removed]",
      "text/plain": [
       "<Figure size 432x288 with 1 Axes>"
      ]
     },
     "metadata": {
      "needs_background": "light"
     },
     "output_type": "display_data"
    },
    {
     "data": {
      "image/png": "[encoded data removed]",
      "text/plain": [
       "<Figure size 432x288 with 1 Axes>"
      ]
     },
     "metadata": {
      "needs_background": "light"
     },
     "output_type": "display_data"
    }
   ],
   "source": [
    "#plot_lr(history)\n",
    "plot_graphs(history, \"accuracy\")\n",
    "plot_graphs(history, \"loss\")"
   ]
  }
 ],
 "metadata": {
  "kernelspec": {
   "display_name": "Python 3.9.9 64-bit",
   "language": "python",
   "name": "python3"
  },
  "language_info": {
   "codemirror_mode": {
    "name": "ipython",
    "version": 3
   },
   "file_extension": ".py",
   "mimetype": "text/x-python",
   "name": "python",
   "nbconvert_exporter": "python",
   "pygments_lexer": "ipython3",
   "version": "3.9.9"
  },
  "orig_nbformat": 4,
  "vscode": {
   "interpreter": {
    "hash": "79188e7b3db958bc33c0eddae362b792fd2a35c877eabc176cb34dd7f9cc4927"
   }
  }
 },
 "nbformat": 4,
 "nbformat_minor": 2
}
