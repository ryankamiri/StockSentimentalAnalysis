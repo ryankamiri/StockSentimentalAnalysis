{
 "cells": [
  {
   "cell_type": "markdown",
   "metadata": {},
   "source": [
    "First, we load in the data."
   ]
  },
  {
   "cell_type": "code",
   "execution_count": 26,
   "metadata": {},
   "outputs": [],
   "source": [
    "import json\n",
    "\n",
    "with open(\"./data/training_data.json\", 'r') as f:\n",
    "    datastore = json.load(f)\n",
    "\n",
    "headlines = []\n",
    "labels = []\n",
    "\n",
    "for item in datastore:\n",
    "    headlines.append(item['title'])\n",
    "    labels.append(item['good_news'])"
   ]
  },
  {
   "cell_type": "markdown",
   "metadata": {},
   "source": [
    "Augment NLP with Translate\n"
   ]
  },
  {
   "cell_type": "code",
   "execution_count": 27,
   "metadata": {},
   "outputs": [],
   "source": [
    "from deep_translator import GoogleTranslator\n",
    "\n",
    "def back_translate(sequence, language=\"es\"):\n",
    "    translated = GoogleTranslator(source='auto', target=language).translate(sequence)\n",
    "\n",
    "    translated_back = GoogleTranslator(source=language, target=\"en\").translate(translated)\n",
    "\n",
    "    return translated_back"
   ]
  },
  {
   "cell_type": "code",
   "execution_count": 36,
   "metadata": {},
   "outputs": [
    {
     "data": {
      "application/vnd.jupyter.widget-view+json": {
       "model_id": "92b8e0d6a4014ea2b32b0907ed1443a8",
       "version_major": 2,
       "version_minor": 0
      },
      "text/plain": [
       "  0%|          | 0/1890 [00:00<?, ?it/s]"
      ]
     },
     "metadata": {},
     "output_type": "display_data"
    },
    {
     "name": "stdout",
     "output_type": "stream",
     "text": [
      "Added 859 augmented data to create a new training size of 2749 compared to the previous size of 1890\n"
     ]
    }
   ],
   "source": [
    "from tqdm.notebook import tqdm\n",
    "import random\n",
    "\n",
    "previous_size = len(headlines)\n",
    "\n",
    "pbar = tqdm(total=len(headlines))\n",
    "for i in range(len(headlines)):\n",
    "    if random.randint(0, 1) == 0:\n",
    "        pbar.update(1)\n",
    "        continue\n",
    "    headline = headlines[i]\n",
    "    label = labels[i]\n",
    "    new_headline = back_translate(headline)\n",
    "    if new_headline != headline:\n",
    "        headlines.append(new_headline)\n",
    "        labels.append(label)\n",
    "    pbar.update(1)\n",
    "\n",
    "print(f\"Added {len(headlines) - previous_size} augmented data to create a new training size of {len(headlines)} compared to the previous size of {previous_size}\")\n",
    "pbar.close()"
   ]
  },
  {
   "cell_type": "markdown",
   "metadata": {},
   "source": [
    "Download nltk resources"
   ]
  },
  {
   "cell_type": "code",
   "execution_count": null,
   "metadata": {},
   "outputs": [],
   "source": [
    "import nltk\n",
    "nltk.download ()"
   ]
  },
  {
   "cell_type": "markdown",
   "metadata": {},
   "source": [
    "Remove stop words and contractions."
   ]
  },
  {
   "cell_type": "code",
   "execution_count": 64,
   "metadata": {},
   "outputs": [],
   "source": [
    "def preProcess(sentence):\n",
    "    words = []\n",
    "    for word in sentence.split():\n",
    "        if not word in stopwords.words('english'):\n",
    "            words.append(stemmer.stem(word).replace(\"'\", \"\"))\n",
    "\n",
    "    return ' '.join(words)\n"
   ]
  },
  {
   "cell_type": "code",
   "execution_count": 65,
   "metadata": {},
   "outputs": [],
   "source": [
    "from nltk.corpus import stopwords\n",
    "from nltk.stem import PorterStemmer\n",
    "\n",
    "stemmer=PorterStemmer()\n",
    "for i in range(len(headlines)):\n",
    "    headlines[i] = preProcess(headlines[i])\n",
    "\n",
    "\n"
   ]
  },
  {
   "cell_type": "markdown",
   "metadata": {},
   "source": [
    "Split the data."
   ]
  },
  {
   "cell_type": "code",
   "execution_count": 66,
   "metadata": {},
   "outputs": [
    {
     "name": "stdout",
     "output_type": "stream",
     "text": [
      "Split into 2061 Training sets and 688 Testing sets.\n"
     ]
    }
   ],
   "source": [
    "from sklearn.model_selection import train_test_split\n",
    "training_headlines, testing_headlines, training_labels, testing_labels = train_test_split(headlines, labels, train_size=0.75)\n",
    "print(f\"Split into {len(training_headlines)} Training sets and {len(testing_headlines)} Testing sets.\")"
   ]
  },
  {
   "cell_type": "code",
   "execution_count": 71,
   "metadata": {},
   "outputs": [
    {
     "name": "stdout",
     "output_type": "stream",
     "text": [
      "Word Index Size: 4260\n"
     ]
    }
   ],
   "source": [
    "import numpy as np\n",
    "from tensorflow.keras.preprocessing.text import Tokenizer\n",
    "from tensorflow.keras.preprocessing.sequence import pad_sequences\n",
    "\n",
    "vocab_size = 10000\n",
    "max_length = 25\n",
    "trunc_type='post'\n",
    "padding_type='post'\n",
    "oov_tok = \"<OOV>\"\n",
    "\n",
    "tokenizer = Tokenizer(num_words=vocab_size, oov_token=oov_tok)\n",
    "\n",
    "# training tokenizer\n",
    "tokenizer.fit_on_texts(headlines)\n",
    "word_index = tokenizer.word_index\n",
    "print(f\"Word Index Size: {len(word_index)}\")\n",
    "\n",
    "# adding padding \n",
    "training_sequences = tokenizer.texts_to_sequences(training_headlines)\n",
    "training_padded = pad_sequences(training_sequences, maxlen=max_length, padding=padding_type, truncating=trunc_type)\n",
    "\n",
    "testing_sequences = tokenizer.texts_to_sequences(testing_headlines)\n",
    "testing_padded = pad_sequences(testing_sequences, maxlen=max_length, padding=padding_type, truncating=trunc_type)\n",
    "\n",
    "training_labels = np.array(training_labels)\n",
    "testing_labels = np.array(testing_labels)"
   ]
  },
  {
   "cell_type": "markdown",
   "metadata": {},
   "source": [
    "Tune Hyperparameters."
   ]
  },
  {
   "cell_type": "code",
   "execution_count": 78,
   "metadata": {},
   "outputs": [],
   "source": [
    "embedding_dim = 10\n",
    "batch_size = 128\n",
    "epochs = 50\n",
    "learning_rate = 2e-4"
   ]
  },
  {
   "cell_type": "code",
   "execution_count": 79,
   "metadata": {},
   "outputs": [],
   "source": [
    "import tensorflow as tf\n",
    "\n",
    "tf.keras.backend.clear_session()\n",
    "\n",
    "model = tf.keras.Sequential([\n",
    "    tf.keras.layers.Embedding(vocab_size, embedding_dim, input_length=max_length),\n",
    "    tf.keras.layers.Dropout(0.5),\n",
    "    tf.keras.layers.Bidirectional(tf.keras.layers.LSTM(16)),\n",
    "    tf.keras.layers.Dropout(0.5),\n",
    "    tf.keras.layers.Dense(10, activation=\"relu\"),\n",
    "    tf.keras.layers.Dense(1, activation=\"sigmoid\")\n",
    "])\n",
    "\n",
    "model.compile(loss=\"binary_crossentropy\", optimizer= tf.keras.optimizers.Adam(learning_rate=learning_rate), metrics=[\"accuracy\"])"
   ]
  },
  {
   "cell_type": "markdown",
   "metadata": {},
   "source": [
    "Train model."
   ]
  },
  {
   "cell_type": "code",
   "execution_count": 80,
   "metadata": {},
   "outputs": [
    {
     "name": "stdout",
     "output_type": "stream",
     "text": [
      "Epoch 1/50\n",
      "33/33 [==============================] - 3s 32ms/step - loss: 0.6927 - accuracy: 0.5245 - val_loss: 0.6923 - val_accuracy: 0.5640\n",
      "Epoch 2/50\n",
      "33/33 [==============================] - 0s 13ms/step - loss: 0.6917 - accuracy: 0.5381 - val_loss: 0.6904 - val_accuracy: 0.5640\n",
      "Epoch 3/50\n",
      "33/33 [==============================] - 0s 13ms/step - loss: 0.6909 - accuracy: 0.5410 - val_loss: 0.6888 - val_accuracy: 0.5640\n",
      "Epoch 4/50\n",
      "33/33 [==============================] - 0s 13ms/step - loss: 0.6897 - accuracy: 0.5405 - val_loss: 0.6869 - val_accuracy: 0.5640\n",
      "Epoch 5/50\n",
      "33/33 [==============================] - 0s 13ms/step - loss: 0.6879 - accuracy: 0.5405 - val_loss: 0.6851 - val_accuracy: 0.5640\n",
      "Epoch 6/50\n",
      "33/33 [==============================] - 0s 13ms/step - loss: 0.6870 - accuracy: 0.5405 - val_loss: 0.6839 - val_accuracy: 0.5640\n",
      "Epoch 7/50\n",
      "33/33 [==============================] - 0s 13ms/step - loss: 0.6836 - accuracy: 0.5405 - val_loss: 0.6810 - val_accuracy: 0.5640\n",
      "Epoch 8/50\n",
      "33/33 [==============================] - 0s 12ms/step - loss: 0.6800 - accuracy: 0.5405 - val_loss: 0.6770 - val_accuracy: 0.5640\n",
      "Epoch 9/50\n",
      "33/33 [==============================] - 0s 13ms/step - loss: 0.6731 - accuracy: 0.5415 - val_loss: 0.6696 - val_accuracy: 0.5640\n",
      "Epoch 10/50\n",
      "33/33 [==============================] - 0s 13ms/step - loss: 0.6571 - accuracy: 0.5478 - val_loss: 0.6532 - val_accuracy: 0.5640\n",
      "Epoch 11/50\n",
      "33/33 [==============================] - 0s 13ms/step - loss: 0.6374 - accuracy: 0.5866 - val_loss: 0.6337 - val_accuracy: 0.5988\n",
      "Epoch 12/50\n",
      "33/33 [==============================] - 0s 13ms/step - loss: 0.6049 - accuracy: 0.6531 - val_loss: 0.6101 - val_accuracy: 0.6410\n",
      "Epoch 13/50\n",
      "33/33 [==============================] - 0s 13ms/step - loss: 0.5705 - accuracy: 0.7346 - val_loss: 0.5867 - val_accuracy: 0.7326\n",
      "Epoch 14/50\n",
      "33/33 [==============================] - 0s 13ms/step - loss: 0.5357 - accuracy: 0.7851 - val_loss: 0.5567 - val_accuracy: 0.7180\n",
      "Epoch 15/50\n",
      "33/33 [==============================] - 0s 13ms/step - loss: 0.4930 - accuracy: 0.8210 - val_loss: 0.5266 - val_accuracy: 0.7674\n",
      "Epoch 16/50\n",
      "33/33 [==============================] - 0s 13ms/step - loss: 0.4476 - accuracy: 0.8210 - val_loss: 0.4836 - val_accuracy: 0.7660\n",
      "Epoch 17/50\n",
      "33/33 [==============================] - 0s 12ms/step - loss: 0.3876 - accuracy: 0.8520 - val_loss: 0.4617 - val_accuracy: 0.7631\n",
      "Epoch 18/50\n",
      "33/33 [==============================] - 0s 13ms/step - loss: 0.3387 - accuracy: 0.8695 - val_loss: 0.4483 - val_accuracy: 0.7674\n",
      "Epoch 19/50\n",
      "33/33 [==============================] - 0s 13ms/step - loss: 0.2909 - accuracy: 0.8899 - val_loss: 0.4114 - val_accuracy: 0.7951\n",
      "Epoch 20/50\n",
      "33/33 [==============================] - 0s 13ms/step - loss: 0.2343 - accuracy: 0.9199 - val_loss: 0.3917 - val_accuracy: 0.8270\n",
      "Epoch 21/50\n",
      "33/33 [==============================] - 0s 14ms/step - loss: 0.1907 - accuracy: 0.9393 - val_loss: 0.4098 - val_accuracy: 0.8314\n",
      "Epoch 22/50\n",
      "33/33 [==============================] - 0s 13ms/step - loss: 0.1617 - accuracy: 0.9491 - val_loss: 0.4254 - val_accuracy: 0.8387\n",
      "Epoch 23/50\n",
      "33/33 [==============================] - 0s 13ms/step - loss: 0.1653 - accuracy: 0.9471 - val_loss: 0.4071 - val_accuracy: 0.8416\n",
      "Epoch 24/50\n",
      "33/33 [==============================] - 0s 13ms/step - loss: 0.1461 - accuracy: 0.9549 - val_loss: 0.4124 - val_accuracy: 0.8547\n",
      "Epoch 25/50\n",
      "33/33 [==============================] - 0s 13ms/step - loss: 0.1385 - accuracy: 0.9583 - val_loss: 0.3935 - val_accuracy: 0.8576\n",
      "Epoch 26/50\n",
      "33/33 [==============================] - 0s 13ms/step - loss: 0.1279 - accuracy: 0.9592 - val_loss: 0.4042 - val_accuracy: 0.8561\n",
      "Epoch 27/50\n",
      "33/33 [==============================] - 0s 13ms/step - loss: 0.1205 - accuracy: 0.9665 - val_loss: 0.4055 - val_accuracy: 0.8619\n",
      "Epoch 28/50\n",
      "33/33 [==============================] - 0s 13ms/step - loss: 0.1138 - accuracy: 0.9651 - val_loss: 0.4272 - val_accuracy: 0.8561\n",
      "Epoch 29/50\n",
      "33/33 [==============================] - 0s 13ms/step - loss: 0.1121 - accuracy: 0.9675 - val_loss: 0.4335 - val_accuracy: 0.8532\n",
      "Epoch 30/50\n",
      "33/33 [==============================] - 0s 13ms/step - loss: 0.1070 - accuracy: 0.9689 - val_loss: 0.4091 - val_accuracy: 0.8605\n",
      "Epoch 31/50\n",
      "33/33 [==============================] - 0s 13ms/step - loss: 0.0895 - accuracy: 0.9762 - val_loss: 0.4203 - val_accuracy: 0.8648\n",
      "Epoch 32/50\n",
      "33/33 [==============================] - 0s 13ms/step - loss: 0.0897 - accuracy: 0.9767 - val_loss: 0.4570 - val_accuracy: 0.8576\n",
      "Epoch 33/50\n",
      "33/33 [==============================] - 0s 13ms/step - loss: 0.0823 - accuracy: 0.9757 - val_loss: 0.4073 - val_accuracy: 0.8750\n",
      "Epoch 34/50\n",
      "33/33 [==============================] - 0s 13ms/step - loss: 0.0848 - accuracy: 0.9782 - val_loss: 0.4556 - val_accuracy: 0.8692\n",
      "Epoch 35/50\n",
      "33/33 [==============================] - 0s 13ms/step - loss: 0.0840 - accuracy: 0.9748 - val_loss: 0.4218 - val_accuracy: 0.8677\n",
      "Epoch 36/50\n",
      "33/33 [==============================] - 0s 13ms/step - loss: 0.0774 - accuracy: 0.9757 - val_loss: 0.4529 - val_accuracy: 0.8692\n",
      "Epoch 37/50\n",
      "33/33 [==============================] - 0s 13ms/step - loss: 0.0745 - accuracy: 0.9762 - val_loss: 0.4395 - val_accuracy: 0.8706\n",
      "Epoch 38/50\n",
      "33/33 [==============================] - 0s 13ms/step - loss: 0.0714 - accuracy: 0.9811 - val_loss: 0.4580 - val_accuracy: 0.8692\n",
      "Epoch 39/50\n",
      "33/33 [==============================] - 0s 12ms/step - loss: 0.0650 - accuracy: 0.9835 - val_loss: 0.4558 - val_accuracy: 0.8663\n",
      "Epoch 40/50\n",
      "33/33 [==============================] - 0s 13ms/step - loss: 0.0655 - accuracy: 0.9816 - val_loss: 0.4591 - val_accuracy: 0.8634\n",
      "Epoch 41/50\n",
      "33/33 [==============================] - 0s 13ms/step - loss: 0.0723 - accuracy: 0.9801 - val_loss: 0.4549 - val_accuracy: 0.8663\n",
      "Epoch 42/50\n",
      "33/33 [==============================] - 0s 13ms/step - loss: 0.0665 - accuracy: 0.9782 - val_loss: 0.4692 - val_accuracy: 0.8663\n",
      "Epoch 43/50\n",
      "33/33 [==============================] - 0s 13ms/step - loss: 0.0700 - accuracy: 0.9767 - val_loss: 0.4597 - val_accuracy: 0.8634\n",
      "Epoch 44/50\n",
      "33/33 [==============================] - 0s 13ms/step - loss: 0.0654 - accuracy: 0.9830 - val_loss: 0.4499 - val_accuracy: 0.8721\n",
      "Epoch 45/50\n",
      "33/33 [==============================] - 0s 12ms/step - loss: 0.0509 - accuracy: 0.9840 - val_loss: 0.5101 - val_accuracy: 0.8619\n",
      "Epoch 46/50\n",
      "33/33 [==============================] - 0s 13ms/step - loss: 0.0456 - accuracy: 0.9869 - val_loss: 0.5188 - val_accuracy: 0.8634\n",
      "Epoch 47/50\n",
      "33/33 [==============================] - 0s 13ms/step - loss: 0.0510 - accuracy: 0.9845 - val_loss: 0.4501 - val_accuracy: 0.8692\n",
      "Epoch 48/50\n",
      "33/33 [==============================] - 0s 13ms/step - loss: 0.0493 - accuracy: 0.9840 - val_loss: 0.4758 - val_accuracy: 0.8692\n",
      "Epoch 49/50\n",
      "33/33 [==============================] - 0s 13ms/step - loss: 0.0420 - accuracy: 0.9888 - val_loss: 0.5376 - val_accuracy: 0.8634\n",
      "Epoch 50/50\n",
      "33/33 [==============================] - 0s 12ms/step - loss: 0.0465 - accuracy: 0.9879 - val_loss: 0.4678 - val_accuracy: 0.8663\n"
     ]
    }
   ],
   "source": [
    "history = model.fit(training_padded, training_labels, batch_size=batch_size, epochs=epochs, validation_data=(testing_padded, testing_labels), callbacks=[])"
   ]
  },
  {
   "cell_type": "markdown",
   "metadata": {},
   "source": [
    "Plot findings."
   ]
  },
  {
   "cell_type": "code",
   "execution_count": 24,
   "metadata": {},
   "outputs": [],
   "source": [
    "import matplotlib.pyplot as plt\n",
    "\n",
    "def plot_graphs(history, string):\n",
    "    plt.plot(history.history[string])\n",
    "    plt.plot(history.history['val_'+string])\n",
    "    plt.xlabel(\"Epochs\")\n",
    "    plt.ylabel(string)\n",
    "    plt.legend([string, 'val_'+string])\n",
    "    plt.show()\n",
    "\n",
    "def plot_lr(history):\n",
    "    lrs = 1e-8 * (10 ** (np.arange(epochs) / 20))\n",
    "\n",
    "    # Set the figure size\n",
    "    plt.figure(figsize=(10, 6))\n",
    "\n",
    "    # Set the grid\n",
    "    plt.grid(True)\n",
    "\n",
    "    # Plot the loss in log scale\n",
    "    plt.semilogx(lrs, history.history[\"val_loss\"])\n",
    "\n",
    "    # Increase the tickmarks size\n",
    "    plt.tick_params('both', length=10, width=1, which='both')\n",
    "\n",
    "    # Set the plot boundaries\n",
    "    plt.axis([1e-8, 1e-3, 0, 2])\n",
    "    plt.show()"
   ]
  },
  {
   "cell_type": "code",
   "execution_count": 81,
   "metadata": {},
   "outputs": [
    {
     "data": {
      "image/png": "[encoded data removed]",
      "text/plain": [
       "<Figure size 432x288 with 1 Axes>"
      ]
     },
     "metadata": {
      "needs_background": "light"
     },
     "output_type": "display_data"
    },
    {
     "data": {
      "image/png": "[encoded data removed]",
      "text/plain": [
       "<Figure size 432x288 with 1 Axes>"
      ]
     },
     "metadata": {
      "needs_background": "light"
     },
     "output_type": "display_data"
    }
   ],
   "source": [
    "#plot_lr(history)\n",
    "plot_graphs(history, \"accuracy\")\n",
    "plot_graphs(history, \"loss\")"
   ]
  }
 ],
 "metadata": {
  "kernelspec": {
   "display_name": "Python 3.9.9 64-bit",
   "language": "python",
   "name": "python3"
  },
  "language_info": {
   "codemirror_mode": {
    "name": "ipython",
    "version": 3
   },
   "file_extension": ".py",
   "mimetype": "text/x-python",
   "name": "python",
   "nbconvert_exporter": "python",
   "pygments_lexer": "ipython3",
   "version": "3.9.9"
  },
  "orig_nbformat": 4,
  "vscode": {
   "interpreter": {
    "hash": "79188e7b3db958bc33c0eddae362b792fd2a35c877eabc176cb34dd7f9cc4927"
   }
  }
 },
 "nbformat": 4,
 "nbformat_minor": 2
}
