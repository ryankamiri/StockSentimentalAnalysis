{
 "cells": [
  {
   "cell_type": "markdown",
   "metadata": {},
   "source": [
    "First, we load in the data."
   ]
  },
  {
   "cell_type": "code",
   "execution_count": 144,
   "metadata": {},
   "outputs": [],
   "source": [
    "import json\n",
    "\n",
    "with open(\"./data/training_data.json\", 'r') as f:\n",
    "    datastore = json.load(f)\n",
    "\n",
    "headlines = []\n",
    "labels = []\n",
    "\n",
    "for item in datastore:\n",
    "    headlines.append(item['title'])\n",
    "    labels.append(item['good_news'])"
   ]
  },
  {
   "cell_type": "markdown",
   "metadata": {},
   "source": [
    "Download nltk resources"
   ]
  },
  {
   "cell_type": "code",
   "execution_count": null,
   "metadata": {},
   "outputs": [],
   "source": [
    "import nltk\n",
    "nltk.download ()"
   ]
  },
  {
   "cell_type": "markdown",
   "metadata": {},
   "source": [
    "Remove stop words and contractions."
   ]
  },
  {
   "cell_type": "code",
   "execution_count": 145,
   "metadata": {},
   "outputs": [],
   "source": [
    "from nltk.corpus import stopwords\n",
    "from nltk.stem import PorterStemmer\n",
    "\n",
    "stemmer=PorterStemmer()\n",
    "for i in range(len(headlines)):\n",
    "    words = []\n",
    "    for word in headlines[i].split():\n",
    "        if not word in stopwords.words('english'):\n",
    "            words.append(stemmer.stem(word).replace(\"'\", \"\"))\n",
    "\n",
    "    headlines[i]=' '.join(words)\n",
    "\n",
    "\n"
   ]
  },
  {
   "cell_type": "markdown",
   "metadata": {},
   "source": [
    "Split the data."
   ]
  },
  {
   "cell_type": "code",
   "execution_count": 146,
   "metadata": {},
   "outputs": [
    {
     "name": "stdout",
     "output_type": "stream",
     "text": [
      "Split into 906 Training sets and 302 Testing sets.\n"
     ]
    }
   ],
   "source": [
    "from sklearn.model_selection import train_test_split\n",
    "training_headlines, testing_headlines, training_labels, testing_labels = train_test_split(headlines, labels, train_size=0.75)\n",
    "print(f\"Split into {len(training_headlines)} Training sets and {len(testing_headlines)} Testing sets.\")"
   ]
  },
  {
   "cell_type": "code",
   "execution_count": 147,
   "metadata": {},
   "outputs": [
    {
     "name": "stdout",
     "output_type": "stream",
     "text": [
      "Word Index Size: 3261\n"
     ]
    }
   ],
   "source": [
    "import numpy as np\n",
    "from tensorflow.keras.preprocessing.text import Tokenizer\n",
    "from tensorflow.keras.preprocessing.sequence import pad_sequences\n",
    "\n",
    "vocab_size = 10000\n",
    "max_length = 25\n",
    "trunc_type='post'\n",
    "padding_type='post'\n",
    "oov_tok = \"<OOV>\"\n",
    "\n",
    "tokenizer = Tokenizer(num_words=vocab_size, oov_token=oov_tok)\n",
    "\n",
    "# training tokenizer\n",
    "tokenizer.fit_on_texts(headlines)\n",
    "word_index = tokenizer.word_index\n",
    "print(f\"Word Index Size: {len(word_index)}\")\n",
    "\n",
    "# adding padding \n",
    "training_sequences = tokenizer.texts_to_sequences(training_headlines)\n",
    "training_padded = pad_sequences(training_sequences, maxlen=max_length, padding=padding_type, truncating=trunc_type)\n",
    "\n",
    "testing_sequences = tokenizer.texts_to_sequences(testing_headlines)\n",
    "testing_padded = pad_sequences(testing_sequences, maxlen=max_length, padding=padding_type, truncating=trunc_type)\n",
    "\n",
    "training_labels = np.array(training_labels)\n",
    "testing_labels = np.array(testing_labels)"
   ]
  },
  {
   "cell_type": "markdown",
   "metadata": {},
   "source": [
    "Tune Hyperparameters."
   ]
  },
  {
   "cell_type": "code",
   "execution_count": 148,
   "metadata": {},
   "outputs": [],
   "source": [
    "embedding_dim = 10\n",
    "batch_size = 32\n",
    "epochs = 100\n",
    "learning_rate = 2e-4"
   ]
  },
  {
   "cell_type": "code",
   "execution_count": 152,
   "metadata": {},
   "outputs": [],
   "source": [
    "import tensorflow as tf\n",
    "\n",
    "tf.keras.backend.clear_session()\n",
    "\n",
    "model = tf.keras.Sequential([\n",
    "    tf.keras.layers.Embedding(vocab_size, embedding_dim, input_length=max_length),\n",
    "    # tf.keras.layers.Conv1D(16, kernel_size=3, padding='same', activation='relu'),\n",
    "    # tf.keras.layers.MaxPooling1D(pool_size=2),\n",
    "    tf.keras.layers.Dropout(0.5),\n",
    "    tf.keras.layers.Bidirectional(tf.keras.layers.LSTM(16)),\n",
    "    tf.keras.layers.Dropout(0.5),\n",
    "    tf.keras.layers.Dense(10, activation=\"relu\"),\n",
    "    tf.keras.layers.Dense(1, activation=\"sigmoid\")\n",
    "])\n",
    "\n",
    "model.compile(loss=\"binary_crossentropy\", optimizer= tf.keras.optimizers.Adam(learning_rate=learning_rate), metrics=[\"accuracy\"])"
   ]
  },
  {
   "cell_type": "markdown",
   "metadata": {},
   "source": [
    "Train model."
   ]
  },
  {
   "cell_type": "code",
   "execution_count": 153,
   "metadata": {},
   "outputs": [
    {
     "name": "stdout",
     "output_type": "stream",
     "text": [
      "Epoch 1/100\n",
      "29/29 [==============================] - 3s 38ms/step - loss: 0.6933 - accuracy: 0.4647 - val_loss: 0.6932 - val_accuracy: 0.5099\n",
      "Epoch 2/100\n",
      "29/29 [==============================] - 0s 13ms/step - loss: 0.6933 - accuracy: 0.5011 - val_loss: 0.6932 - val_accuracy: 0.4868\n",
      "Epoch 3/100\n",
      "29/29 [==============================] - 0s 13ms/step - loss: 0.6931 - accuracy: 0.5077 - val_loss: 0.6932 - val_accuracy: 0.4868\n",
      "Epoch 4/100\n",
      "29/29 [==============================] - 0s 12ms/step - loss: 0.6928 - accuracy: 0.5397 - val_loss: 0.6931 - val_accuracy: 0.5000\n",
      "Epoch 5/100\n",
      "29/29 [==============================] - 0s 12ms/step - loss: 0.6929 - accuracy: 0.5364 - val_loss: 0.6931 - val_accuracy: 0.4967\n",
      "Epoch 6/100\n",
      "29/29 [==============================] - 0s 13ms/step - loss: 0.6927 - accuracy: 0.5331 - val_loss: 0.6931 - val_accuracy: 0.5000\n",
      "Epoch 7/100\n",
      "29/29 [==============================] - 0s 13ms/step - loss: 0.6927 - accuracy: 0.5464 - val_loss: 0.6929 - val_accuracy: 0.5265\n",
      "Epoch 8/100\n",
      "29/29 [==============================] - 0s 12ms/step - loss: 0.6924 - accuracy: 0.5629 - val_loss: 0.6927 - val_accuracy: 0.5464\n",
      "Epoch 9/100\n",
      "29/29 [==============================] - 0s 12ms/step - loss: 0.6919 - accuracy: 0.5916 - val_loss: 0.6924 - val_accuracy: 0.5464\n",
      "Epoch 10/100\n",
      "29/29 [==============================] - 0s 13ms/step - loss: 0.6908 - accuracy: 0.6325 - val_loss: 0.6917 - val_accuracy: 0.5695\n",
      "Epoch 11/100\n",
      "29/29 [==============================] - 0s 12ms/step - loss: 0.6892 - accuracy: 0.6501 - val_loss: 0.6909 - val_accuracy: 0.5762\n",
      "Epoch 12/100\n",
      "29/29 [==============================] - 0s 13ms/step - loss: 0.6878 - accuracy: 0.6501 - val_loss: 0.6898 - val_accuracy: 0.5861\n",
      "Epoch 13/100\n",
      "29/29 [==============================] - 0s 13ms/step - loss: 0.6839 - accuracy: 0.6965 - val_loss: 0.6875 - val_accuracy: 0.6457\n",
      "Epoch 14/100\n",
      "29/29 [==============================] - 0s 12ms/step - loss: 0.6775 - accuracy: 0.7572 - val_loss: 0.6828 - val_accuracy: 0.6490\n",
      "Epoch 15/100\n",
      "29/29 [==============================] - 0s 12ms/step - loss: 0.6657 - accuracy: 0.7781 - val_loss: 0.6749 - val_accuracy: 0.6556\n",
      "Epoch 16/100\n",
      "29/29 [==============================] - 0s 12ms/step - loss: 0.6416 - accuracy: 0.7925 - val_loss: 0.6600 - val_accuracy: 0.6424\n",
      "Epoch 17/100\n",
      "29/29 [==============================] - 0s 12ms/step - loss: 0.6007 - accuracy: 0.7815 - val_loss: 0.6356 - val_accuracy: 0.6589\n",
      "Epoch 18/100\n",
      "29/29 [==============================] - 0s 13ms/step - loss: 0.5643 - accuracy: 0.7583 - val_loss: 0.6304 - val_accuracy: 0.6258\n",
      "Epoch 19/100\n",
      "29/29 [==============================] - 0s 12ms/step - loss: 0.4953 - accuracy: 0.7947 - val_loss: 0.6134 - val_accuracy: 0.6424\n",
      "Epoch 20/100\n",
      "29/29 [==============================] - 0s 12ms/step - loss: 0.4272 - accuracy: 0.8411 - val_loss: 0.6000 - val_accuracy: 0.6755\n",
      "Epoch 21/100\n",
      "29/29 [==============================] - 0s 13ms/step - loss: 0.3879 - accuracy: 0.8466 - val_loss: 0.5973 - val_accuracy: 0.6854\n",
      "Epoch 22/100\n",
      "29/29 [==============================] - 0s 13ms/step - loss: 0.3216 - accuracy: 0.8907 - val_loss: 0.5957 - val_accuracy: 0.6821\n",
      "Epoch 23/100\n",
      "29/29 [==============================] - 0s 12ms/step - loss: 0.2777 - accuracy: 0.9040 - val_loss: 0.5759 - val_accuracy: 0.7020\n",
      "Epoch 24/100\n",
      "29/29 [==============================] - 0s 12ms/step - loss: 0.2287 - accuracy: 0.9327 - val_loss: 0.6180 - val_accuracy: 0.7152\n",
      "Epoch 25/100\n",
      "29/29 [==============================] - 0s 12ms/step - loss: 0.1940 - accuracy: 0.9393 - val_loss: 0.6251 - val_accuracy: 0.7119\n",
      "Epoch 26/100\n",
      "29/29 [==============================] - 0s 12ms/step - loss: 0.1915 - accuracy: 0.9514 - val_loss: 0.6097 - val_accuracy: 0.7285\n",
      "Epoch 27/100\n",
      "29/29 [==============================] - 0s 12ms/step - loss: 0.1707 - accuracy: 0.9503 - val_loss: 0.6179 - val_accuracy: 0.7219\n",
      "Epoch 28/100\n",
      "29/29 [==============================] - 0s 12ms/step - loss: 0.1354 - accuracy: 0.9636 - val_loss: 0.6461 - val_accuracy: 0.7450\n",
      "Epoch 29/100\n",
      "29/29 [==============================] - 0s 12ms/step - loss: 0.1188 - accuracy: 0.9724 - val_loss: 0.6653 - val_accuracy: 0.7483\n",
      "Epoch 30/100\n",
      "29/29 [==============================] - 0s 13ms/step - loss: 0.1080 - accuracy: 0.9680 - val_loss: 0.6999 - val_accuracy: 0.7483\n",
      "Epoch 31/100\n",
      "29/29 [==============================] - 0s 12ms/step - loss: 0.1264 - accuracy: 0.9625 - val_loss: 0.6987 - val_accuracy: 0.7483\n",
      "Epoch 32/100\n",
      "29/29 [==============================] - 0s 13ms/step - loss: 0.0929 - accuracy: 0.9779 - val_loss: 0.7293 - val_accuracy: 0.7417\n",
      "Epoch 33/100\n",
      "29/29 [==============================] - 0s 12ms/step - loss: 0.1065 - accuracy: 0.9724 - val_loss: 0.7338 - val_accuracy: 0.7450\n",
      "Epoch 34/100\n",
      "29/29 [==============================] - 0s 12ms/step - loss: 0.0875 - accuracy: 0.9779 - val_loss: 0.7561 - val_accuracy: 0.7318\n",
      "Epoch 35/100\n",
      "29/29 [==============================] - 0s 13ms/step - loss: 0.0725 - accuracy: 0.9834 - val_loss: 0.7676 - val_accuracy: 0.7649\n",
      "Epoch 36/100\n",
      "29/29 [==============================] - 0s 12ms/step - loss: 0.0565 - accuracy: 0.9845 - val_loss: 0.7785 - val_accuracy: 0.7682\n",
      "Epoch 37/100\n",
      "29/29 [==============================] - 0s 12ms/step - loss: 0.0696 - accuracy: 0.9868 - val_loss: 0.8314 - val_accuracy: 0.7483\n",
      "Epoch 38/100\n",
      "29/29 [==============================] - 0s 12ms/step - loss: 0.0618 - accuracy: 0.9845 - val_loss: 0.8188 - val_accuracy: 0.7550\n",
      "Epoch 39/100\n",
      "29/29 [==============================] - 0s 13ms/step - loss: 0.0769 - accuracy: 0.9801 - val_loss: 0.8058 - val_accuracy: 0.7483\n",
      "Epoch 40/100\n",
      "29/29 [==============================] - 0s 12ms/step - loss: 0.0714 - accuracy: 0.9801 - val_loss: 0.7754 - val_accuracy: 0.7517\n",
      "Epoch 41/100\n",
      "29/29 [==============================] - 0s 13ms/step - loss: 0.0554 - accuracy: 0.9868 - val_loss: 0.8315 - val_accuracy: 0.7483\n",
      "Epoch 42/100\n",
      "29/29 [==============================] - 0s 12ms/step - loss: 0.0624 - accuracy: 0.9845 - val_loss: 0.8302 - val_accuracy: 0.7517\n",
      "Epoch 43/100\n",
      "29/29 [==============================] - 0s 12ms/step - loss: 0.0516 - accuracy: 0.9868 - val_loss: 0.8752 - val_accuracy: 0.7450\n",
      "Epoch 44/100\n",
      "29/29 [==============================] - 0s 13ms/step - loss: 0.0407 - accuracy: 0.9912 - val_loss: 0.8891 - val_accuracy: 0.7583\n",
      "Epoch 45/100\n",
      "29/29 [==============================] - 0s 12ms/step - loss: 0.0304 - accuracy: 0.9967 - val_loss: 0.9165 - val_accuracy: 0.7583\n",
      "Epoch 46/100\n",
      "29/29 [==============================] - 0s 13ms/step - loss: 0.0432 - accuracy: 0.9890 - val_loss: 0.9283 - val_accuracy: 0.7583\n",
      "Epoch 47/100\n",
      "29/29 [==============================] - 0s 13ms/step - loss: 0.0482 - accuracy: 0.9901 - val_loss: 0.9181 - val_accuracy: 0.7550\n",
      "Epoch 48/100\n",
      "29/29 [==============================] - 0s 12ms/step - loss: 0.0364 - accuracy: 0.9912 - val_loss: 0.9806 - val_accuracy: 0.7483\n",
      "Epoch 49/100\n",
      "29/29 [==============================] - 0s 12ms/step - loss: 0.0382 - accuracy: 0.9901 - val_loss: 0.9427 - val_accuracy: 0.7583\n",
      "Epoch 50/100\n",
      "29/29 [==============================] - 0s 13ms/step - loss: 0.0443 - accuracy: 0.9890 - val_loss: 0.9582 - val_accuracy: 0.7550\n",
      "Epoch 51/100\n",
      "29/29 [==============================] - 0s 12ms/step - loss: 0.0365 - accuracy: 0.9934 - val_loss: 0.8908 - val_accuracy: 0.7649\n",
      "Epoch 52/100\n",
      "29/29 [==============================] - 0s 13ms/step - loss: 0.0343 - accuracy: 0.9901 - val_loss: 0.9654 - val_accuracy: 0.7616\n",
      "Epoch 53/100\n",
      "29/29 [==============================] - 0s 13ms/step - loss: 0.0428 - accuracy: 0.9890 - val_loss: 0.9537 - val_accuracy: 0.7649\n",
      "Epoch 54/100\n",
      "29/29 [==============================] - 0s 14ms/step - loss: 0.0444 - accuracy: 0.9912 - val_loss: 0.9727 - val_accuracy: 0.7483\n",
      "Epoch 55/100\n",
      "29/29 [==============================] - 0s 12ms/step - loss: 0.0381 - accuracy: 0.9901 - val_loss: 0.9819 - val_accuracy: 0.7649\n",
      "Epoch 56/100\n",
      "29/29 [==============================] - 0s 11ms/step - loss: 0.0312 - accuracy: 0.9923 - val_loss: 1.0001 - val_accuracy: 0.7517\n",
      "Epoch 57/100\n",
      "29/29 [==============================] - 0s 11ms/step - loss: 0.0316 - accuracy: 0.9912 - val_loss: 0.9978 - val_accuracy: 0.7550\n",
      "Epoch 58/100\n",
      "29/29 [==============================] - 0s 12ms/step - loss: 0.0318 - accuracy: 0.9901 - val_loss: 1.0067 - val_accuracy: 0.7616\n",
      "Epoch 59/100\n",
      "29/29 [==============================] - 0s 11ms/step - loss: 0.0267 - accuracy: 0.9945 - val_loss: 0.9557 - val_accuracy: 0.7550\n",
      "Epoch 60/100\n",
      "29/29 [==============================] - 0s 12ms/step - loss: 0.0512 - accuracy: 0.9857 - val_loss: 0.9393 - val_accuracy: 0.7616\n",
      "Epoch 61/100\n",
      "29/29 [==============================] - 0s 12ms/step - loss: 0.0297 - accuracy: 0.9934 - val_loss: 0.9708 - val_accuracy: 0.7583\n",
      "Epoch 62/100\n",
      "29/29 [==============================] - 0s 12ms/step - loss: 0.0253 - accuracy: 0.9967 - val_loss: 1.0254 - val_accuracy: 0.7517\n",
      "Epoch 63/100\n",
      "29/29 [==============================] - 0s 12ms/step - loss: 0.0268 - accuracy: 0.9923 - val_loss: 1.0938 - val_accuracy: 0.7483\n",
      "Epoch 64/100\n",
      "29/29 [==============================] - 0s 12ms/step - loss: 0.0516 - accuracy: 0.9868 - val_loss: 1.0783 - val_accuracy: 0.7682\n",
      "Epoch 65/100\n",
      "29/29 [==============================] - 0s 12ms/step - loss: 0.0304 - accuracy: 0.9934 - val_loss: 1.0573 - val_accuracy: 0.7417\n",
      "Epoch 66/100\n",
      "29/29 [==============================] - 0s 12ms/step - loss: 0.0304 - accuracy: 0.9901 - val_loss: 1.0160 - val_accuracy: 0.7550\n",
      "Epoch 67/100\n",
      "29/29 [==============================] - 0s 13ms/step - loss: 0.0296 - accuracy: 0.9912 - val_loss: 1.0056 - val_accuracy: 0.7616\n",
      "Epoch 68/100\n",
      "29/29 [==============================] - 0s 12ms/step - loss: 0.0233 - accuracy: 0.9967 - val_loss: 1.0288 - val_accuracy: 0.7616\n",
      "Epoch 69/100\n",
      "29/29 [==============================] - 0s 12ms/step - loss: 0.0325 - accuracy: 0.9879 - val_loss: 0.9951 - val_accuracy: 0.7517\n",
      "Epoch 70/100\n",
      "29/29 [==============================] - 0s 13ms/step - loss: 0.0210 - accuracy: 0.9967 - val_loss: 1.0295 - val_accuracy: 0.7616\n",
      "Epoch 71/100\n",
      "29/29 [==============================] - 0s 12ms/step - loss: 0.0285 - accuracy: 0.9912 - val_loss: 1.0501 - val_accuracy: 0.7550\n",
      "Epoch 72/100\n",
      "29/29 [==============================] - 0s 12ms/step - loss: 0.0113 - accuracy: 0.9989 - val_loss: 1.1337 - val_accuracy: 0.7583\n",
      "Epoch 73/100\n",
      "29/29 [==============================] - 0s 12ms/step - loss: 0.0216 - accuracy: 0.9956 - val_loss: 1.1170 - val_accuracy: 0.7583\n",
      "Epoch 74/100\n",
      "29/29 [==============================] - 0s 12ms/step - loss: 0.0135 - accuracy: 0.9978 - val_loss: 1.1255 - val_accuracy: 0.7583\n",
      "Epoch 75/100\n",
      "29/29 [==============================] - 0s 12ms/step - loss: 0.0292 - accuracy: 0.9912 - val_loss: 1.0687 - val_accuracy: 0.7682\n",
      "Epoch 76/100\n",
      "29/29 [==============================] - 0s 12ms/step - loss: 0.0180 - accuracy: 0.9945 - val_loss: 1.1338 - val_accuracy: 0.7417\n",
      "Epoch 77/100\n",
      "29/29 [==============================] - 0s 13ms/step - loss: 0.0342 - accuracy: 0.9923 - val_loss: 1.1297 - val_accuracy: 0.7417\n",
      "Epoch 78/100\n",
      "29/29 [==============================] - 0s 12ms/step - loss: 0.0159 - accuracy: 0.9945 - val_loss: 1.1203 - val_accuracy: 0.7517\n",
      "Epoch 79/100\n",
      "29/29 [==============================] - 0s 12ms/step - loss: 0.0113 - accuracy: 1.0000 - val_loss: 1.1382 - val_accuracy: 0.7715\n",
      "Epoch 80/100\n",
      "29/29 [==============================] - 0s 13ms/step - loss: 0.0143 - accuracy: 0.9945 - val_loss: 1.1715 - val_accuracy: 0.7483\n",
      "Epoch 81/100\n",
      "29/29 [==============================] - 0s 12ms/step - loss: 0.0179 - accuracy: 0.9945 - val_loss: 1.2776 - val_accuracy: 0.7616\n",
      "Epoch 82/100\n",
      "29/29 [==============================] - 0s 12ms/step - loss: 0.0340 - accuracy: 0.9934 - val_loss: 1.0560 - val_accuracy: 0.7682\n",
      "Epoch 83/100\n",
      "29/29 [==============================] - 0s 13ms/step - loss: 0.0180 - accuracy: 0.9945 - val_loss: 1.1321 - val_accuracy: 0.7583\n",
      "Epoch 84/100\n",
      "29/29 [==============================] - 0s 12ms/step - loss: 0.0245 - accuracy: 0.9934 - val_loss: 1.0931 - val_accuracy: 0.7583\n",
      "Epoch 85/100\n",
      "29/29 [==============================] - 0s 13ms/step - loss: 0.0131 - accuracy: 0.9956 - val_loss: 1.1250 - val_accuracy: 0.7616\n",
      "Epoch 86/100\n",
      "29/29 [==============================] - 0s 13ms/step - loss: 0.0101 - accuracy: 0.9978 - val_loss: 1.2404 - val_accuracy: 0.7616\n",
      "Epoch 87/100\n",
      "29/29 [==============================] - 0s 13ms/step - loss: 0.0202 - accuracy: 0.9956 - val_loss: 1.1154 - val_accuracy: 0.7483\n",
      "Epoch 88/100\n",
      "29/29 [==============================] - 0s 13ms/step - loss: 0.0152 - accuracy: 0.9967 - val_loss: 1.2111 - val_accuracy: 0.7616\n",
      "Epoch 89/100\n",
      "29/29 [==============================] - 0s 13ms/step - loss: 0.0138 - accuracy: 0.9967 - val_loss: 1.1459 - val_accuracy: 0.7649\n",
      "Epoch 90/100\n",
      "29/29 [==============================] - 0s 13ms/step - loss: 0.0128 - accuracy: 0.9978 - val_loss: 1.2167 - val_accuracy: 0.7550\n",
      "Epoch 91/100\n",
      "29/29 [==============================] - 0s 12ms/step - loss: 0.0162 - accuracy: 0.9945 - val_loss: 1.1725 - val_accuracy: 0.7583\n",
      "Epoch 92/100\n",
      "29/29 [==============================] - 0s 12ms/step - loss: 0.0233 - accuracy: 0.9923 - val_loss: 1.0889 - val_accuracy: 0.7682\n",
      "Epoch 93/100\n",
      "29/29 [==============================] - 0s 12ms/step - loss: 0.0119 - accuracy: 0.9967 - val_loss: 1.1643 - val_accuracy: 0.7583\n",
      "Epoch 94/100\n",
      "29/29 [==============================] - 0s 11ms/step - loss: 0.0150 - accuracy: 0.9945 - val_loss: 1.1759 - val_accuracy: 0.7715\n",
      "Epoch 95/100\n",
      "29/29 [==============================] - 0s 12ms/step - loss: 0.0088 - accuracy: 0.9989 - val_loss: 1.2443 - val_accuracy: 0.7682\n",
      "Epoch 96/100\n",
      "29/29 [==============================] - 0s 12ms/step - loss: 0.0054 - accuracy: 0.9989 - val_loss: 1.2471 - val_accuracy: 0.7715\n",
      "Epoch 97/100\n",
      "29/29 [==============================] - 0s 12ms/step - loss: 0.0062 - accuracy: 0.9989 - val_loss: 1.3356 - val_accuracy: 0.7550\n",
      "Epoch 98/100\n",
      "29/29 [==============================] - 0s 13ms/step - loss: 0.0124 - accuracy: 0.9967 - val_loss: 1.2712 - val_accuracy: 0.7715\n",
      "Epoch 99/100\n",
      "29/29 [==============================] - 0s 12ms/step - loss: 0.0130 - accuracy: 0.9956 - val_loss: 1.2764 - val_accuracy: 0.7715\n",
      "Epoch 100/100\n",
      "29/29 [==============================] - 0s 13ms/step - loss: 0.0074 - accuracy: 0.9989 - val_loss: 1.3198 - val_accuracy: 0.7682\n"
     ]
    }
   ],
   "source": [
    "lr_schedule = tf.keras.callbacks.LearningRateScheduler(\n",
    "    lambda epoch: 1e-8 * 10**(epoch / 20))\n",
    "\n",
    "history = model.fit(training_padded, training_labels, batch_size=batch_size, epochs=epochs, validation_data=(testing_padded, testing_labels), callbacks=[])"
   ]
  },
  {
   "cell_type": "markdown",
   "metadata": {},
   "source": [
    "Plot findings."
   ]
  },
  {
   "cell_type": "code",
   "execution_count": 115,
   "metadata": {},
   "outputs": [],
   "source": [
    "import matplotlib.pyplot as plt\n",
    "\n",
    "def plot_graphs(history, string):\n",
    "    plt.plot(history.history[string])\n",
    "    plt.plot(history.history['val_'+string])\n",
    "    plt.xlabel(\"Epochs\")\n",
    "    plt.ylabel(string)\n",
    "    plt.legend([string, 'val_'+string])\n",
    "    plt.show()\n",
    "\n",
    "def plot_lr(history):\n",
    "    lrs = 1e-8 * (10 ** (np.arange(epochs) / 20))\n",
    "\n",
    "    # Set the figure size\n",
    "    plt.figure(figsize=(10, 6))\n",
    "\n",
    "    # Set the grid\n",
    "    plt.grid(True)\n",
    "\n",
    "    # Plot the loss in log scale\n",
    "    plt.semilogx(lrs, history.history[\"val_loss\"])\n",
    "\n",
    "    # Increase the tickmarks size\n",
    "    plt.tick_params('both', length=10, width=1, which='both')\n",
    "\n",
    "    # Set the plot boundaries\n",
    "    plt.axis([1e-8, 1e-3, 0, 2])\n",
    "    plt.show()"
   ]
  },
  {
   "cell_type": "code",
   "execution_count": 154,
   "metadata": {},
   "outputs": [
    {
     "data": {
      "image/png": "[encoded data removed]",
      "text/plain": [
       "<Figure size 432x288 with 1 Axes>"
      ]
     },
     "metadata": {
      "needs_background": "light"
     },
     "output_type": "display_data"
    },
    {
     "data": {
      "image/png": "[encoded data removed]",
      "text/plain": [
       "<Figure size 432x288 with 1 Axes>"
      ]
     },
     "metadata": {
      "needs_background": "light"
     },
     "output_type": "display_data"
    }
   ],
   "source": [
    "#plot_lr(history)\n",
    "plot_graphs(history, \"accuracy\")\n",
    "plot_graphs(history, \"loss\")"
   ]
  }
 ],
 "metadata": {
  "kernelspec": {
   "display_name": "Python 3.9.9 64-bit",
   "language": "python",
   "name": "python3"
  },
  "language_info": {
   "codemirror_mode": {
    "name": "ipython",
    "version": 3
   },
   "file_extension": ".py",
   "mimetype": "text/x-python",
   "name": "python",
   "nbconvert_exporter": "python",
   "pygments_lexer": "ipython3",
   "version": "3.9.9"
  },
  "orig_nbformat": 4,
  "vscode": {
   "interpreter": {
    "hash": "79188e7b3db958bc33c0eddae362b792fd2a35c877eabc176cb34dd7f9cc4927"
   }
  }
 },
 "nbformat": 4,
 "nbformat_minor": 2
}
