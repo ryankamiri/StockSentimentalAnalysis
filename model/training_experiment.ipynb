{
 "cells": [
  {
   "cell_type": "markdown",
   "metadata": {},
   "source": [
    "Perform Imports"
   ]
  },
  {
   "cell_type": "code",
   "execution_count": 5,
   "metadata": {},
   "outputs": [],
   "source": [
    "import tensorflow as tf\n",
    "import numpy as np\n",
    "from tensorflow.keras.preprocessing.text import Tokenizer\n",
    "from tensorflow.keras.preprocessing.sequence import pad_sequences\n",
    "import json\n",
    "import csv\n",
    "import nltk\n",
    "from nltk.corpus import stopwords\n",
    "from nltk.stem import PorterStemmer, WordNetLemmatizer, SnowballStemmer\n",
    "import re\n",
    "from sklearn.model_selection import train_test_split\n",
    "import matplotlib.pyplot as plt\n",
    "import io"
   ]
  },
  {
   "cell_type": "markdown",
   "metadata": {},
   "source": [
    "First, we load in the data."
   ]
  },
  {
   "cell_type": "code",
   "execution_count": 6,
   "metadata": {},
   "outputs": [
    {
     "name": "stdout",
     "output_type": "stream",
     "text": [
      "Postive: 2085, Negative: 3728\n"
     ]
    }
   ],
   "source": [
    "with open(\"./data/training_data_new.json\", 'r') as f:\n",
    "    datastore = json.load(f)\n",
    "\n",
    "with open(\"./data/training_data_pj.json\", 'r') as f:\n",
    "    datastore += json.load(f)\n",
    "\n",
    "headlines = []\n",
    "labels = []\n",
    "\n",
    "for item in datastore:\n",
    "    headlines.append(item['title'])\n",
    "    labels.append(item['good_news'])\n",
    "\n",
    "with open(\"./data/kaggle.csv\") as csvfile:\n",
    "    reader = csv.reader(csvfile, delimiter=\",\")\n",
    "    for line in reader:\n",
    "        label = line[0]\n",
    "        headline = line[1]\n",
    "        # if random.randint(0, 1) >= .5:\n",
    "        #     continue\n",
    "        if label == \"positive\":\n",
    "            labels.append(1)\n",
    "        else:\n",
    "            labels.append(0)\n",
    "        headlines.append(headline)\n",
    "\n",
    "print(f\"Postive: {labels.count(1)}, Negative: {labels.count(0)}\")"
   ]
  },
  {
   "cell_type": "markdown",
   "metadata": {},
   "source": [
    "Download nltk resources"
   ]
  },
  {
   "cell_type": "code",
   "execution_count": 7,
   "metadata": {},
   "outputs": [
    {
     "name": "stdout",
     "output_type": "stream",
     "text": [
      "showing info https://raw.githubusercontent.com/nltk/nltk_data/gh-pages/index.xml\n"
     ]
    },
    {
     "data": {
      "text/plain": [
       "True"
      ]
     },
     "execution_count": 7,
     "metadata": {},
     "output_type": "execute_result"
    }
   ],
   "source": [
    "nltk.download ()"
   ]
  },
  {
   "cell_type": "markdown",
   "metadata": {},
   "source": [
    "Remove stop words and contractions."
   ]
  },
  {
   "cell_type": "code",
   "execution_count": 8,
   "metadata": {},
   "outputs": [],
   "source": [
    "lem = False\n",
    "stem = True\n",
    "v2 = True\n",
    "\n",
    "if v2:\n",
    "    stemmer = SnowballStemmer(language='english')\n",
    "else:\n",
    "    stemmer = PorterStemmer()\n",
    "lemmmatizer = WordNetLemmatizer()\n",
    "\n",
    "def preProcess(sentence):\n",
    "    words = []\n",
    "    for word in sentence.split():\n",
    "        #Take out all non letter characters\n",
    "        #word = re.sub(\"[^a-zA-Z]+\", \"\", word.lower())\n",
    "        word = word.lower()\n",
    "        if word not in stopwords.words('english') and word != \"\":\n",
    "            if lem:\n",
    "                newWord = lemmmatizer.lemmatize(word)\n",
    "            elif stem:\n",
    "                newWord = stemmer.stem(word)\n",
    "            else:\n",
    "                newWord = word\n",
    "            words.append(newWord.replace(\"'\", \"\"))\n",
    "\n",
    "    return ' '.join(words)\n"
   ]
  },
  {
   "cell_type": "code",
   "execution_count": 9,
   "metadata": {},
   "outputs": [],
   "source": [
    "for i in range(len(headlines)):\n",
    "    headlines[i] = preProcess(headlines[i])"
   ]
  },
  {
   "cell_type": "markdown",
   "metadata": {},
   "source": [
    "Split the data."
   ]
  },
  {
   "cell_type": "code",
   "execution_count": 10,
   "metadata": {},
   "outputs": [
    {
     "name": "stdout",
     "output_type": "stream",
     "text": [
      "Split into 5231 Training sets and 582 Testing sets.\n"
     ]
    }
   ],
   "source": [
    "training_headlines, testing_headlines, training_labels, testing_labels = train_test_split(headlines, labels, train_size=0.90)\n",
    "print(f\"Split into {len(training_headlines)} Training sets and {len(testing_headlines)} Testing sets.\")"
   ]
  },
  {
   "cell_type": "markdown",
   "metadata": {},
   "source": [
    "Tune Hyperparameters."
   ]
  },
  {
   "cell_type": "code",
   "execution_count": 11,
   "metadata": {},
   "outputs": [],
   "source": [
    "vocab_size = 10000\n",
    "max_length = 35\n",
    "trunc_type = \"post\"\n",
    "padding_type = \"post\"\n",
    "oov_tok = \"<OOV>\""
   ]
  },
  {
   "cell_type": "code",
   "execution_count": 12,
   "metadata": {},
   "outputs": [
    {
     "name": "stdout",
     "output_type": "stream",
     "text": [
      "Word Index Size: 8916\n"
     ]
    }
   ],
   "source": [
    "def tune_hyper(vocab_size, max_length, training_headlines, testing_headlines, training_labels, testing_labels):    \n",
    "    \n",
    "\n",
    "\n",
    "    tokenizer = Tokenizer(num_words=vocab_size, oov_token=oov_tok)\n",
    "\n",
    "    # training tokenizer\n",
    "    #tokenizer.word_index = word_index\n",
    "\n",
    "    tokenizer.fit_on_texts(training_headlines)\n",
    "\n",
    "    print(f\"Word Index Size: {len(tokenizer.word_index)}\")\n",
    "    return tokenizer\n",
    "\n",
    "tokenizer = tune_hyper(vocab_size, max_length, training_headlines, testing_headlines, training_labels, testing_labels)\n",
    "\n",
    "# adding padding \n",
    "training_sequences = tokenizer.texts_to_sequences(training_headlines)\n",
    "training_padded = pad_sequences(training_sequences, maxlen=max_length, padding=padding_type, truncating=trunc_type)\n",
    "\n",
    "testing_sequences = tokenizer.texts_to_sequences(testing_headlines)\n",
    "testing_padded = pad_sequences(testing_sequences, maxlen=max_length, padding=padding_type, truncating=trunc_type)\n",
    "\n",
    "training_labels = np.array(training_labels)\n",
    "testing_labels = np.array(testing_labels)"
   ]
  },
  {
   "cell_type": "markdown",
   "metadata": {},
   "source": [
    "Define MCC Metric"
   ]
  },
  {
   "cell_type": "code",
   "execution_count": 104,
   "metadata": {},
   "outputs": [],
   "source": [
    "threshold = 0.5  \n",
    "\n",
    "def mcc_metric(y_true, y_pred):\n",
    "  predicted = tf.cast(tf.greater(y_pred, threshold), tf.float32)\n",
    "  true_pos = tf.math.count_nonzero(predicted * y_true)\n",
    "  true_neg = tf.math.count_nonzero((predicted - 1) * (y_true - 1))\n",
    "  false_pos = tf.math.count_nonzero(predicted * (y_true - 1))\n",
    "  false_neg = tf.math.count_nonzero((predicted - 1) * y_true)\n",
    "  x = tf.cast((true_pos + false_pos) * (true_pos + false_neg) \n",
    "      * (true_neg + false_pos) * (true_neg + false_neg), tf.float32)\n",
    "  return tf.cast((true_pos * true_neg) - (false_pos * false_neg), tf.float32) / tf.sqrt(x)"
   ]
  },
  {
   "cell_type": "code",
   "execution_count": 13,
   "metadata": {},
   "outputs": [],
   "source": [
    "embedding_dim = 16\n",
    "batch_size = 32\n",
    "epochs = 50\n",
    "learning_rate = 1e-4"
   ]
  },
  {
   "cell_type": "code",
   "execution_count": 14,
   "metadata": {},
   "outputs": [],
   "source": [
    "tf.keras.backend.clear_session()\n",
    "\n",
    "baseline = tf.keras.Sequential([\n",
    "    # tf.keras.layers.Embedding(vocab_size, embedding_dim, input_length=max_length),\n",
    "    # #tf.keras.layers.Bidirectional(tf.keras.layers.LSTM(300)),#, return_sequences=False, dropout=0.25, recurrent_dropout=0.25)),\n",
    "    # tf.keras.layers.Bidirectional(tf.keras.layers.LSTM(512, return_sequences=True)),\n",
    "    # tf.keras.layers.Bidirectional(tf.keras.layers.LSTM(512, return_sequences=True)),\n",
    "    # tf.keras.layers.GlobalMaxPooling1D(),\n",
    "    # tf.keras.layers.Dropout(0.5),\n",
    "    # #tf.keras.layers.Dense(512, activation=\"relu\"),\n",
    "    # #tf.keras.layers.Dropout(0.5),\n",
    "    # tf.keras.layers.Dense(4, activation=\"relu\"),\n",
    "    # tf.keras.layers.Dense(1, activation=\"sigmoid\")\n",
    "    tf.keras.layers.Embedding(vocab_size, embedding_dim, input_length=max_length),\n",
    "    #tf.keras.layers.Bidirectional(tf.keras.layers.LSTM(300)),#, return_sequences=False, dropout=0.25, recurrent_dropout=0.25)),\n",
    "    tf.keras.layers.Bidirectional(tf.keras.layers.LSTM(512, return_sequences=True)),\n",
    "    tf.keras.layers.Bidirectional(tf.keras.layers.LSTM(512)),\n",
    "    tf.keras.layers.Dropout(0.5),\n",
    "    tf.keras.layers.Dense(512, activation=\"relu\"),\n",
    "    tf.keras.layers.Dropout(0.5),\n",
    "    tf.keras.layers.Dense(128, activation=\"relu\"),\n",
    "    tf.keras.layers.Dense(1, activation=\"sigmoid\")\n",
    "])\n",
    "\n",
    "baseline.compile(loss=\"binary_crossentropy\", optimizer= tf.keras.optimizers.Adam(learning_rate=learning_rate), metrics=[\"accuracy\", tf.keras.metrics.FalsePositives(), tf.keras.metrics.FalseNegatives()])"
   ]
  },
  {
   "cell_type": "markdown",
   "metadata": {},
   "source": [
    "Train model."
   ]
  },
  {
   "cell_type": "code",
   "execution_count": 15,
   "metadata": {},
   "outputs": [],
   "source": [
    "idx = 11"
   ]
  },
  {
   "cell_type": "code",
   "execution_count": 16,
   "metadata": {},
   "outputs": [],
   "source": [
    "class prediction_for_each_epoch(tf.keras.callbacks.Callback):\n",
    "    def on_epoch_end(self, epoch, logs=None):\n",
    "        prediction = model.predict(np.expand_dims(testing_padded[idx], axis=0))\n",
    "        print(f\"\\n Prediction: {prediction[0][0]} Actual: {testing_labels[idx]}\")"
   ]
  },
  {
   "cell_type": "code",
   "execution_count": 17,
   "metadata": {},
   "outputs": [],
   "source": [
    "tf.keras.backend.clear_session()"
   ]
  },
  {
   "cell_type": "code",
   "execution_count": 18,
   "metadata": {},
   "outputs": [
    {
     "name": "stdout",
     "output_type": "stream",
     "text": [
      "Sentence is 'mill capac produc 500 000 tonn pulp per year .'\n",
      "Epoch 1/50\n",
      " 26/164 [===>..........................] - ETA: 3:09 - loss: 0.6679 - accuracy: 0.6406 - false_positives: 20.0000 - false_negatives: 279.0000"
     ]
    },
    {
     "ename": "KeyboardInterrupt",
     "evalue": "",
     "output_type": "error",
     "traceback": [
      "\u001b[1;31m---------------------------------------------------------------------------\u001b[0m",
      "\u001b[1;31mKeyboardInterrupt\u001b[0m                         Traceback (most recent call last)",
      "\u001b[1;32mc:\\dev\\Code\\Projects\\StockSentimentalAnalysis\\model\\training_experiment.ipynb Cell 23'\u001b[0m in \u001b[0;36m<cell line: 11>\u001b[1;34m()\u001b[0m\n\u001b[0;32m      <a href='vscode-notebook-cell:/c%3A/dev/Code/Projects/StockSentimentalAnalysis/model/training_experiment.ipynb#ch0000022?line=7'>8</a>\u001b[0m     string \u001b[39m+\u001b[39m\u001b[39m=\u001b[39m tokenizer\u001b[39m.\u001b[39mindex_word[word] \u001b[39m+\u001b[39m \u001b[39m\"\u001b[39m\u001b[39m \u001b[39m\u001b[39m\"\u001b[39m\n\u001b[0;32m      <a href='vscode-notebook-cell:/c%3A/dev/Code/Projects/StockSentimentalAnalysis/model/training_experiment.ipynb#ch0000022?line=8'>9</a>\u001b[0m \u001b[39mprint\u001b[39m(\u001b[39mf\u001b[39m\u001b[39m\"\u001b[39m\u001b[39mSentence is \u001b[39m\u001b[39m'\u001b[39m\u001b[39m{\u001b[39;00mstring\u001b[39m}\u001b[39;00m\u001b[39m'\u001b[39m\u001b[39m\"\u001b[39m)\n\u001b[1;32m---> <a href='vscode-notebook-cell:/c%3A/dev/Code/Projects/StockSentimentalAnalysis/model/training_experiment.ipynb#ch0000022?line=10'>11</a>\u001b[0m history \u001b[39m=\u001b[39m baseline\u001b[39m.\u001b[39;49mfit(training_padded, training_labels, batch_size\u001b[39m=\u001b[39;49mbatch_size, epochs\u001b[39m=\u001b[39;49mepochs, validation_data\u001b[39m=\u001b[39;49m(testing_padded, testing_labels), callbacks\u001b[39m=\u001b[39;49m[stop, prediction_for_each_epoch()])\n",
      "File \u001b[1;32mc:\\Users\\redst\\AppData\\Local\\Programs\\Python\\Python310\\lib\\site-packages\\keras\\utils\\traceback_utils.py:64\u001b[0m, in \u001b[0;36mfilter_traceback.<locals>.error_handler\u001b[1;34m(*args, **kwargs)\u001b[0m\n\u001b[0;32m     62\u001b[0m filtered_tb \u001b[39m=\u001b[39m \u001b[39mNone\u001b[39;00m\n\u001b[0;32m     63\u001b[0m \u001b[39mtry\u001b[39;00m:\n\u001b[1;32m---> 64\u001b[0m   \u001b[39mreturn\u001b[39;00m fn(\u001b[39m*\u001b[39margs, \u001b[39m*\u001b[39m\u001b[39m*\u001b[39mkwargs)\n\u001b[0;32m     65\u001b[0m \u001b[39mexcept\u001b[39;00m \u001b[39mException\u001b[39;00m \u001b[39mas\u001b[39;00m e:  \u001b[39m# pylint: disable=broad-except\u001b[39;00m\n\u001b[0;32m     66\u001b[0m   filtered_tb \u001b[39m=\u001b[39m _process_traceback_frames(e\u001b[39m.\u001b[39m__traceback__)\n",
      "File \u001b[1;32mc:\\Users\\redst\\AppData\\Local\\Programs\\Python\\Python310\\lib\\site-packages\\keras\\engine\\training.py:1409\u001b[0m, in \u001b[0;36mModel.fit\u001b[1;34m(self, x, y, batch_size, epochs, verbose, callbacks, validation_split, validation_data, shuffle, class_weight, sample_weight, initial_epoch, steps_per_epoch, validation_steps, validation_batch_size, validation_freq, max_queue_size, workers, use_multiprocessing)\u001b[0m\n\u001b[0;32m   1402\u001b[0m \u001b[39mwith\u001b[39;00m tf\u001b[39m.\u001b[39mprofiler\u001b[39m.\u001b[39mexperimental\u001b[39m.\u001b[39mTrace(\n\u001b[0;32m   1403\u001b[0m     \u001b[39m'\u001b[39m\u001b[39mtrain\u001b[39m\u001b[39m'\u001b[39m,\n\u001b[0;32m   1404\u001b[0m     epoch_num\u001b[39m=\u001b[39mepoch,\n\u001b[0;32m   1405\u001b[0m     step_num\u001b[39m=\u001b[39mstep,\n\u001b[0;32m   1406\u001b[0m     batch_size\u001b[39m=\u001b[39mbatch_size,\n\u001b[0;32m   1407\u001b[0m     _r\u001b[39m=\u001b[39m\u001b[39m1\u001b[39m):\n\u001b[0;32m   1408\u001b[0m   callbacks\u001b[39m.\u001b[39mon_train_batch_begin(step)\n\u001b[1;32m-> 1409\u001b[0m   tmp_logs \u001b[39m=\u001b[39m \u001b[39mself\u001b[39;49m\u001b[39m.\u001b[39;49mtrain_function(iterator)\n\u001b[0;32m   1410\u001b[0m   \u001b[39mif\u001b[39;00m data_handler\u001b[39m.\u001b[39mshould_sync:\n\u001b[0;32m   1411\u001b[0m     context\u001b[39m.\u001b[39masync_wait()\n",
      "File \u001b[1;32mc:\\Users\\redst\\AppData\\Local\\Programs\\Python\\Python310\\lib\\site-packages\\tensorflow\\python\\util\\traceback_utils.py:150\u001b[0m, in \u001b[0;36mfilter_traceback.<locals>.error_handler\u001b[1;34m(*args, **kwargs)\u001b[0m\n\u001b[0;32m    148\u001b[0m filtered_tb \u001b[39m=\u001b[39m \u001b[39mNone\u001b[39;00m\n\u001b[0;32m    149\u001b[0m \u001b[39mtry\u001b[39;00m:\n\u001b[1;32m--> 150\u001b[0m   \u001b[39mreturn\u001b[39;00m fn(\u001b[39m*\u001b[39margs, \u001b[39m*\u001b[39m\u001b[39m*\u001b[39mkwargs)\n\u001b[0;32m    151\u001b[0m \u001b[39mexcept\u001b[39;00m \u001b[39mException\u001b[39;00m \u001b[39mas\u001b[39;00m e:\n\u001b[0;32m    152\u001b[0m   filtered_tb \u001b[39m=\u001b[39m _process_traceback_frames(e\u001b[39m.\u001b[39m__traceback__)\n",
      "File \u001b[1;32mc:\\Users\\redst\\AppData\\Local\\Programs\\Python\\Python310\\lib\\site-packages\\tensorflow\\python\\eager\\def_function.py:915\u001b[0m, in \u001b[0;36mFunction.__call__\u001b[1;34m(self, *args, **kwds)\u001b[0m\n\u001b[0;32m    912\u001b[0m compiler \u001b[39m=\u001b[39m \u001b[39m\"\u001b[39m\u001b[39mxla\u001b[39m\u001b[39m\"\u001b[39m \u001b[39mif\u001b[39;00m \u001b[39mself\u001b[39m\u001b[39m.\u001b[39m_jit_compile \u001b[39melse\u001b[39;00m \u001b[39m\"\u001b[39m\u001b[39mnonXla\u001b[39m\u001b[39m\"\u001b[39m\n\u001b[0;32m    914\u001b[0m \u001b[39mwith\u001b[39;00m OptionalXlaContext(\u001b[39mself\u001b[39m\u001b[39m.\u001b[39m_jit_compile):\n\u001b[1;32m--> 915\u001b[0m   result \u001b[39m=\u001b[39m \u001b[39mself\u001b[39m\u001b[39m.\u001b[39m_call(\u001b[39m*\u001b[39margs, \u001b[39m*\u001b[39m\u001b[39m*\u001b[39mkwds)\n\u001b[0;32m    917\u001b[0m new_tracing_count \u001b[39m=\u001b[39m \u001b[39mself\u001b[39m\u001b[39m.\u001b[39mexperimental_get_tracing_count()\n\u001b[0;32m    918\u001b[0m without_tracing \u001b[39m=\u001b[39m (tracing_count \u001b[39m==\u001b[39m new_tracing_count)\n",
      "File \u001b[1;32mc:\\Users\\redst\\AppData\\Local\\Programs\\Python\\Python310\\lib\\site-packages\\tensorflow\\python\\eager\\def_function.py:947\u001b[0m, in \u001b[0;36mFunction._call\u001b[1;34m(self, *args, **kwds)\u001b[0m\n\u001b[0;32m    944\u001b[0m   \u001b[39mself\u001b[39m\u001b[39m.\u001b[39m_lock\u001b[39m.\u001b[39mrelease()\n\u001b[0;32m    945\u001b[0m   \u001b[39m# In this case we have created variables on the first call, so we run the\u001b[39;00m\n\u001b[0;32m    946\u001b[0m   \u001b[39m# defunned version which is guaranteed to never create variables.\u001b[39;00m\n\u001b[1;32m--> 947\u001b[0m   \u001b[39mreturn\u001b[39;00m \u001b[39mself\u001b[39m\u001b[39m.\u001b[39m_stateless_fn(\u001b[39m*\u001b[39margs, \u001b[39m*\u001b[39m\u001b[39m*\u001b[39mkwds)  \u001b[39m# pylint: disable=not-callable\u001b[39;00m\n\u001b[0;32m    948\u001b[0m \u001b[39melif\u001b[39;00m \u001b[39mself\u001b[39m\u001b[39m.\u001b[39m_stateful_fn \u001b[39mis\u001b[39;00m \u001b[39mnot\u001b[39;00m \u001b[39mNone\u001b[39;00m:\n\u001b[0;32m    949\u001b[0m   \u001b[39m# Release the lock early so that multiple threads can perform the call\u001b[39;00m\n\u001b[0;32m    950\u001b[0m   \u001b[39m# in parallel.\u001b[39;00m\n\u001b[0;32m    951\u001b[0m   \u001b[39mself\u001b[39m\u001b[39m.\u001b[39m_lock\u001b[39m.\u001b[39mrelease()\n",
      "File \u001b[1;32mc:\\Users\\redst\\AppData\\Local\\Programs\\Python\\Python310\\lib\\site-packages\\tensorflow\\python\\eager\\function.py:2453\u001b[0m, in \u001b[0;36mFunction.__call__\u001b[1;34m(self, *args, **kwargs)\u001b[0m\n\u001b[0;32m   2450\u001b[0m \u001b[39mwith\u001b[39;00m \u001b[39mself\u001b[39m\u001b[39m.\u001b[39m_lock:\n\u001b[0;32m   2451\u001b[0m   (graph_function,\n\u001b[0;32m   2452\u001b[0m    filtered_flat_args) \u001b[39m=\u001b[39m \u001b[39mself\u001b[39m\u001b[39m.\u001b[39m_maybe_define_function(args, kwargs)\n\u001b[1;32m-> 2453\u001b[0m \u001b[39mreturn\u001b[39;00m graph_function\u001b[39m.\u001b[39;49m_call_flat(\n\u001b[0;32m   2454\u001b[0m     filtered_flat_args, captured_inputs\u001b[39m=\u001b[39;49mgraph_function\u001b[39m.\u001b[39;49mcaptured_inputs)\n",
      "File \u001b[1;32mc:\\Users\\redst\\AppData\\Local\\Programs\\Python\\Python310\\lib\\site-packages\\tensorflow\\python\\eager\\function.py:1860\u001b[0m, in \u001b[0;36mConcreteFunction._call_flat\u001b[1;34m(self, args, captured_inputs, cancellation_manager)\u001b[0m\n\u001b[0;32m   1856\u001b[0m possible_gradient_type \u001b[39m=\u001b[39m gradients_util\u001b[39m.\u001b[39mPossibleTapeGradientTypes(args)\n\u001b[0;32m   1857\u001b[0m \u001b[39mif\u001b[39;00m (possible_gradient_type \u001b[39m==\u001b[39m gradients_util\u001b[39m.\u001b[39mPOSSIBLE_GRADIENT_TYPES_NONE\n\u001b[0;32m   1858\u001b[0m     \u001b[39mand\u001b[39;00m executing_eagerly):\n\u001b[0;32m   1859\u001b[0m   \u001b[39m# No tape is watching; skip to running the function.\u001b[39;00m\n\u001b[1;32m-> 1860\u001b[0m   \u001b[39mreturn\u001b[39;00m \u001b[39mself\u001b[39m\u001b[39m.\u001b[39m_build_call_outputs(\u001b[39mself\u001b[39;49m\u001b[39m.\u001b[39;49m_inference_function\u001b[39m.\u001b[39;49mcall(\n\u001b[0;32m   1861\u001b[0m       ctx, args, cancellation_manager\u001b[39m=\u001b[39;49mcancellation_manager))\n\u001b[0;32m   1862\u001b[0m forward_backward \u001b[39m=\u001b[39m \u001b[39mself\u001b[39m\u001b[39m.\u001b[39m_select_forward_and_backward_functions(\n\u001b[0;32m   1863\u001b[0m     args,\n\u001b[0;32m   1864\u001b[0m     possible_gradient_type,\n\u001b[0;32m   1865\u001b[0m     executing_eagerly)\n\u001b[0;32m   1866\u001b[0m forward_function, args_with_tangents \u001b[39m=\u001b[39m forward_backward\u001b[39m.\u001b[39mforward()\n",
      "File \u001b[1;32mc:\\Users\\redst\\AppData\\Local\\Programs\\Python\\Python310\\lib\\site-packages\\tensorflow\\python\\eager\\function.py:497\u001b[0m, in \u001b[0;36m_EagerDefinedFunction.call\u001b[1;34m(self, ctx, args, cancellation_manager)\u001b[0m\n\u001b[0;32m    495\u001b[0m \u001b[39mwith\u001b[39;00m _InterpolateFunctionError(\u001b[39mself\u001b[39m):\n\u001b[0;32m    496\u001b[0m   \u001b[39mif\u001b[39;00m cancellation_manager \u001b[39mis\u001b[39;00m \u001b[39mNone\u001b[39;00m:\n\u001b[1;32m--> 497\u001b[0m     outputs \u001b[39m=\u001b[39m execute\u001b[39m.\u001b[39;49mexecute(\n\u001b[0;32m    498\u001b[0m         \u001b[39mstr\u001b[39;49m(\u001b[39mself\u001b[39;49m\u001b[39m.\u001b[39;49msignature\u001b[39m.\u001b[39;49mname),\n\u001b[0;32m    499\u001b[0m         num_outputs\u001b[39m=\u001b[39;49m\u001b[39mself\u001b[39;49m\u001b[39m.\u001b[39;49m_num_outputs,\n\u001b[0;32m    500\u001b[0m         inputs\u001b[39m=\u001b[39;49margs,\n\u001b[0;32m    501\u001b[0m         attrs\u001b[39m=\u001b[39;49mattrs,\n\u001b[0;32m    502\u001b[0m         ctx\u001b[39m=\u001b[39;49mctx)\n\u001b[0;32m    503\u001b[0m   \u001b[39melse\u001b[39;00m:\n\u001b[0;32m    504\u001b[0m     outputs \u001b[39m=\u001b[39m execute\u001b[39m.\u001b[39mexecute_with_cancellation(\n\u001b[0;32m    505\u001b[0m         \u001b[39mstr\u001b[39m(\u001b[39mself\u001b[39m\u001b[39m.\u001b[39msignature\u001b[39m.\u001b[39mname),\n\u001b[0;32m    506\u001b[0m         num_outputs\u001b[39m=\u001b[39m\u001b[39mself\u001b[39m\u001b[39m.\u001b[39m_num_outputs,\n\u001b[1;32m   (...)\u001b[0m\n\u001b[0;32m    509\u001b[0m         ctx\u001b[39m=\u001b[39mctx,\n\u001b[0;32m    510\u001b[0m         cancellation_manager\u001b[39m=\u001b[39mcancellation_manager)\n",
      "File \u001b[1;32mc:\\Users\\redst\\AppData\\Local\\Programs\\Python\\Python310\\lib\\site-packages\\tensorflow\\python\\eager\\execute.py:54\u001b[0m, in \u001b[0;36mquick_execute\u001b[1;34m(op_name, num_outputs, inputs, attrs, ctx, name)\u001b[0m\n\u001b[0;32m     52\u001b[0m \u001b[39mtry\u001b[39;00m:\n\u001b[0;32m     53\u001b[0m   ctx\u001b[39m.\u001b[39mensure_initialized()\n\u001b[1;32m---> 54\u001b[0m   tensors \u001b[39m=\u001b[39m pywrap_tfe\u001b[39m.\u001b[39;49mTFE_Py_Execute(ctx\u001b[39m.\u001b[39;49m_handle, device_name, op_name,\n\u001b[0;32m     55\u001b[0m                                       inputs, attrs, num_outputs)\n\u001b[0;32m     56\u001b[0m \u001b[39mexcept\u001b[39;00m core\u001b[39m.\u001b[39m_NotOkStatusException \u001b[39mas\u001b[39;00m e:\n\u001b[0;32m     57\u001b[0m   \u001b[39mif\u001b[39;00m name \u001b[39mis\u001b[39;00m \u001b[39mnot\u001b[39;00m \u001b[39mNone\u001b[39;00m:\n",
      "\u001b[1;31mKeyboardInterrupt\u001b[0m: "
     ]
    }
   ],
   "source": [
    "stop = tf.keras.callbacks.EarlyStopping(monitor='val_loss', patience=3)\n",
    "\n",
    "string = \"\"\n",
    "for word in testing_padded[idx]:\n",
    "    if word == 0:\n",
    "        string += \".\"\n",
    "        break\n",
    "    string += tokenizer.index_word[word] + \" \"\n",
    "print(f\"Sentence is '{string}'\")\n",
    "\n",
    "history = baseline.fit(training_padded, training_labels, batch_size=batch_size, epochs=epochs, validation_data=(testing_padded, testing_labels), callbacks=[stop, prediction_for_each_epoch()])"
   ]
  },
  {
   "cell_type": "markdown",
   "metadata": {},
   "source": [
    "adding MaxPooling1D Layer"
   ]
  },
  {
   "cell_type": "code",
   "execution_count": 26,
   "metadata": {},
   "outputs": [],
   "source": [
    "tf.keras.backend.clear_session()\n",
    "\n",
    "model_1 = tf.keras.Sequential([\n",
    "    tf.keras.layers.Embedding(vocab_size, embedding_dim, input_length=max_length),\n",
    "    #tf.keras.layers.Bidirectional(tf.keras.layers.LSTM(300)),#, return_sequences=False, dropout=0.25, recurrent_dropout=0.25)),\n",
    "    tf.keras.layers.Bidirectional(tf.keras.layers.LSTM(512, return_sequences=True)),\n",
    "    tf.keras.layers.Bidirectional(tf.keras.layers.LSTM(512)),\n",
    "    tf.keras.layers.Dropout(0.5),\n",
    "    tf.keras.layers.Dense(512, activation=\"relu\"),\n",
    "    tf.keras.layers.Dropout(0.5),\n",
    "    tf.keras.layers.Dense(128, activation=\"relu\"),\n",
    "    tf.keras.layers.Dense(1, activation=\"sigmoid\")\n",
    "])\n",
    "model_1.compile(loss=\"binary_crossentropy\", optimizer= tf.keras.optimizers.Adam(learning_rate=learning_rate), metrics=[\"accuracy\", tf.keras.metrics.FalsePositives(), tf.keras.metrics.FalseNegatives()])"
   ]
  },
  {
   "cell_type": "code",
   "execution_count": 27,
   "metadata": {},
   "outputs": [
    {
     "name": "stdout",
     "output_type": "stream",
     "text": [
      "Epoch 1/50\n",
      "1/1 [==============================] - 0s 291ms/step loss: 0.6570 - accuracy: 0.6368 - false_positives: 30.0000 - false_negatives: 1870.00\n",
      "\n",
      " Prediction: 0.49398550391197205 Actual: 0\n",
      "164/164 [==============================] - 12s 36ms/step - loss: 0.6570 - accuracy: 0.6368 - false_positives: 30.0000 - false_negatives: 1870.0000 - val_loss: 0.6242 - val_accuracy: 0.6615 - val_false_positives: 0.0000e+00 - val_false_negatives: 197.0000\n",
      "Epoch 2/50\n",
      "1/1 [==============================] - 0s 20ms/step- loss: 0.5750 - accuracy: 0.7064 - false_positives: 431.0000 - false_negatives: 1091.00\n",
      "\n",
      " Prediction: 0.49398550391197205 Actual: 0\n",
      "164/164 [==============================] - 4s 26ms/step - loss: 0.5740 - accuracy: 0.7071 - false_positives: 434.0000 - false_negatives: 1098.0000 - val_loss: 0.5753 - val_accuracy: 0.6787 - val_false_positives: 100.0000 - val_false_negatives: 87.0000\n",
      "Epoch 3/50\n",
      "1/1 [==============================] - 0s 25ms/step- loss: 0.4461 - accuracy: 0.8011 - false_positives: 435.0000 - false_negatives: 596.00\n",
      "\n",
      " Prediction: 0.49398550391197205 Actual: 0\n",
      "164/164 [==============================] - 4s 27ms/step - loss: 0.4460 - accuracy: 0.8008 - false_positives: 439.0000 - false_negatives: 603.0000 - val_loss: 0.5330 - val_accuracy: 0.7165 - val_false_positives: 85.0000 - val_false_negatives: 80.0000\n",
      "Epoch 4/50\n",
      "1/1 [==============================] - 0s 18ms/step- loss: 0.3480 - accuracy: 0.8572 - false_positives: 346.0000 - false_negatives: 399.00\n",
      "\n",
      " Prediction: 0.49398550391197205 Actual: 0\n",
      "164/164 [==============================] - 4s 26ms/step - loss: 0.3476 - accuracy: 0.8572 - false_positives: 347.0000 - false_negatives: 400.0000 - val_loss: 0.5139 - val_accuracy: 0.7457 - val_false_positives: 77.0000 - val_false_negatives: 71.0000\n",
      "Epoch 5/50\n",
      "1/1 [==============================] - 0s 18ms/step- loss: 0.2725 - accuracy: 0.8928 - false_positives: 264.0000 - false_negatives: 295.00\n",
      "\n",
      " Prediction: 0.49398550391197205 Actual: 0\n",
      "164/164 [==============================] - 4s 27ms/step - loss: 0.2724 - accuracy: 0.8929 - false_positives: 264.0000 - false_negatives: 296.0000 - val_loss: 0.5231 - val_accuracy: 0.7440 - val_false_positives: 75.0000 - val_false_negatives: 74.0000\n",
      "Epoch 6/50\n",
      "1/1 [==============================] - 0s 19ms/step- loss: 0.2144 - accuracy: 0.9236 - false_positives: 193.0000 - false_negatives: 203.00\n",
      "\n",
      " Prediction: 0.49398550391197205 Actual: 0\n",
      "164/164 [==============================] - 4s 26ms/step - loss: 0.2160 - accuracy: 0.9232 - false_positives: 194.0000 - false_negatives: 208.0000 - val_loss: 0.6825 - val_accuracy: 0.7440 - val_false_positives: 88.0000 - val_false_negatives: 61.0000\n",
      "Epoch 7/50\n",
      "1/1 [==============================] - 0s 19ms/step- loss: 0.1683 - accuracy: 0.9436 - false_positives: 138.0000 - false_negatives: 157.00\n",
      "\n",
      " Prediction: 0.49398550391197205 Actual: 0\n",
      "164/164 [==============================] - 4s 25ms/step - loss: 0.1683 - accuracy: 0.9436 - false_positives: 138.0000 - false_negatives: 157.0000 - val_loss: 0.6955 - val_accuracy: 0.7423 - val_false_positives: 83.0000 - val_false_negatives: 67.0000\n"
     ]
    }
   ],
   "source": [
    "history_1 = model_1.fit(training_padded, training_labels, batch_size=batch_size, epochs=epochs, validation_data=(testing_padded, testing_labels), callbacks=[stop, prediction_for_each_epoch()])"
   ]
  },
  {
   "cell_type": "markdown",
   "metadata": {},
   "source": [
    "same as above but taking out dense layer after MaxPooling1D"
   ]
  },
  {
   "cell_type": "code",
   "execution_count": 28,
   "metadata": {},
   "outputs": [],
   "source": [
    "tf.keras.backend.clear_session()\n",
    "\n",
    "model_2 = tf.keras.Sequential([\n",
    "    tf.keras.layers.Embedding(vocab_size, embedding_dim, input_length=max_length),\n",
    "    #tf.keras.layers.Bidirectional(tf.keras.layers.LSTM(300)),#, return_sequences=False, dropout=0.25, recurrent_dropout=0.25)),\n",
    "    tf.keras.layers.Bidirectional(tf.keras.layers.LSTM(512, return_sequences=True)),\n",
    "    tf.keras.layers.Bidirectional(tf.keras.layers.LSTM(512)),\n",
    "    #tf.keras.layers.Dropout(0.5),\n",
    "    #tf.keras.layers.Dense(512, activation=\"relu\"),\n",
    "    tf.keras.layers.Dropout(0.5),\n",
    "    tf.keras.layers.Dense(128, activation=\"relu\"),\n",
    "    tf.keras.layers.Dense(1, activation=\"sigmoid\")\n",
    "])\n",
    "model_2.compile(loss=\"binary_crossentropy\", optimizer= tf.keras.optimizers.Adam(learning_rate=learning_rate), metrics=[\"accuracy\", tf.keras.metrics.FalsePositives(), tf.keras.metrics.FalseNegatives()])"
   ]
  },
  {
   "cell_type": "code",
   "execution_count": 29,
   "metadata": {},
   "outputs": [
    {
     "name": "stdout",
     "output_type": "stream",
     "text": [
      "Epoch 1/50\n",
      "1/1 [==============================] - 0s 251ms/step loss: 0.6519 - accuracy: 0.6429 - false_positives: 48.0000 - false_negatives: 1820.00\n",
      "\n",
      " Prediction: 0.49398550391197205 Actual: 0\n",
      "164/164 [==============================] - 11s 35ms/step - loss: 0.6519 - accuracy: 0.6429 - false_positives: 48.0000 - false_negatives: 1820.0000 - val_loss: 0.6115 - val_accuracy: 0.6838 - val_false_positives: 11.0000 - val_false_negatives: 173.0000\n",
      "Epoch 2/50\n",
      "1/1 [==============================] - 0s 19ms/step- loss: 0.5653 - accuracy: 0.7166 - false_positives: 388.0000 - false_negatives: 1081.00\n",
      "\n",
      " Prediction: 0.49398550391197205 Actual: 0\n",
      "164/164 [==============================] - 4s 25ms/step - loss: 0.5659 - accuracy: 0.7161 - false_positives: 392.0000 - false_negatives: 1093.0000 - val_loss: 0.5477 - val_accuracy: 0.7216 - val_false_positives: 34.0000 - val_false_negatives: 128.0000\n",
      "Epoch 3/50\n",
      "1/1 [==============================] - 0s 18ms/step- loss: 0.4465 - accuracy: 0.7957 - false_positives: 472.0000 - false_negatives: 587.00\n",
      "\n",
      " Prediction: 0.49398550391197205 Actual: 0\n",
      "164/164 [==============================] - 4s 25ms/step - loss: 0.4462 - accuracy: 0.7960 - false_positives: 475.0000 - false_negatives: 592.0000 - val_loss: 0.5122 - val_accuracy: 0.7509 - val_false_positives: 37.0000 - val_false_negatives: 108.0000\n",
      "Epoch 4/50\n",
      "1/1 [==============================] - 0s 19ms/step- loss: 0.3511 - accuracy: 0.8528 - false_positives: 353.0000 - false_negatives: 415.00\n",
      "\n",
      " Prediction: 0.49398550391197205 Actual: 0\n",
      "164/164 [==============================] - 4s 25ms/step - loss: 0.3511 - accuracy: 0.8528 - false_positives: 354.0000 - false_negatives: 416.0000 - val_loss: 0.5313 - val_accuracy: 0.7749 - val_false_positives: 61.0000 - val_false_negatives: 70.0000\n",
      "Epoch 5/50\n",
      "1/1 [==============================] - 0s 17ms/step- loss: 0.2698 - accuracy: 0.8923 - false_positives: 281.0000 - false_negatives: 281.00\n",
      "\n",
      " Prediction: 0.49398550391197205 Actual: 0\n",
      "164/164 [==============================] - 4s 25ms/step - loss: 0.2697 - accuracy: 0.8926 - false_positives: 281.0000 - false_negatives: 281.0000 - val_loss: 0.5671 - val_accuracy: 0.7715 - val_false_positives: 26.0000 - val_false_negatives: 107.0000\n",
      "Epoch 6/50\n",
      "1/1 [==============================] - 0s 17ms/step- loss: 0.2114 - accuracy: 0.9201 - false_positives: 200.0000 - false_negatives: 214.00\n",
      "\n",
      " Prediction: 0.49398550391197205 Actual: 0\n",
      "164/164 [==============================] - 4s 25ms/step - loss: 0.2110 - accuracy: 0.9203 - false_positives: 201.0000 - false_negatives: 216.0000 - val_loss: 0.6291 - val_accuracy: 0.7612 - val_false_positives: 23.0000 - val_false_negatives: 116.0000\n"
     ]
    }
   ],
   "source": [
    "history_2 = model_2.fit(training_padded, training_labels, batch_size=batch_size, epochs=epochs, validation_data=(testing_padded, testing_labels), callbacks=[stop, prediction_for_each_epoch()])"
   ]
  },
  {
   "cell_type": "markdown",
   "metadata": {},
   "source": [
    "reducing vocab size from 10k --> 5k"
   ]
  },
  {
   "cell_type": "code",
   "execution_count": 112,
   "metadata": {},
   "outputs": [
    {
     "name": "stdout",
     "output_type": "stream",
     "text": [
      "Word Index Size: 8868\n"
     ]
    }
   ],
   "source": [
    "tf.keras.backend.clear_session()\n",
    "vocab_size = 5000\n",
    "tokenizer = tune_hyper(vocab_size, max_length, training_headlines, testing_headlines, training_labels, testing_labels)\n",
    "\n",
    "# adding padding \n",
    "training_sequences = tokenizer.texts_to_sequences(training_headlines)\n",
    "training_padded = pad_sequences(training_sequences, maxlen=max_length, padding=padding_type, truncating=trunc_type)\n",
    "\n",
    "testing_sequences = tokenizer.texts_to_sequences(testing_headlines)\n",
    "testing_padded = pad_sequences(testing_sequences, maxlen=max_length, padding=padding_type, truncating=trunc_type)\n",
    "\n",
    "training_labels = np.array(training_labels)\n",
    "testing_labels = np.array(testing_labels)"
   ]
  },
  {
   "cell_type": "code",
   "execution_count": 113,
   "metadata": {},
   "outputs": [],
   "source": [
    "model_3 = tf.keras.Sequential([\n",
    "    tf.keras.layers.Embedding(vocab_size, embedding_dim, input_length=max_length),\n",
    "    #tf.keras.layers.Bidirectional(tf.keras.layers.LSTM(300)),#, return_sequences=False, dropout=0.25, recurrent_dropout=0.25)),\n",
    "    tf.keras.layers.Bidirectional(tf.keras.layers.LSTM(512, return_sequences=True)),\n",
    "    tf.keras.layers.Bidirectional(tf.keras.layers.LSTM(512)),\n",
    "    #tf.keras.layers.Dropout(0.5),\n",
    "    #tf.keras.layers.Dense(512, activation=\"relu\"),\n",
    "    tf.keras.layers.Dropout(0.5),\n",
    "    tf.keras.layers.Dense(128, activation=\"relu\"),\n",
    "    tf.keras.layers.Dense(1, activation=\"sigmoid\")\n",
    "])\n",
    "model_3.compile(loss=\"binary_crossentropy\", optimizer= tf.keras.optimizers.Adam(learning_rate=learning_rate), metrics=[\"accuracy\", tf.keras.metrics.FalsePositives(), tf.keras.metrics.FalseNegatives()])"
   ]
  },
  {
   "cell_type": "code",
   "execution_count": 114,
   "metadata": {},
   "outputs": [
    {
     "name": "stdout",
     "output_type": "stream",
     "text": [
      "Epoch 1/50\n",
      "1/1 [==============================] - 0s 246ms/step loss: 0.6488 - accuracy: 0.6439 - false_positives: 55.0000 - false_negatives: 1808.00\n",
      "\n",
      " Prediction: 0.4934248924255371 Actual: 0\n",
      "164/164 [==============================] - 10s 34ms/step - loss: 0.6488 - accuracy: 0.6439 - false_positives: 55.0000 - false_negatives: 1808.0000 - val_loss: 0.5871 - val_accuracy: 0.6959 - val_false_positives: 47.0000 - val_false_negatives: 130.0000\n",
      "Epoch 2/50\n",
      "1/1 [==============================] - 0s 16ms/step- loss: 0.5512 - accuracy: 0.7242 - false_positives: 413.0000 - false_negatives: 1017.00\n",
      "\n",
      " Prediction: 0.4934248924255371 Actual: 0\n",
      "164/164 [==============================] - 4s 25ms/step - loss: 0.5518 - accuracy: 0.7238 - false_positives: 415.0000 - false_negatives: 1030.0000 - val_loss: 0.5513 - val_accuracy: 0.7199 - val_false_positives: 18.0000 - val_false_negatives: 145.0000\n",
      "Epoch 3/50\n",
      "1/1 [==============================] - 0s 17ms/step- loss: 0.4516 - accuracy: 0.7895 - false_positives: 476.0000 - false_negatives: 622.00\n",
      "\n",
      " Prediction: 0.4934248924255371 Actual: 0\n",
      "164/164 [==============================] - 4s 25ms/step - loss: 0.4517 - accuracy: 0.7893 - false_positives: 476.0000 - false_negatives: 626.0000 - val_loss: 0.4831 - val_accuracy: 0.7835 - val_false_positives: 55.0000 - val_false_negatives: 71.0000\n",
      "Epoch 4/50\n",
      "1/1 [==============================] - 0s 17ms/step- loss: 0.3738 - accuracy: 0.8426 - false_positives: 387.0000 - false_negatives: 429.00\n",
      "\n",
      " Prediction: 0.4934248924255371 Actual: 0\n",
      "164/164 [==============================] - 4s 25ms/step - loss: 0.3734 - accuracy: 0.8425 - false_positives: 389.0000 - false_negatives: 435.0000 - val_loss: 0.4636 - val_accuracy: 0.7801 - val_false_positives: 69.0000 - val_false_negatives: 59.0000\n",
      "Epoch 5/50\n",
      "1/1 [==============================] - 0s 16ms/step- loss: 0.3166 - accuracy: 0.8692 - false_positives: 356.0000 - false_negatives: 322.00\n",
      "\n",
      " Prediction: 0.4934248924255371 Actual: 0\n",
      "164/164 [==============================] - 4s 24ms/step - loss: 0.3168 - accuracy: 0.8689 - false_positives: 360.0000 - false_negatives: 326.0000 - val_loss: 0.5930 - val_accuracy: 0.7921 - val_false_positives: 70.0000 - val_false_negatives: 51.0000\n",
      "Epoch 6/50\n",
      "1/1 [==============================] - 0s 16ms/step- loss: 0.2689 - accuracy: 0.8915 - false_positives: 317.0000 - false_negatives: 249.00\n",
      "\n",
      " Prediction: 0.4934248924255371 Actual: 0\n",
      "164/164 [==============================] - 4s 25ms/step - loss: 0.2686 - accuracy: 0.8916 - false_positives: 317.0000 - false_negatives: 250.0000 - val_loss: 0.5109 - val_accuracy: 0.7904 - val_false_positives: 75.0000 - val_false_negatives: 47.0000\n",
      "Epoch 7/50\n",
      "1/1 [==============================] - 0s 17ms/step- loss: 0.2256 - accuracy: 0.9101 - false_positives: 272.0000 - false_negatives: 197.00\n",
      "\n",
      " Prediction: 0.4934248924255371 Actual: 0\n",
      "164/164 [==============================] - 4s 25ms/step - loss: 0.2254 - accuracy: 0.9103 - false_positives: 272.0000 - false_negatives: 197.0000 - val_loss: 0.4549 - val_accuracy: 0.8058 - val_false_positives: 51.0000 - val_false_negatives: 62.0000\n",
      "Epoch 8/50\n",
      "1/1 [==============================] - 0s 17ms/step- loss: 0.1951 - accuracy: 0.9291 - false_positives: 217.0000 - false_negatives: 153.00\n",
      "\n",
      " Prediction: 0.4934248924255371 Actual: 0\n",
      "164/164 [==============================] - 4s 25ms/step - loss: 0.1949 - accuracy: 0.9291 - false_positives: 217.0000 - false_negatives: 154.0000 - val_loss: 0.5791 - val_accuracy: 0.7887 - val_false_positives: 62.0000 - val_false_negatives: 61.0000\n",
      "Epoch 9/50\n",
      "1/1 [==============================] - 0s 16ms/step- loss: 0.1757 - accuracy: 0.9344 - false_positives: 218.0000 - false_negatives: 124.00\n",
      "\n",
      " Prediction: 0.4934248924255371 Actual: 0\n",
      "164/164 [==============================] - 4s 24ms/step - loss: 0.1756 - accuracy: 0.9344 - false_positives: 219.0000 - false_negatives: 124.0000 - val_loss: 0.6017 - val_accuracy: 0.7973 - val_false_positives: 56.0000 - val_false_negatives: 62.0000\n",
      "Epoch 10/50\n",
      "1/1 [==============================] - 0s 16ms/step- loss: 0.1496 - accuracy: 0.9465 - false_positives: 165.0000 - false_negatives: 114.00\n",
      "\n",
      " Prediction: 0.4934248924255371 Actual: 0\n",
      "164/164 [==============================] - 4s 24ms/step - loss: 0.1500 - accuracy: 0.9461 - false_positives: 166.0000 - false_negatives: 116.0000 - val_loss: 0.6703 - val_accuracy: 0.7801 - val_false_positives: 41.0000 - val_false_negatives: 87.0000\n"
     ]
    }
   ],
   "source": [
    "history_3 = model_3.fit(training_padded, training_labels, batch_size=batch_size, epochs=epochs, validation_data=(testing_padded, testing_labels), callbacks=[stop, prediction_for_each_epoch()])"
   ]
  },
  {
   "cell_type": "markdown",
   "metadata": {},
   "source": [
    "with 7.5k vocab size"
   ]
  },
  {
   "cell_type": "code",
   "execution_count": 49,
   "metadata": {},
   "outputs": [
    {
     "name": "stdout",
     "output_type": "stream",
     "text": [
      "Word Index Size: 8916\n"
     ]
    }
   ],
   "source": [
    "tf.keras.backend.clear_session()\n",
    "vocab_size = 7500\n",
    "tokenizer = tune_hyper(vocab_size, max_length, training_headlines, testing_headlines, training_labels, testing_labels)\n",
    "\n",
    "# adding padding \n",
    "training_sequences = tokenizer.texts_to_sequences(training_headlines)\n",
    "training_padded = pad_sequences(training_sequences, maxlen=max_length, padding=padding_type, truncating=trunc_type)\n",
    "\n",
    "testing_sequences = tokenizer.texts_to_sequences(testing_headlines)\n",
    "testing_padded = pad_sequences(testing_sequences, maxlen=max_length, padding=padding_type, truncating=trunc_type)\n",
    "\n",
    "training_labels = np.array(training_labels)\n",
    "testing_labels = np.array(testing_labels)"
   ]
  },
  {
   "cell_type": "code",
   "execution_count": 50,
   "metadata": {},
   "outputs": [],
   "source": [
    "model_4 = tf.keras.Sequential([\n",
    "    tf.keras.layers.Embedding(vocab_size, embedding_dim, input_length=max_length),\n",
    "    #tf.keras.layers.Bidirectional(tf.keras.layers.LSTM(300)),#, return_sequences=False, dropout=0.25, recurrent_dropout=0.25)),\n",
    "    tf.keras.layers.Bidirectional(tf.keras.layers.LSTM(512, return_sequences=True)),\n",
    "    tf.keras.layers.Bidirectional(tf.keras.layers.LSTM(512)),\n",
    "    #tf.keras.layers.Dropout(0.5),\n",
    "    #tf.keras.layers.Dense(512, activation=\"relu\"),\n",
    "    tf.keras.layers.Dropout(0.5),\n",
    "    tf.keras.layers.Dense(128, activation=\"relu\"),\n",
    "    tf.keras.layers.Dense(1, activation=\"sigmoid\")\n",
    "])\n",
    "model_4.compile(loss=\"binary_crossentropy\", optimizer= tf.keras.optimizers.Adam(learning_rate=learning_rate), metrics=[\"accuracy\", tf.keras.metrics.FalsePositives(), tf.keras.metrics.FalseNegatives()])"
   ]
  },
  {
   "cell_type": "code",
   "execution_count": 51,
   "metadata": {},
   "outputs": [
    {
     "name": "stdout",
     "output_type": "stream",
     "text": [
      "Epoch 1/50\n",
      "1/1 [==============================] - 0s 309ms/step loss: 0.6547 - accuracy: 0.6391 - false_positives: 0.0000e+00 - false_negatives: 1888.00\n",
      "\n",
      " Prediction: 0.4931558072566986 Actual: 0\n",
      "164/164 [==============================] - 14s 42ms/step - loss: 0.6547 - accuracy: 0.6391 - false_positives: 0.0000e+00 - false_negatives: 1888.0000 - val_loss: 0.6493 - val_accuracy: 0.6615 - val_false_positives: 0.0000e+00 - val_false_negatives: 197.0000\n",
      "Epoch 2/50\n",
      "1/1 [==============================] - 0s 18ms/step- loss: 0.5975 - accuracy: 0.6863 - false_positives: 221.0000 - false_negatives: 1415.00\n",
      "\n",
      " Prediction: 0.4931558072566986 Actual: 0\n",
      "164/164 [==============================] - 5s 32ms/step - loss: 0.5969 - accuracy: 0.6867 - false_positives: 222.0000 - false_negatives: 1417.0000 - val_loss: 0.5623 - val_accuracy: 0.6890 - val_false_positives: 116.0000 - val_false_negatives: 65.0000\n",
      "Epoch 3/50\n",
      "1/1 [==============================] - 0s 21ms/step- loss: 0.4417 - accuracy: 0.7993 - false_positives: 447.0000 - false_negatives: 600.00\n",
      "\n",
      " Prediction: 0.4931558072566986 Actual: 0\n",
      "164/164 [==============================] - 5s 31ms/step - loss: 0.4413 - accuracy: 0.7995 - false_positives: 447.0000 - false_negatives: 602.0000 - val_loss: 0.4860 - val_accuracy: 0.7784 - val_false_positives: 58.0000 - val_false_negatives: 71.0000\n",
      "Epoch 4/50\n",
      "1/1 [==============================] - 0s 20ms/step- loss: 0.3470 - accuracy: 0.8514 - false_positives: 365.0000 - false_negatives: 410.00\n",
      "\n",
      " Prediction: 0.4931558072566986 Actual: 0\n",
      "164/164 [==============================] - 5s 32ms/step - loss: 0.3466 - accuracy: 0.8515 - false_positives: 367.0000 - false_negatives: 410.0000 - val_loss: 0.5239 - val_accuracy: 0.7835 - val_false_positives: 52.0000 - val_false_negatives: 74.0000\n",
      "Epoch 5/50\n",
      "1/1 [==============================] - 0s 22ms/step- loss: 0.2726 - accuracy: 0.8917 - false_positives: 279.0000 - false_negatives: 286.00\n",
      "\n",
      " Prediction: 0.4931558072566986 Actual: 0\n",
      "164/164 [==============================] - 5s 32ms/step - loss: 0.2722 - accuracy: 0.8918 - false_positives: 279.0000 - false_negatives: 287.0000 - val_loss: 0.5569 - val_accuracy: 0.7784 - val_false_positives: 69.0000 - val_false_negatives: 60.0000\n",
      "Epoch 6/50\n",
      "1/1 [==============================] - 0s 19ms/step- loss: 0.2184 - accuracy: 0.9185 - false_positives: 221.0000 - false_negatives: 204.00\n",
      "\n",
      " Prediction: 0.4931558072566986 Actual: 0\n",
      "164/164 [==============================] - 5s 32ms/step - loss: 0.2182 - accuracy: 0.9186 - false_positives: 222.0000 - false_negatives: 204.0000 - val_loss: 0.5047 - val_accuracy: 0.7784 - val_false_positives: 70.0000 - val_false_negatives: 59.0000\n"
     ]
    }
   ],
   "source": [
    "history_4 = model_4.fit(training_padded, training_labels, batch_size=batch_size, epochs=epochs, validation_data=(testing_padded, testing_labels), callbacks=[stop, prediction_for_each_epoch()])"
   ]
  },
  {
   "cell_type": "markdown",
   "metadata": {},
   "source": [
    "increase word_length to 50"
   ]
  },
  {
   "cell_type": "code",
   "execution_count": 52,
   "metadata": {},
   "outputs": [
    {
     "name": "stdout",
     "output_type": "stream",
     "text": [
      "Word Index Size: 8916\n"
     ]
    }
   ],
   "source": [
    "tf.keras.backend.clear_session()\n",
    "vocab_size = 10000\n",
    "max_length = 50\n",
    "tokenizer = tune_hyper(vocab_size, max_length, training_headlines, testing_headlines, training_labels, testing_labels)\n",
    "\n",
    "# adding padding \n",
    "training_sequences = tokenizer.texts_to_sequences(training_headlines)\n",
    "training_padded = pad_sequences(training_sequences, maxlen=max_length, padding=padding_type, truncating=trunc_type)\n",
    "\n",
    "testing_sequences = tokenizer.texts_to_sequences(testing_headlines)\n",
    "testing_padded = pad_sequences(testing_sequences, maxlen=max_length, padding=padding_type, truncating=trunc_type)\n",
    "\n",
    "training_labels = np.array(training_labels)\n",
    "testing_labels = np.array(testing_labels)"
   ]
  },
  {
   "cell_type": "code",
   "execution_count": 53,
   "metadata": {},
   "outputs": [],
   "source": [
    "model_5 = tf.keras.Sequential([\n",
    "    tf.keras.layers.Embedding(vocab_size, embedding_dim, input_length=max_length),\n",
    "    #tf.keras.layers.Bidirectional(tf.keras.layers.LSTM(300)),#, return_sequences=False, dropout=0.25, recurrent_dropout=0.25)),\n",
    "    tf.keras.layers.Bidirectional(tf.keras.layers.LSTM(512, return_sequences=True)),\n",
    "    tf.keras.layers.Bidirectional(tf.keras.layers.LSTM(512)),\n",
    "    #tf.keras.layers.Dropout(0.5),\n",
    "    #tf.keras.layers.Dense(512, activation=\"relu\"),\n",
    "    tf.keras.layers.Dropout(0.5),\n",
    "    tf.keras.layers.Dense(128, activation=\"relu\"),\n",
    "    tf.keras.layers.Dense(1, activation=\"sigmoid\")\n",
    "])\n",
    "model_5.compile(loss=\"binary_crossentropy\", optimizer= tf.keras.optimizers.Adam(learning_rate=learning_rate), metrics=[\"accuracy\", tf.keras.metrics.FalsePositives(), tf.keras.metrics.FalseNegatives()])"
   ]
  },
  {
   "cell_type": "code",
   "execution_count": 54,
   "metadata": {},
   "outputs": [
    {
     "name": "stdout",
     "output_type": "stream",
     "text": [
      "Epoch 1/50\n",
      "1/1 [==============================] - 0s 294ms/step loss: 0.6557 - accuracy: 0.6384 - false_positives: 5.0000 - false_negatives: 1881.00\n",
      "\n",
      " Prediction: 0.4931558072566986 Actual: 0\n",
      "164/164 [==============================] - 14s 42ms/step - loss: 0.6557 - accuracy: 0.6385 - false_positives: 5.0000 - false_negatives: 1886.0000 - val_loss: 0.6311 - val_accuracy: 0.6615 - val_false_positives: 0.0000e+00 - val_false_negatives: 197.0000\n",
      "Epoch 2/50\n",
      "1/1 [==============================] - 0s 23ms/step- loss: 0.5813 - accuracy: 0.6911 - false_positives: 348.0000 - false_negatives: 1263.00\n",
      "\n",
      " Prediction: 0.4931558072566986 Actual: 0\n",
      "164/164 [==============================] - 5s 32ms/step - loss: 0.5823 - accuracy: 0.6907 - false_positives: 350.0000 - false_negatives: 1268.0000 - val_loss: 0.5766 - val_accuracy: 0.7268 - val_false_positives: 23.0000 - val_false_negatives: 136.0000\n",
      "Epoch 3/50\n",
      "1/1 [==============================] - 0s 18ms/step- loss: 0.4537 - accuracy: 0.7985 - false_positives: 427.0000 - false_negatives: 624.00\n",
      "\n",
      " Prediction: 0.4931558072566986 Actual: 0\n",
      "164/164 [==============================] - 5s 32ms/step - loss: 0.4537 - accuracy: 0.7987 - false_positives: 427.0000 - false_negatives: 626.0000 - val_loss: 0.5269 - val_accuracy: 0.7612 - val_false_positives: 52.0000 - val_false_negatives: 87.0000\n",
      "Epoch 4/50\n",
      "1/1 [==============================] - 0s 21ms/step- loss: 0.3481 - accuracy: 0.8526 - false_positives: 369.0000 - false_negatives: 400.00\n",
      "\n",
      " Prediction: 0.4931558072566986 Actual: 0\n",
      "164/164 [==============================] - 5s 31ms/step - loss: 0.3476 - accuracy: 0.8528 - false_positives: 369.0000 - false_negatives: 401.0000 - val_loss: 0.5122 - val_accuracy: 0.7784 - val_false_positives: 46.0000 - val_false_negatives: 83.0000\n",
      "Epoch 5/50\n",
      "1/1 [==============================] - 0s 18ms/step- loss: 0.2766 - accuracy: 0.8917 - false_positives: 285.0000 - false_negatives: 280.00\n",
      "\n",
      " Prediction: 0.4931558072566986 Actual: 0\n",
      "164/164 [==============================] - 5s 31ms/step - loss: 0.2768 - accuracy: 0.8912 - false_positives: 288.0000 - false_negatives: 281.0000 - val_loss: 0.5355 - val_accuracy: 0.7732 - val_false_positives: 73.0000 - val_false_negatives: 59.0000\n",
      "Epoch 6/50\n",
      "1/1 [==============================] - 0s 17ms/step- loss: 0.2160 - accuracy: 0.9214 - false_positives: 199.0000 - false_negatives: 211.00\n",
      "\n",
      " Prediction: 0.4931558072566986 Actual: 0\n",
      "164/164 [==============================] - 5s 30ms/step - loss: 0.2173 - accuracy: 0.9209 - false_positives: 202.0000 - false_negatives: 212.0000 - val_loss: 0.5841 - val_accuracy: 0.7818 - val_false_positives: 69.0000 - val_false_negatives: 58.0000\n",
      "Epoch 7/50\n",
      "1/1 [==============================] - 0s 22ms/step- loss: 0.1723 - accuracy: 0.9396 - false_positives: 152.0000 - false_negatives: 163.00\n",
      "\n",
      " Prediction: 0.4931558072566986 Actual: 0\n",
      "164/164 [==============================] - 5s 31ms/step - loss: 0.1724 - accuracy: 0.9394 - false_positives: 154.0000 - false_negatives: 163.0000 - val_loss: 0.5641 - val_accuracy: 0.7577 - val_false_positives: 73.0000 - val_false_negatives: 68.0000\n"
     ]
    }
   ],
   "source": [
    "history_5 = model_5.fit(training_padded, training_labels, batch_size=batch_size, epochs=epochs, validation_data=(testing_padded, testing_labels), callbacks=[stop, prediction_for_each_epoch()])"
   ]
  },
  {
   "cell_type": "markdown",
   "metadata": {},
   "source": [
    "try custom changes"
   ]
  },
  {
   "cell_type": "code",
   "execution_count": 55,
   "metadata": {},
   "outputs": [
    {
     "name": "stdout",
     "output_type": "stream",
     "text": [
      "Word Index Size: 8916\n"
     ]
    }
   ],
   "source": [
    "tf.keras.backend.clear_session()\n",
    "vocab_size = 8000\n",
    "max_length = 50\n",
    "tokenizer = tune_hyper(vocab_size, max_length, training_headlines, testing_headlines, training_labels, testing_labels)\n",
    "\n",
    "# adding padding \n",
    "training_sequences = tokenizer.texts_to_sequences(training_headlines)\n",
    "training_padded = pad_sequences(training_sequences, maxlen=max_length, padding=padding_type, truncating=trunc_type)\n",
    "\n",
    "testing_sequences = tokenizer.texts_to_sequences(testing_headlines)\n",
    "testing_padded = pad_sequences(testing_sequences, maxlen=max_length, padding=padding_type, truncating=trunc_type)\n",
    "\n",
    "training_labels = np.array(training_labels)\n",
    "testing_labels = np.array(testing_labels)"
   ]
  },
  {
   "cell_type": "code",
   "execution_count": 56,
   "metadata": {},
   "outputs": [],
   "source": [
    "model_6 = tf.keras.Sequential([\n",
    "    tf.keras.layers.Embedding(vocab_size, embedding_dim, input_length=max_length),\n",
    "    #tf.keras.layers.Bidirectional(tf.keras.layers.LSTM(300)),#, return_sequences=False, dropout=0.25, recurrent_dropout=0.25)),\n",
    "    tf.keras.layers.Bidirectional(tf.keras.layers.LSTM(10, return_sequences=True)),\n",
    "    tf.keras.layers.Bidirectional(tf.keras.layers.LSTM(10)),\n",
    "    #tf.keras.layers.Dropout(0.5),\n",
    "    #tf.keras.layers.Dense(512, activation=\"relu\"),\n",
    "    tf.keras.layers.Dropout(0.5),\n",
    "    tf.keras.layers.Dense(4, activation=\"relu\"),\n",
    "    tf.keras.layers.Dense(1, activation=\"sigmoid\")\n",
    "])\n",
    "\n",
    "model_6.compile(loss=\"binary_crossentropy\", optimizer= tf.keras.optimizers.Adam(learning_rate=learning_rate), metrics=[\"accuracy\", tf.keras.metrics.FalsePositives(), tf.keras.metrics.FalseNegatives()])"
   ]
  },
  {
   "cell_type": "code",
   "execution_count": 57,
   "metadata": {},
   "outputs": [
    {
     "name": "stdout",
     "output_type": "stream",
     "text": [
      "Epoch 1/50\n",
      "1/1 [==============================] - 0s 321ms/step loss: 0.6852 - accuracy: 0.6055 - false_positives: 386.0000 - false_negatives: 1659.00\n",
      "\n",
      " Prediction: 0.4931558072566986 Actual: 0\n",
      "164/164 [==============================] - 11s 35ms/step - loss: 0.6852 - accuracy: 0.6056 - false_positives: 386.0000 - false_negatives: 1677.0000 - val_loss: 0.6691 - val_accuracy: 0.6615 - val_false_positives: 0.0000e+00 - val_false_negatives: 197.0000\n",
      "Epoch 2/50\n",
      "1/1 [==============================] - 0s 22ms/step- loss: 0.6628 - accuracy: 0.6394 - false_positives: 0.0000e+00 - false_negatives: 1881.00\n",
      "\n",
      " Prediction: 0.4931558072566986 Actual: 0\n",
      "164/164 [==============================] - 4s 23ms/step - loss: 0.6630 - accuracy: 0.6391 - false_positives: 0.0000e+00 - false_negatives: 1888.0000 - val_loss: 0.6410 - val_accuracy: 0.6615 - val_false_positives: 0.0000e+00 - val_false_negatives: 197.0000\n",
      "Epoch 3/50\n",
      "1/1 [==============================] - 0s 18ms/step- loss: 0.6506 - accuracy: 0.6390 - false_positives: 0.0000e+00 - false_negatives: 1883.00\n",
      "\n",
      " Prediction: 0.4931558072566986 Actual: 0\n",
      "164/164 [==============================] - 4s 23ms/step - loss: 0.6504 - accuracy: 0.6391 - false_positives: 0.0000e+00 - false_negatives: 1888.0000 - val_loss: 0.6336 - val_accuracy: 0.6615 - val_false_positives: 0.0000e+00 - val_false_negatives: 197.0000\n",
      "Epoch 4/50\n",
      "1/1 [==============================] - 0s 22ms/step- loss: 0.6413 - accuracy: 0.6396 - false_positives: 0.0000e+00 - false_negatives: 1880.00\n",
      "\n",
      " Prediction: 0.4931558072566986 Actual: 0\n",
      "164/164 [==============================] - 4s 22ms/step - loss: 0.6415 - accuracy: 0.6391 - false_positives: 0.0000e+00 - false_negatives: 1888.0000 - val_loss: 0.6220 - val_accuracy: 0.6615 - val_false_positives: 0.0000e+00 - val_false_negatives: 197.0000\n",
      "Epoch 5/50\n",
      "1/1 [==============================] - 0s 17ms/step- loss: 0.6203 - accuracy: 0.6458 - false_positives: 8.0000 - false_negatives: 1828.00\n",
      "\n",
      " Prediction: 0.4931558072566986 Actual: 0\n",
      "164/164 [==============================] - 4s 23ms/step - loss: 0.6198 - accuracy: 0.6465 - false_positives: 8.0000 - false_negatives: 1841.0000 - val_loss: 0.5978 - val_accuracy: 0.6667 - val_false_positives: 4.0000 - val_false_negatives: 190.0000\n",
      "Epoch 6/50\n",
      "1/1 [==============================] - 0s 25ms/step- loss: 0.5507 - accuracy: 0.7007 - false_positives: 73.0000 - false_negatives: 1488.00\n",
      "\n",
      " Prediction: 0.4931558072566986 Actual: 0\n",
      "164/164 [==============================] - 4s 21ms/step - loss: 0.5508 - accuracy: 0.7006 - false_positives: 75.0000 - false_negatives: 1491.0000 - val_loss: 0.5355 - val_accuracy: 0.7388 - val_false_positives: 32.0000 - val_false_negatives: 120.0000\n",
      "Epoch 7/50\n",
      "1/1 [==============================] - 0s 18ms/step- loss: 0.4451 - accuracy: 0.8313 - false_positives: 303.0000 - false_negatives: 577.00\n",
      "\n",
      " Prediction: 0.4931558072566986 Actual: 0\n",
      "164/164 [==============================] - 4s 22ms/step - loss: 0.4451 - accuracy: 0.8314 - false_positives: 304.0000 - false_negatives: 578.0000 - val_loss: 0.5039 - val_accuracy: 0.7663 - val_false_positives: 72.0000 - val_false_negatives: 64.0000\n",
      "Epoch 8/50\n",
      "1/1 [==============================] - 0s 18ms/step- loss: 0.3679 - accuracy: 0.8756 - false_positives: 361.0000 - false_negatives: 288.00\n",
      "\n",
      " Prediction: 0.4931558072566986 Actual: 0\n",
      "164/164 [==============================] - 4s 22ms/step - loss: 0.3677 - accuracy: 0.8755 - false_positives: 363.0000 - false_negatives: 288.0000 - val_loss: 0.5005 - val_accuracy: 0.7612 - val_false_positives: 85.0000 - val_false_negatives: 54.0000\n",
      "Epoch 9/50\n",
      "1/1 [==============================] - 0s 20ms/step- loss: 0.3209 - accuracy: 0.8992 - false_positives: 344.0000 - false_negatives: 182.00\n",
      "\n",
      " Prediction: 0.4931558072566986 Actual: 0\n",
      "164/164 [==============================] - 4s 23ms/step - loss: 0.3207 - accuracy: 0.8993 - false_positives: 345.0000 - false_negatives: 182.0000 - val_loss: 0.5239 - val_accuracy: 0.7251 - val_false_positives: 122.0000 - val_false_negatives: 38.0000\n",
      "Epoch 10/50\n",
      "1/1 [==============================] - 0s 19ms/step- loss: 0.2845 - accuracy: 0.9116 - false_positives: 342.0000 - false_negatives: 119.00\n",
      "\n",
      " Prediction: 0.4931558072566986 Actual: 0\n",
      "164/164 [==============================] - 4s 23ms/step - loss: 0.2841 - accuracy: 0.9119 - false_positives: 342.0000 - false_negatives: 119.0000 - val_loss: 0.5350 - val_accuracy: 0.7595 - val_false_positives: 83.0000 - val_false_negatives: 57.0000\n",
      "Epoch 11/50\n",
      "1/1 [==============================] - 0s 19ms/step- loss: 0.2544 - accuracy: 0.9264 - false_positives: 291.0000 - false_negatives: 93.00\n",
      "\n",
      " Prediction: 0.4931558072566986 Actual: 0\n",
      "164/164 [==============================] - 4s 22ms/step - loss: 0.2547 - accuracy: 0.9262 - false_positives: 293.0000 - false_negatives: 93.0000 - val_loss: 0.5563 - val_accuracy: 0.7646 - val_false_positives: 78.0000 - val_false_negatives: 59.0000\n"
     ]
    }
   ],
   "source": [
    "history_6 = model_6.fit(training_padded, training_labels, batch_size=batch_size, epochs=epochs, validation_data=(testing_padded, testing_labels), callbacks=[stop, prediction_for_each_epoch()])"
   ]
  },
  {
   "cell_type": "markdown",
   "metadata": {},
   "source": [
    "custom training with decreased dimensions "
   ]
  },
  {
   "cell_type": "code",
   "execution_count": 84,
   "metadata": {},
   "outputs": [
    {
     "name": "stdout",
     "output_type": "stream",
     "text": [
      "Word Index Size: 8916\n"
     ]
    }
   ],
   "source": [
    "tf.keras.backend.clear_session()\n",
    "vocab_size = 10000\n",
    "max_length = 50\n",
    "tokenizer = tune_hyper(vocab_size, max_length, training_headlines, testing_headlines, training_labels, testing_labels)\n",
    "\n",
    "# adding padding \n",
    "training_sequences = tokenizer.texts_to_sequences(training_headlines)\n",
    "training_padded = pad_sequences(training_sequences, maxlen=max_length, padding=padding_type, truncating=trunc_type)\n",
    "\n",
    "testing_sequences = tokenizer.texts_to_sequences(testing_headlines)\n",
    "testing_padded = pad_sequences(testing_sequences, maxlen=max_length, padding=padding_type, truncating=trunc_type)\n",
    "\n",
    "training_labels = np.array(training_labels)\n",
    "testing_labels = np.array(testing_labels)"
   ]
  },
  {
   "cell_type": "code",
   "execution_count": 85,
   "metadata": {},
   "outputs": [],
   "source": [
    "embedding_dim = 12\n",
    "model_7 = tf.keras.Sequential([\n",
    "    tf.keras.layers.Embedding(vocab_size, embedding_dim, input_length=max_length),\n",
    "    #tf.keras.layers.Bidirectional(tf.keras.layers.LSTM(300)),#, return_sequences=False, dropout=0.25, recurrent_dropout=0.25)),\n",
    "    tf.keras.layers.Bidirectional(tf.keras.layers.LSTM(512, return_sequences=True)),\n",
    "    tf.keras.layers.Bidirectional(tf.keras.layers.LSTM(512)),\n",
    "    #tf.keras.layers.Dropout(0.5),\n",
    "    #tf.keras.layers.Dense(512, activation=\"relu\"),\n",
    "    tf.keras.layers.Dropout(0.5),\n",
    "    tf.keras.layers.Dense(4, activation=\"relu\"),\n",
    "    tf.keras.layers.Dense(1, activation=\"sigmoid\")\n",
    "])\n",
    "\n",
    "model_7.compile(loss=\"binary_crossentropy\", optimizer= tf.keras.optimizers.Adam(learning_rate=learning_rate), metrics=[\"accuracy\", tf.keras.metrics.FalsePositives(), tf.keras.metrics.FalseNegatives()])"
   ]
  },
  {
   "cell_type": "code",
   "execution_count": 86,
   "metadata": {},
   "outputs": [
    {
     "name": "stdout",
     "output_type": "stream",
     "text": [
      "Epoch 1/50\n",
      "1/1 [==============================] - 0s 302ms/step loss: 0.6568 - accuracy: 0.6378 - false_positives: 13.0000 - false_negatives: 1876.00\n",
      "\n",
      " Prediction: 0.4931558072566986 Actual: 0\n",
      "164/164 [==============================] - 14s 40ms/step - loss: 0.6568 - accuracy: 0.6379 - false_positives: 13.0000 - false_negatives: 1881.0000 - val_loss: 0.6340 - val_accuracy: 0.6615 - val_false_positives: 0.0000e+00 - val_false_negatives: 197.0000\n",
      "Epoch 2/50\n",
      "1/1 [==============================] - 0s 18ms/step- loss: 0.6181 - accuracy: 0.6647 - false_positives: 167.0000 - false_negatives: 1582.00\n",
      "\n",
      " Prediction: 0.4931558072566986 Actual: 0\n",
      "164/164 [==============================] - 5s 30ms/step - loss: 0.6190 - accuracy: 0.6641 - false_positives: 168.0000 - false_negatives: 1589.0000 - val_loss: 0.5461 - val_accuracy: 0.7113 - val_false_positives: 58.0000 - val_false_negatives: 110.0000\n",
      "Epoch 3/50\n",
      "1/1 [==============================] - 0s 18ms/step- loss: 0.4804 - accuracy: 0.7747 - false_positives: 470.0000 - false_negatives: 705.00\n",
      "\n",
      " Prediction: 0.4931558072566986 Actual: 0\n",
      "164/164 [==============================] - 5s 30ms/step - loss: 0.4805 - accuracy: 0.7746 - false_positives: 472.0000 - false_negatives: 707.0000 - val_loss: 0.5223 - val_accuracy: 0.7423 - val_false_positives: 100.0000 - val_false_negatives: 50.0000\n",
      "Epoch 4/50\n",
      "1/1 [==============================] - 0s 17ms/step- loss: 0.3715 - accuracy: 0.8485 - false_positives: 364.0000 - false_negatives: 426.00\n",
      "\n",
      " Prediction: 0.4931558072566986 Actual: 0\n",
      "164/164 [==============================] - 5s 30ms/step - loss: 0.3709 - accuracy: 0.8490 - false_positives: 364.0000 - false_negatives: 426.0000 - val_loss: 0.5158 - val_accuracy: 0.7612 - val_false_positives: 85.0000 - val_false_negatives: 54.0000\n",
      "Epoch 5/50\n",
      "1/1 [==============================] - 0s 17ms/step- loss: 0.3042 - accuracy: 0.8796 - false_positives: 327.0000 - false_negatives: 301.00\n",
      "\n",
      " Prediction: 0.4931558072566986 Actual: 0\n",
      "164/164 [==============================] - 5s 30ms/step - loss: 0.3037 - accuracy: 0.8799 - false_positives: 327.0000 - false_negatives: 301.0000 - val_loss: 0.5753 - val_accuracy: 0.7216 - val_false_positives: 116.0000 - val_false_negatives: 46.0000\n",
      "Epoch 6/50\n",
      "1/1 [==============================] - 0s 17ms/step- loss: 0.2474 - accuracy: 0.9062 - false_positives: 249.0000 - false_negatives: 240.00\n",
      "\n",
      " Prediction: 0.4931558072566986 Actual: 0\n",
      "164/164 [==============================] - 5s 30ms/step - loss: 0.2476 - accuracy: 0.9061 - false_positives: 249.0000 - false_negatives: 242.0000 - val_loss: 0.7117 - val_accuracy: 0.6976 - val_false_positives: 141.0000 - val_false_negatives: 35.0000\n",
      "Epoch 7/50\n",
      "1/1 [==============================] - 0s 16ms/step- loss: 0.2010 - accuracy: 0.9298 - false_positives: 192.0000 - false_negatives: 174.00\n",
      "\n",
      " Prediction: 0.4931558072566986 Actual: 0\n",
      "164/164 [==============================] - 5s 30ms/step - loss: 0.2010 - accuracy: 0.9298 - false_positives: 193.0000 - false_negatives: 174.0000 - val_loss: 0.7522 - val_accuracy: 0.6890 - val_false_positives: 145.0000 - val_false_negatives: 36.0000\n"
     ]
    }
   ],
   "source": [
    "history_7 = model_7.fit(training_padded, training_labels, batch_size=batch_size, epochs=epochs, validation_data=(testing_padded, testing_labels), callbacks=[stop, prediction_for_each_epoch()])"
   ]
  },
  {
   "cell_type": "markdown",
   "metadata": {},
   "source": [
    "another smaller model"
   ]
  },
  {
   "cell_type": "code",
   "execution_count": 88,
   "metadata": {},
   "outputs": [],
   "source": [
    "embedding_dim = 10\n",
    "model_8 = tf.keras.Sequential([\n",
    "    tf.keras.layers.Embedding(vocab_size, embedding_dim, input_length=max_length),\n",
    "    #tf.keras.layers.Bidirectional(tf.keras.layers.LSTM(300)),#, return_sequences=False, dropout=0.25, recurrent_dropout=0.25)),\n",
    "    #tf.keras.layers.Bidirectional(tf.keras.layers.LSTM(512, return_sequences=True)),\n",
    "    tf.keras.layers.Bidirectional(tf.keras.layers.LSTM(10)),\n",
    "    #tf.keras.layers.Dropout(0.5),\n",
    "    #tf.keras.layers.Dense(512, activation=\"relu\"),\n",
    "    tf.keras.layers.Dropout(0.5),\n",
    "    tf.keras.layers.Dense(4, activation=\"relu\"),\n",
    "    tf.keras.layers.Dense(1, activation=\"sigmoid\")\n",
    "])\n",
    "\n",
    "model_8.compile(loss=\"binary_crossentropy\", optimizer= tf.keras.optimizers.Adam(learning_rate=learning_rate), metrics=[\"accuracy\", tf.keras.metrics.FalsePositives(), tf.keras.metrics.FalseNegatives()])"
   ]
  },
  {
   "cell_type": "code",
   "execution_count": 89,
   "metadata": {},
   "outputs": [
    {
     "name": "stdout",
     "output_type": "stream",
     "text": [
      "Epoch 1/50\n",
      "1/1 [==============================] - 0s 17ms/step- loss: 0.6867 - accuracy: 0.6389 - false_positives_1: 1.0000 - false_negatives_1: 1871.00\n",
      "\n",
      " Prediction: 0.4931558072566986 Actual: 0\n",
      "164/164 [==============================] - 6s 19ms/step - loss: 0.6866 - accuracy: 0.6391 - false_positives_1: 1.0000 - false_negatives_1: 1887.0000 - val_loss: 0.6762 - val_accuracy: 0.6615 - val_false_positives_1: 0.0000e+00 - val_false_negatives_1: 197.0000\n",
      "Epoch 2/50\n",
      "1/1 [==============================] - 0s 17ms/step- loss: 0.6668 - accuracy: 0.6380 - false_positives_1: 0.0000e+00 - false_negatives_1: 1865.00\n",
      "\n",
      " Prediction: 0.4931558072566986 Actual: 0\n",
      "164/164 [==============================] - 2s 13ms/step - loss: 0.6662 - accuracy: 0.6391 - false_positives_1: 0.0000e+00 - false_negatives_1: 1888.0000 - val_loss: 0.6478 - val_accuracy: 0.6615 - val_false_positives_1: 0.0000e+00 - val_false_negatives_1: 197.0000\n",
      "Epoch 3/50\n",
      "1/1 [==============================] - 0s 17ms/step- loss: 0.6542 - accuracy: 0.6381 - false_positives_1: 0.0000e+00 - false_negatives_1: 1853.00\n",
      "\n",
      " Prediction: 0.4931558072566986 Actual: 0\n",
      "164/164 [==============================] - 2s 13ms/step - loss: 0.6536 - accuracy: 0.6391 - false_positives_1: 0.0000e+00 - false_negatives_1: 1888.0000 - val_loss: 0.6367 - val_accuracy: 0.6615 - val_false_positives_1: 0.0000e+00 - val_false_negatives_1: 197.0000\n",
      "Epoch 4/50\n",
      "1/1 [==============================] - 0s 17ms/step- loss: 0.6492 - accuracy: 0.6372 - false_positives_1: 0.0000e+00 - false_negatives_1: 1869.00\n",
      "\n",
      " Prediction: 0.4931558072566986 Actual: 0\n",
      "164/164 [==============================] - 2s 12ms/step - loss: 0.6481 - accuracy: 0.6391 - false_positives_1: 0.0000e+00 - false_negatives_1: 1888.0000 - val_loss: 0.6330 - val_accuracy: 0.6615 - val_false_positives_1: 0.0000e+00 - val_false_negatives_1: 197.0000\n",
      "Epoch 5/50\n",
      "1/1 [==============================] - 0s 18ms/step- loss: 0.6399 - accuracy: 0.6394 - false_positives_1: 0.0000e+00 - false_negatives_1: 1858.00\n",
      "\n",
      " Prediction: 0.4931558072566986 Actual: 0\n",
      "164/164 [==============================] - 2s 13ms/step - loss: 0.6402 - accuracy: 0.6391 - false_positives_1: 0.0000e+00 - false_negatives_1: 1888.0000 - val_loss: 0.6267 - val_accuracy: 0.6615 - val_false_positives_1: 0.0000e+00 - val_false_negatives_1: 197.0000\n",
      "Epoch 6/50\n",
      "1/1 [==============================] - 0s 16ms/step- loss: 0.6300 - accuracy: 0.6391 - false_positives_1: 0.0000e+00 - false_negatives_1: 1888.00\n",
      "\n",
      " Prediction: 0.4931558072566986 Actual: 0\n",
      "164/164 [==============================] - 2s 13ms/step - loss: 0.6300 - accuracy: 0.6391 - false_positives_1: 0.0000e+00 - false_negatives_1: 1888.0000 - val_loss: 0.6182 - val_accuracy: 0.6615 - val_false_positives_1: 0.0000e+00 - val_false_negatives_1: 197.0000\n",
      "Epoch 7/50\n",
      "1/1 [==============================] - 0s 17ms/step- loss: 0.6189 - accuracy: 0.6375 - false_positives_1: 0.0000e+00 - false_negatives_1: 1856.00\n",
      "\n",
      " Prediction: 0.4931558072566986 Actual: 0\n",
      "164/164 [==============================] - 2s 13ms/step - loss: 0.6175 - accuracy: 0.6391 - false_positives_1: 0.0000e+00 - false_negatives_1: 1888.0000 - val_loss: 0.6055 - val_accuracy: 0.6615 - val_false_positives_1: 0.0000e+00 - val_false_negatives_1: 197.0000\n",
      "Epoch 8/50\n",
      "1/1 [==============================] - 0s 17ms/step- loss: 0.6002 - accuracy: 0.6394 - false_positives_1: 0.0000e+00 - false_negatives_1: 1858.00\n",
      "\n",
      " Prediction: 0.4931558072566986 Actual: 0\n",
      "164/164 [==============================] - 2s 12ms/step - loss: 0.6004 - accuracy: 0.6391 - false_positives_1: 0.0000e+00 - false_negatives_1: 1888.0000 - val_loss: 0.5924 - val_accuracy: 0.6615 - val_false_positives_1: 0.0000e+00 - val_false_negatives_1: 197.0000\n",
      "Epoch 9/50\n",
      "1/1 [==============================] - 0s 17ms/step- loss: 0.5745 - accuracy: 0.6391 - false_positives_1: 0.0000e+00 - false_negatives_1: 1888.00\n",
      "\n",
      " Prediction: 0.4931558072566986 Actual: 0\n",
      "164/164 [==============================] - 2s 13ms/step - loss: 0.5745 - accuracy: 0.6391 - false_positives_1: 0.0000e+00 - false_negatives_1: 1888.0000 - val_loss: 0.5827 - val_accuracy: 0.6615 - val_false_positives_1: 0.0000e+00 - val_false_negatives_1: 197.0000\n",
      "Epoch 10/50\n",
      "1/1 [==============================] - 0s 17ms/step- loss: 0.5483 - accuracy: 0.6383 - false_positives_1: 0.0000e+00 - false_negatives_1: 1852.00\n",
      "\n",
      " Prediction: 0.4931558072566986 Actual: 0\n",
      "164/164 [==============================] - 2s 13ms/step - loss: 0.5477 - accuracy: 0.6391 - false_positives_1: 0.0000e+00 - false_negatives_1: 1888.0000 - val_loss: 0.5615 - val_accuracy: 0.6615 - val_false_positives_1: 0.0000e+00 - val_false_negatives_1: 197.0000\n",
      "Epoch 11/50\n",
      "1/1 [==============================] - 0s 17ms/step- loss: 0.5161 - accuracy: 0.6393 - false_positives_1: 0.0000e+00 - false_negatives_1: 1847.00\n",
      "\n",
      " Prediction: 0.4931558072566986 Actual: 0\n",
      "164/164 [==============================] - 2s 13ms/step - loss: 0.5148 - accuracy: 0.6408 - false_positives_1: 0.0000e+00 - false_negatives_1: 1879.0000 - val_loss: 0.5495 - val_accuracy: 0.6598 - val_false_positives_1: 1.0000 - val_false_negatives_1: 197.0000\n",
      "Epoch 12/50\n",
      "1/1 [==============================] - 0s 18ms/step- loss: 0.4877 - accuracy: 0.7182 - false_positives_1: 39.0000 - false_negatives_1: 1413.00\n",
      "\n",
      " Prediction: 0.4931558072566986 Actual: 0\n",
      "164/164 [==============================] - 2s 13ms/step - loss: 0.4884 - accuracy: 0.7180 - false_positives_1: 40.0000 - false_negatives_1: 1435.0000 - val_loss: 0.5419 - val_accuracy: 0.7371 - val_false_positives_1: 11.0000 - val_false_negatives_1: 142.0000\n",
      "Epoch 13/50\n",
      "1/1 [==============================] - 0s 17ms/step- loss: 0.4659 - accuracy: 0.7700 - false_positives_1: 58.0000 - false_negatives_1: 1127.00\n",
      "\n",
      " Prediction: 0.4931558072566986 Actual: 0\n",
      "164/164 [==============================] - 2s 13ms/step - loss: 0.4658 - accuracy: 0.7696 - false_positives_1: 60.0000 - false_negatives_1: 1145.0000 - val_loss: 0.5354 - val_accuracy: 0.7646 - val_false_positives_1: 18.0000 - val_false_negatives_1: 119.0000\n",
      "Epoch 14/50\n",
      "1/1 [==============================] - 0s 17ms/step- loss: 0.4450 - accuracy: 0.7939 - false_positives_1: 67.0000 - false_negatives_1: 995.00\n",
      "\n",
      " Prediction: 0.4931558072566986 Actual: 0\n",
      "164/164 [==============================] - 2s 13ms/step - loss: 0.4443 - accuracy: 0.7949 - false_positives_1: 69.0000 - false_negatives_1: 1004.0000 - val_loss: 0.5307 - val_accuracy: 0.7680 - val_false_positives_1: 19.0000 - val_false_negatives_1: 116.0000\n",
      "Epoch 15/50\n",
      "1/1 [==============================] - 0s 17ms/step- loss: 0.4232 - accuracy: 0.8219 - false_positives_1: 70.0000 - false_negatives_1: 842.00\n",
      "\n",
      " Prediction: 0.4931558072566986 Actual: 0\n",
      "164/164 [==============================] - 2s 13ms/step - loss: 0.4246 - accuracy: 0.8211 - false_positives_1: 74.0000 - false_negatives_1: 862.0000 - val_loss: 0.5278 - val_accuracy: 0.7732 - val_false_positives_1: 27.0000 - val_false_negatives_1: 105.0000\n",
      "Epoch 16/50\n",
      "1/1 [==============================] - 0s 17ms/step- loss: 0.4104 - accuracy: 0.8453 - false_positives_1: 94.0000 - false_negatives_1: 698.00\n",
      "\n",
      " Prediction: 0.4931558072566986 Actual: 0\n",
      "164/164 [==============================] - 2s 13ms/step - loss: 0.4102 - accuracy: 0.8446 - false_positives_1: 96.0000 - false_negatives_1: 717.0000 - val_loss: 0.5408 - val_accuracy: 0.7595 - val_false_positives_1: 19.0000 - val_false_negatives_1: 121.0000\n",
      "Epoch 17/50\n",
      "1/1 [==============================] - 0s 18ms/step- loss: 0.3977 - accuracy: 0.8619 - false_positives_1: 92.0000 - false_negatives_1: 624.00\n",
      "\n",
      " Prediction: 0.4931558072566986 Actual: 0\n",
      "164/164 [==============================] - 2s 13ms/step - loss: 0.3978 - accuracy: 0.8618 - false_positives_1: 92.0000 - false_negatives_1: 631.0000 - val_loss: 0.5271 - val_accuracy: 0.7715 - val_false_positives_1: 26.0000 - val_false_negatives_1: 107.0000\n",
      "Epoch 18/50\n",
      "1/1 [==============================] - 0s 16ms/step- loss: 0.3778 - accuracy: 0.8760 - false_positives_1: 101.0000 - false_negatives_1: 538.00\n",
      "\n",
      " Prediction: 0.4931558072566986 Actual: 0\n",
      "164/164 [==============================] - 2s 13ms/step - loss: 0.3777 - accuracy: 0.8755 - false_positives_1: 102.0000 - false_negatives_1: 549.0000 - val_loss: 0.5447 - val_accuracy: 0.7680 - val_false_positives_1: 23.0000 - val_false_negatives_1: 112.0000\n",
      "Epoch 19/50\n",
      "1/1 [==============================] - 0s 17ms/step- loss: 0.3626 - accuracy: 0.8865 - false_positives_1: 121.0000 - false_negatives_1: 464.00\n",
      "\n",
      " Prediction: 0.4931558072566986 Actual: 0\n",
      "164/164 [==============================] - 2s 13ms/step - loss: 0.3627 - accuracy: 0.8866 - false_positives_1: 122.0000 - false_negatives_1: 471.0000 - val_loss: 0.5275 - val_accuracy: 0.7680 - val_false_positives_1: 41.0000 - val_false_negatives_1: 94.0000\n",
      "Epoch 20/50\n",
      "1/1 [==============================] - 0s 17ms/step- loss: 0.3417 - accuracy: 0.9035 - false_positives_1: 137.0000 - false_negatives_1: 368.00\n",
      "\n",
      " Prediction: 0.4931558072566986 Actual: 0\n",
      "164/164 [==============================] - 2s 13ms/step - loss: 0.3417 - accuracy: 0.9035 - false_positives_1: 137.0000 - false_negatives_1: 368.0000 - val_loss: 0.5235 - val_accuracy: 0.7766 - val_false_positives_1: 50.0000 - val_false_negatives_1: 80.0000\n",
      "Epoch 21/50\n",
      "1/1 [==============================] - 0s 19ms/step- loss: 0.3252 - accuracy: 0.9049 - false_positives_1: 176.0000 - false_negatives_1: 311.00\n",
      "\n",
      " Prediction: 0.4931558072566986 Actual: 0\n",
      "164/164 [==============================] - 2s 13ms/step - loss: 0.3250 - accuracy: 0.9048 - false_positives_1: 184.0000 - false_negatives_1: 314.0000 - val_loss: 0.5205 - val_accuracy: 0.7784 - val_false_positives_1: 65.0000 - val_false_negatives_1: 64.0000\n",
      "Epoch 22/50\n",
      "1/1 [==============================] - 0s 18ms/step- loss: 0.3004 - accuracy: 0.9144 - false_positives_1: 183.0000 - false_negatives_1: 261.00\n",
      "\n",
      " Prediction: 0.4931558072566986 Actual: 0\n",
      "164/164 [==============================] - 2s 13ms/step - loss: 0.2997 - accuracy: 0.9147 - false_positives_1: 184.0000 - false_negatives_1: 262.0000 - val_loss: 0.5333 - val_accuracy: 0.7766 - val_false_positives_1: 58.0000 - val_false_negatives_1: 72.0000\n",
      "Epoch 23/50\n",
      "1/1 [==============================] - 0s 17ms/step- loss: 0.2804 - accuracy: 0.9163 - false_positives_1: 224.0000 - false_negatives_1: 214.00\n",
      "\n",
      " Prediction: 0.4931558072566986 Actual: 0\n",
      "164/164 [==============================] - 2s 13ms/step - loss: 0.2804 - accuracy: 0.9163 - false_positives_1: 224.0000 - false_negatives_1: 214.0000 - val_loss: 0.5456 - val_accuracy: 0.7749 - val_false_positives_1: 61.0000 - val_false_negatives_1: 70.0000\n",
      "Epoch 24/50\n",
      "1/1 [==============================] - 0s 17ms/step- loss: 0.2663 - accuracy: 0.9223 - false_positives_1: 212.0000 - false_negatives_1: 191.00\n",
      "\n",
      " Prediction: 0.4931558072566986 Actual: 0\n",
      "164/164 [==============================] - 2s 13ms/step - loss: 0.2656 - accuracy: 0.9222 - false_positives_1: 215.0000 - false_negatives_1: 192.0000 - val_loss: 0.5642 - val_accuracy: 0.7680 - val_false_positives_1: 59.0000 - val_false_negatives_1: 76.0000\n"
     ]
    }
   ],
   "source": [
    "history_8 = model_8.fit(training_padded, training_labels, batch_size=batch_size, epochs=epochs, validation_data=(testing_padded, testing_labels), callbacks=[stop, prediction_for_each_epoch()])"
   ]
  },
  {
   "cell_type": "markdown",
   "metadata": {},
   "source": [
    "Plot findings."
   ]
  },
  {
   "cell_type": "code",
   "execution_count": 75,
   "metadata": {},
   "outputs": [],
   "source": [
    "def plot_graphs(history, string, x, y, ax):\n",
    "    ax[x,y].plot(history.history[string])\n",
    "    ax[x,y].plot(history.history['val_'+string])\n",
    "    ax[x,y].set_xlabel(\"Epochs\")\n",
    "    ax[x,y].set_ylabel(string)\n",
    "    ax[x,y].legend([string, 'val_'+string])\n",
    "\n",
    "def plot_lr(history):\n",
    "    lrs = 1e-8 * (10 ** (np.arange(epochs) / 20))\n",
    "\n",
    "    # Set the figure size\n",
    "    plt.figure(figsize=(10, 6))\n",
    "\n",
    "    # Set the grid\n",
    "    plt.grid(True)\n",
    "\n",
    "    # Plot the loss in log scale\n",
    "    plt.semilogx(lrs, history.history[\"val_loss\"])\n",
    "\n",
    "    # Increase the tickmarks size\n",
    "    plt.tick_params('both', length=10, width=1, which='both')\n",
    "\n",
    "    # Set the plot boundaries\n",
    "    plt.axis([1e-8, 1e-3, 0, 2])\n",
    "    plt.show()"
   ]
  },
  {
   "cell_type": "code",
   "execution_count": 90,
   "metadata": {},
   "outputs": [
    {
     "data": {
      "image/png": "[encoded data removed]",
      "text/plain": [
       "<Figure size 720x720 with 9 Axes>"
      ]
     },
     "metadata": {
      "needs_background": "light"
     },
     "output_type": "display_data"
    }
   ],
   "source": [
    "#plot_lr(history)\n",
    "f, ax = plt.subplots(3, 3,figsize=(10, 10))\n",
    "plot_graphs(history, \"accuracy\", 0, 0, ax)\n",
    "plot_graphs(history_1, \"accuracy\", 0, 1, ax)\n",
    "plot_graphs(history_2, \"accuracy\", 0, 2, ax)\n",
    "plot_graphs(history_3, \"accuracy\", 1, 0, ax)\n",
    "plot_graphs(history_4, \"accuracy\", 1, 1, ax)\n",
    "plot_graphs(history_5, \"accuracy\", 1, 2, ax)\n",
    "plot_graphs(history_6, \"accuracy\", 2, 0, ax)\n",
    "plot_graphs(history_7, \"accuracy\", 2, 1, ax)\n",
    "plot_graphs(history_8, \"accuracy\", 2, 2, ax)\n",
    "\n",
    "# plot_graphs(history, \"loss\")\n",
    "# plot_graphs(history, \"false_positives\")"
   ]
  },
  {
   "cell_type": "code",
   "execution_count": 91,
   "metadata": {},
   "outputs": [
    {
     "data": {
      "image/png": "[encoded data removed]",
      "text/plain": [
       "<Figure size 720x720 with 9 Axes>"
      ]
     },
     "metadata": {
      "needs_background": "light"
     },
     "output_type": "display_data"
    }
   ],
   "source": [
    "f, ax = plt.subplots(3, 3,figsize=(10, 10))\n",
    "plot_graphs(history, \"loss\", 0, 0, ax)\n",
    "plot_graphs(history_1, \"loss\", 0, 1, ax)\n",
    "plot_graphs(history_2, \"loss\", 0, 2, ax)\n",
    "plot_graphs(history_3, \"loss\", 1, 0, ax)\n",
    "plot_graphs(history_4, \"loss\", 1, 1, ax)\n",
    "plot_graphs(history_5, \"loss\", 1, 2, ax)\n",
    "plot_graphs(history_6, \"loss\", 2, 0, ax)\n",
    "plot_graphs(history_7, \"loss\", 2, 1, ax)\n",
    "plot_graphs(history_8, \"loss\", 2, 2, ax)"
   ]
  },
  {
   "cell_type": "markdown",
   "metadata": {},
   "source": [
    "# Overview of model experimentation"
   ]
  },
  {
   "cell_type": "markdown",
   "metadata": {},
   "source": [
    "| model #                        | val_accuracy | val_loss | false_positives | false_negatives |\n",
    "|--------------------------------|--------------|----------|-----------------|-----------------|\n",
    "| baseline                       | 0.7749       | 0.5903   | 31              | 100             |\n",
    "| model_1(maxPool)               | 0.7423       | 0.6955   | 83              | 67              |\n",
    "| model_2(no dense)              | 0.7612       | 0.6291   | 23              | 116             |\n",
    "| model_3(5k vocab)              | 0.7801       | 0.6703   | 41              | 87              |\n",
    "| model_4(7.5k vocab)            | 0.7835       | 0.5239   | 52              | 74              |\n",
    "| model_5(50 word length)        | 0.7784       | 0.5122   | 46              | 83              |\n",
    "| model_6(custom1)               | 0.7251       | 0.5239   | 122             | 38              |\n",
    "| model_7(custom2 w smaller dim) | 0.6890       | 0.7522   | 145             | 36              |\n",
    "| model_8(smaller custom model)  | 0.7680       | 0.5642   | 59              | 76              |"
   ]
  },
  {
   "cell_type": "markdown",
   "metadata": {},
   "source": [
    "Download Embedding Space"
   ]
  },
  {
   "cell_type": "code",
   "execution_count": null,
   "metadata": {},
   "outputs": [],
   "source": [
    "# Open writeable files\n",
    "out_v = io.open('embeds/vecs.tsv', 'w', encoding='utf-8')\n",
    "out_m = io.open('embeds/meta.tsv', 'w', encoding='utf-8')\n",
    "\n",
    "# Get the embedding layer from the model (i.e. first layer)\n",
    "embedding_layer = model.layers[0]\n",
    "\n",
    "# Get the weights of the embedding layer\n",
    "embedding_weights = embedding_layer.get_weights()[0]\n",
    "\n",
    "# Print the shape. Expected is (vocab_size, embedding_dim)\n",
    "print(embedding_weights.shape) \n",
    "\n",
    "# Initialize the loop. Start counting at `1` because `0` is just for the padding\n",
    "for word_num in range(1, len(tokenizer.word_index)):\n",
    "\n",
    "  # Get the word associated at the current index\n",
    "  word_name = tokenizer.index_word[word_num]\n",
    "\n",
    "  # Get the embedding weights associated with the current index\n",
    "  word_embedding = embedding_weights[word_num]\n",
    "\n",
    "  # Write the word name\n",
    "  out_m.write(word_name + \"\\n\")\n",
    "\n",
    "  # Write the word embedding\n",
    "  out_v.write('\\t'.join([str(x) for x in word_embedding]) + \"\\n\")\n",
    "\n",
    "# Close the files\n",
    "out_v.close()\n",
    "out_m.close()"
   ]
  },
  {
   "cell_type": "markdown",
   "metadata": {},
   "source": [
    "Save model"
   ]
  },
  {
   "cell_type": "code",
   "execution_count": 13,
   "metadata": {},
   "outputs": [
    {
     "ename": "",
     "evalue": "",
     "output_type": "error",
     "traceback": [
      "\u001b[1;31mThe Kernel crashed while executing code in the the current cell or a previous cell. Please review the code in the cell(s) to identify a possible cause of the failure. Click <a href='https://aka.ms/vscodeJupyterKernelCrash'>here</a> for more info. View Jupyter <a href='command:jupyter.viewOutput'>log</a> for further details."
     ]
    }
   ],
   "source": [
    "model.save(\"models/model.h5\")\n",
    "with open(\"models/word_index.json\", \"w+\", encoding=\"utf-8\") as _file:\n",
    "    _file.write(json.dumps(tokenizer.word_index, indent=4))"
   ]
  }
 ],
 "metadata": {
  "kernelspec": {
   "display_name": "Python 3.10.5 64-bit",
   "language": "python",
   "name": "python3"
  },
  "language_info": {
   "codemirror_mode": {
    "name": "ipython",
    "version": 3
   },
   "file_extension": ".py",
   "mimetype": "text/x-python",
   "name": "python",
   "nbconvert_exporter": "python",
   "pygments_lexer": "ipython3",
   "version": "3.10.5"
  },
  "orig_nbformat": 4,
  "vscode": {
   "interpreter": {
    "hash": "4f94a17b9da213f3b968d3e6475dbb255a6927325df25eb3ceccf3232f57af5a"
   }
  }
 },
 "nbformat": 4,
 "nbformat_minor": 2
}
